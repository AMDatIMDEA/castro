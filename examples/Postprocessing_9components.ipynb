{
 "cells": [
  {
   "cell_type": "markdown",
   "id": "b5d41826-9efc-44c9-af74-2e7fda460d45",
   "metadata": {},
   "source": [
    "## Postprocessing outputs from 9 dimensional problem to receive final suggestions for experiments\n",
    "\n",
    "This Notebook performs the postprocessing for the 9 dimensional problem.\n",
    "\n",
    "As components we have the polymer PA56, phytic acid, the amino-based components (MEL, THAM, CS, BN) and the metallic-based components (ZnBO, CABO, HNT).\n",
    "\n",
    "Here loaded from Outputs_orig folder corresponding to the results shown in the paper, but can also run Sampling_4components notebook and then load results from Outputs folder here\n",
    "\n",
    "\n",
    "It contains the following steps:\n",
    "1. Import all output files and format as data frames\n",
    "2. LHS calculation and export to file, discrepancies and variance**\n",
    "3. LHSMDU calculation and export to file, discrepancies and variance**\n",
    "4. Import and format data set\n",
    "5. Reduce to 2 dimensions and plot\n",
    "6. Calculate other discrepancies and variance to check space filling properties/ uniformity\n",
    "7. Distribution plots\n",
    "8. Discrepancy for LHS and LHSMDU without constraints\n",
    "\n",
    "\n",
    "written by Christina Schenk\n",
    "\n",
    "last updated on 05/07/2024\n",
    "\n",
    "tested on Christina's M1 Mac"
   ]
  },
  {
   "cell_type": "markdown",
   "id": "e853b38c-2dc6-4101-a580-5866ab07f151",
   "metadata": {},
   "source": [
    "#### Import Python Packages"
   ]
  },
  {
   "cell_type": "code",
   "execution_count": 1,
   "id": "4a7add9c-2ea0-4659-af25-5249bd696e87",
   "metadata": {
    "tags": []
   },
   "outputs": [],
   "source": [
    "import pandas as pd\n",
    "import os\n",
    "from pathlib import Path  \n",
    "import csv\n",
    "from scipy.stats import qmc\n",
    "import lhsmdu\n",
    "import numpy as np\n",
    "from sklearn.decomposition import PCA\n",
    "from sklearn.preprocessing import StandardScaler\n",
    "\n",
    "import sys\n",
    "sys.path.append('..')\n",
    "from src.plot import *\n",
    "from src.conditionedSampling import *\n"
   ]
  },
  {
   "cell_type": "markdown",
   "id": "93f49113-5842-48fb-8994-7ba50fc647c5",
   "metadata": {},
   "source": [
    "### **1. Import all output files and format as data frames**"
   ]
  },
  {
   "cell_type": "code",
   "execution_count": 2,
   "id": "2235015a-d7ab-4412-afe8-fa5883f366b1",
   "metadata": {
    "tags": []
   },
   "outputs": [],
   "source": [
    "filename_lhs_amino = \"Outputs_orig/LHS_with_new_permutations_correct_suggestions_allselected_imp_ext_subprobs_amino-based.csv\"\n",
    "filename_lhsmdu_amino = \"Outputs_orig/LHSMDU_with_new_permutations_correct_suggestions_allselected_imp_ext_subprobs_amino-based.csv\"\n",
    "filename_lhs_metallic = \"Outputs_orig/LHS_with_new_permutations_correct_suggestions_allselected_imp_ext_subprobs_metallic-based.csv\"\n",
    "filename_lhsmdu_metallic = \"Outputs_orig/LHSMDU_with_new_permutations_correct_suggestions_allselected_imp_ext_subprobs_metallic-based.csv\"\n",
    "filename_lhs = \"Outputs_orig/LHS_with_new_permutations_correct_suggestions_allselected_imp_ext_subprobs_improve.csv\"\n",
    "filename_lhsmdu = \"Outputs_orig/LHSMDU_with_new_permutations_correct_suggestions_allselected_imp_ext_subprobs_improve.csv\"\n",
    "\n",
    "df_lhs_amino = pd.read_csv(filename_lhs_amino)\n",
    "df_lhs_amino = df_lhs_amino.loc[:, ~df_lhs_amino.columns.str.contains('^Unnamed')]\n",
    "df_lhsmdu_amino = pd.read_csv(filename_lhsmdu_amino)\n",
    "df_lhsmdu_amino = df_lhsmdu_amino.loc[:, ~df_lhsmdu_amino.columns.str.contains('^Unnamed')]\n",
    "df_lhs_metallic = pd.read_csv(filename_lhs_metallic)\n",
    "df_lhs_metallic = df_lhs_metallic.loc[:, ~df_lhs_metallic.columns.str.contains('^Unnamed')]\n",
    "df_lhsmdu_metallic = pd.read_csv(filename_lhsmdu_metallic)\n",
    "df_lhsmdu_metallic = df_lhsmdu_metallic.loc[:, ~df_lhsmdu_metallic.columns.str.contains('^Unnamed')]\n",
    "df_lhs = pd.read_csv(filename_lhs)\n",
    "df_lhs = df_lhs.loc[:, ~df_lhs.columns.str.contains('^Unnamed')]\n",
    "df_lhsmdu= pd.read_csv(filename_lhsmdu)\n",
    "df_lhsmdu = df_lhsmdu.loc[:, ~df_lhsmdu.columns.str.contains('^Unnamed')]\n"
   ]
  },
  {
   "cell_type": "code",
   "execution_count": 3,
   "id": "7fc4dc1a-290d-4f73-9362-a1af5553721d",
   "metadata": {},
   "outputs": [],
   "source": [
    "df_lhs.columns = [\"PA56\", \"PhA\", \"amino-based\", \"metallic-based\"]\n",
    "df_lhsmdu.columns = [\"PA56\", \"PhA\", \"amino-based\", \"metallic-based\"]\n",
    "df_lhs_amino.columns = [\"MEL\", \"THAM\", \"CS\", \"BN\"]\n",
    "df_lhsmdu_amino.columns = [\"MEL\", \"THAM\", \"CS\", \"BN\"]\n",
    "df_lhs_metallic.columns = [\"ZnBO\", \"CABO\", \"HNT\"]\n",
    "df_lhsmdu_metallic.columns = [\"ZnBO\", \"CABO\", \"HNT\"]"
   ]
  },
  {
   "cell_type": "markdown",
   "id": "ffe9c56e-a97d-45b9-bedc-a735d404f30a",
   "metadata": {},
   "source": [
    "### **2. LHS calculation and export to file, discrepancies and variance**"
   ]
  },
  {
   "cell_type": "code",
   "execution_count": 4,
   "id": "6a9dd71a-243b-4777-8975-00e680293780",
   "metadata": {},
   "outputs": [],
   "source": [
    "\n",
    "column_names = [df_lhs.columns.values.tolist(), df_lhs_amino.columns.values.tolist(), df_lhs_metallic.columns.values.tolist()]\n",
    "df_all = pd.concat([df_lhs, df_lhs_amino, df_lhs_metallic], axis=1, join=\"inner\")\n"
   ]
  },
  {
   "cell_type": "code",
   "execution_count": 5,
   "id": "c48f28bf-6784-40ee-ab9d-77d650e3537d",
   "metadata": {},
   "outputs": [
    {
     "data": {
      "text/html": [
       "<div>\n",
       "<style scoped>\n",
       "    .dataframe tbody tr th:only-of-type {\n",
       "        vertical-align: middle;\n",
       "    }\n",
       "\n",
       "    .dataframe tbody tr th {\n",
       "        vertical-align: top;\n",
       "    }\n",
       "\n",
       "    .dataframe thead th {\n",
       "        text-align: right;\n",
       "    }\n",
       "</style>\n",
       "<table border=\"1\" class=\"dataframe\">\n",
       "  <thead>\n",
       "    <tr style=\"text-align: right;\">\n",
       "      <th></th>\n",
       "      <th>PA56</th>\n",
       "      <th>PhA</th>\n",
       "      <th>amino-based</th>\n",
       "      <th>metallic-based</th>\n",
       "      <th>MEL</th>\n",
       "      <th>THAM</th>\n",
       "      <th>CS</th>\n",
       "      <th>BN</th>\n",
       "      <th>ZnBO</th>\n",
       "      <th>CABO</th>\n",
       "      <th>HNT</th>\n",
       "    </tr>\n",
       "  </thead>\n",
       "  <tbody>\n",
       "    <tr>\n",
       "      <th>0</th>\n",
       "      <td>0.902</td>\n",
       "      <td>0.024</td>\n",
       "      <td>0.021</td>\n",
       "      <td>0.054</td>\n",
       "      <td>0.000000</td>\n",
       "      <td>0.000000</td>\n",
       "      <td>1.000000</td>\n",
       "      <td>0.0</td>\n",
       "      <td>0.0</td>\n",
       "      <td>1.0</td>\n",
       "      <td>0.0</td>\n",
       "    </tr>\n",
       "    <tr>\n",
       "      <th>1</th>\n",
       "      <td>0.859</td>\n",
       "      <td>0.044</td>\n",
       "      <td>0.041</td>\n",
       "      <td>0.057</td>\n",
       "      <td>0.000000</td>\n",
       "      <td>0.000000</td>\n",
       "      <td>1.000000</td>\n",
       "      <td>0.0</td>\n",
       "      <td>1.0</td>\n",
       "      <td>0.0</td>\n",
       "      <td>0.0</td>\n",
       "    </tr>\n",
       "    <tr>\n",
       "      <th>2</th>\n",
       "      <td>0.975</td>\n",
       "      <td>0.010</td>\n",
       "      <td>0.004</td>\n",
       "      <td>0.011</td>\n",
       "      <td>0.000000</td>\n",
       "      <td>0.000000</td>\n",
       "      <td>0.000000</td>\n",
       "      <td>1.0</td>\n",
       "      <td>1.0</td>\n",
       "      <td>0.0</td>\n",
       "      <td>0.0</td>\n",
       "    </tr>\n",
       "    <tr>\n",
       "      <th>3</th>\n",
       "      <td>0.906</td>\n",
       "      <td>0.027</td>\n",
       "      <td>0.038</td>\n",
       "      <td>0.029</td>\n",
       "      <td>0.368535</td>\n",
       "      <td>0.000000</td>\n",
       "      <td>0.631465</td>\n",
       "      <td>0.0</td>\n",
       "      <td>0.0</td>\n",
       "      <td>1.0</td>\n",
       "      <td>0.0</td>\n",
       "    </tr>\n",
       "    <tr>\n",
       "      <th>4</th>\n",
       "      <td>0.933</td>\n",
       "      <td>0.019</td>\n",
       "      <td>0.005</td>\n",
       "      <td>0.044</td>\n",
       "      <td>0.732822</td>\n",
       "      <td>0.000000</td>\n",
       "      <td>0.267178</td>\n",
       "      <td>0.0</td>\n",
       "      <td>0.0</td>\n",
       "      <td>1.0</td>\n",
       "      <td>0.0</td>\n",
       "    </tr>\n",
       "    <tr>\n",
       "      <th>...</th>\n",
       "      <td>...</td>\n",
       "      <td>...</td>\n",
       "      <td>...</td>\n",
       "      <td>...</td>\n",
       "      <td>...</td>\n",
       "      <td>...</td>\n",
       "      <td>...</td>\n",
       "      <td>...</td>\n",
       "      <td>...</td>\n",
       "      <td>...</td>\n",
       "      <td>...</td>\n",
       "    </tr>\n",
       "    <tr>\n",
       "      <th>85</th>\n",
       "      <td>0.819</td>\n",
       "      <td>0.025</td>\n",
       "      <td>0.045</td>\n",
       "      <td>0.111</td>\n",
       "      <td>0.509312</td>\n",
       "      <td>0.490688</td>\n",
       "      <td>0.000000</td>\n",
       "      <td>0.0</td>\n",
       "      <td>1.0</td>\n",
       "      <td>0.0</td>\n",
       "      <td>0.0</td>\n",
       "    </tr>\n",
       "    <tr>\n",
       "      <th>86</th>\n",
       "      <td>0.921</td>\n",
       "      <td>0.044</td>\n",
       "      <td>0.006</td>\n",
       "      <td>0.030</td>\n",
       "      <td>0.463863</td>\n",
       "      <td>0.536137</td>\n",
       "      <td>0.000000</td>\n",
       "      <td>0.0</td>\n",
       "      <td>0.0</td>\n",
       "      <td>1.0</td>\n",
       "      <td>0.0</td>\n",
       "    </tr>\n",
       "    <tr>\n",
       "      <th>87</th>\n",
       "      <td>0.851</td>\n",
       "      <td>0.014</td>\n",
       "      <td>0.002</td>\n",
       "      <td>0.133</td>\n",
       "      <td>1.000000</td>\n",
       "      <td>0.000000</td>\n",
       "      <td>0.000000</td>\n",
       "      <td>0.0</td>\n",
       "      <td>0.0</td>\n",
       "      <td>1.0</td>\n",
       "      <td>0.0</td>\n",
       "    </tr>\n",
       "    <tr>\n",
       "      <th>88</th>\n",
       "      <td>0.836</td>\n",
       "      <td>0.004</td>\n",
       "      <td>0.032</td>\n",
       "      <td>0.128</td>\n",
       "      <td>0.000000</td>\n",
       "      <td>0.000000</td>\n",
       "      <td>1.000000</td>\n",
       "      <td>0.0</td>\n",
       "      <td>0.0</td>\n",
       "      <td>1.0</td>\n",
       "      <td>0.0</td>\n",
       "    </tr>\n",
       "    <tr>\n",
       "      <th>89</th>\n",
       "      <td>0.955</td>\n",
       "      <td>0.039</td>\n",
       "      <td>0.000</td>\n",
       "      <td>0.006</td>\n",
       "      <td>1.000000</td>\n",
       "      <td>0.000000</td>\n",
       "      <td>0.000000</td>\n",
       "      <td>0.0</td>\n",
       "      <td>0.0</td>\n",
       "      <td>1.0</td>\n",
       "      <td>0.0</td>\n",
       "    </tr>\n",
       "  </tbody>\n",
       "</table>\n",
       "<p>90 rows × 11 columns</p>\n",
       "</div>"
      ],
      "text/plain": [
       "     PA56    PhA  amino-based  metallic-based       MEL      THAM        CS   \n",
       "0   0.902  0.024        0.021           0.054  0.000000  0.000000  1.000000  \\\n",
       "1   0.859  0.044        0.041           0.057  0.000000  0.000000  1.000000   \n",
       "2   0.975  0.010        0.004           0.011  0.000000  0.000000  0.000000   \n",
       "3   0.906  0.027        0.038           0.029  0.368535  0.000000  0.631465   \n",
       "4   0.933  0.019        0.005           0.044  0.732822  0.000000  0.267178   \n",
       "..    ...    ...          ...             ...       ...       ...       ...   \n",
       "85  0.819  0.025        0.045           0.111  0.509312  0.490688  0.000000   \n",
       "86  0.921  0.044        0.006           0.030  0.463863  0.536137  0.000000   \n",
       "87  0.851  0.014        0.002           0.133  1.000000  0.000000  0.000000   \n",
       "88  0.836  0.004        0.032           0.128  0.000000  0.000000  1.000000   \n",
       "89  0.955  0.039        0.000           0.006  1.000000  0.000000  0.000000   \n",
       "\n",
       "     BN  ZnBO  CABO  HNT  \n",
       "0   0.0   0.0   1.0  0.0  \n",
       "1   0.0   1.0   0.0  0.0  \n",
       "2   1.0   1.0   0.0  0.0  \n",
       "3   0.0   0.0   1.0  0.0  \n",
       "4   0.0   0.0   1.0  0.0  \n",
       "..  ...   ...   ...  ...  \n",
       "85  0.0   1.0   0.0  0.0  \n",
       "86  0.0   0.0   1.0  0.0  \n",
       "87  0.0   0.0   1.0  0.0  \n",
       "88  0.0   0.0   1.0  0.0  \n",
       "89  0.0   0.0   1.0  0.0  \n",
       "\n",
       "[90 rows x 11 columns]"
      ]
     },
     "execution_count": 5,
     "metadata": {},
     "output_type": "execute_result"
    }
   ],
   "source": [
    "df_all"
   ]
  },
  {
   "cell_type": "code",
   "execution_count": 6,
   "id": "cc756ee2-5d22-42ee-b70b-472148e98952",
   "metadata": {
    "tags": []
   },
   "outputs": [],
   "source": [
    "df_all[\"MEL\"] = df_all[\"MEL\"]*df_all[\"amino-based\"]\n",
    "df_all[\"MEL\"] = df_all[\"MEL\"].round(3)\n",
    "df_all[\"THAM\"] = df_all[\"THAM\"]*df_all[\"amino-based\"]\n",
    "df_all[\"THAM\"] = df_all[\"THAM\"].round(3)\n",
    "df_all[\"CS\"] = df_all[\"CS\"]*df_all[\"amino-based\"]\n",
    "df_all[\"CS\"] = df_all[\"CS\"].round(3)\n",
    "df_all[\"BN\"] = df_all[\"BN\"]*df_all[\"amino-based\"]\n",
    "df_all[\"BN\"] = df_all[\"BN\"].round(3)"
   ]
  },
  {
   "cell_type": "code",
   "execution_count": 7,
   "id": "b2fa5781-2ddf-4bb3-8696-2edf98241994",
   "metadata": {
    "tags": []
   },
   "outputs": [],
   "source": [
    "df_all[\"ZnBO\"] = df_all[\"ZnBO\"]*df_all[\"metallic-based\"]\n",
    "df_all[\"ZnBO\"] = df_all[\"ZnBO\"].round(3)\n",
    "df_all[\"CABO\"] = df_all[\"CABO\"]*df_all[\"metallic-based\"]\n",
    "df_all[\"CABO\"] = df_all[\"CABO\"].round(3)\n",
    "df_all[\"HNT\"] = df_all[\"HNT\"]*df_all[\"metallic-based\"]\n",
    "df_all[\"HNT\"] = df_all[\"HNT\"].round(3)"
   ]
  },
  {
   "cell_type": "code",
   "execution_count": 8,
   "id": "10ef1781-6251-4340-9813-965978113393",
   "metadata": {},
   "outputs": [],
   "source": [
    "df_all = df_all.drop(['amino-based', 'metallic-based'], axis=1)"
   ]
  },
  {
   "cell_type": "code",
   "execution_count": 9,
   "id": "ea2d1aff-7287-4dcc-95d2-dfb082060a70",
   "metadata": {},
   "outputs": [],
   "source": [
    "df_perc = df_all*100"
   ]
  },
  {
   "cell_type": "markdown",
   "id": "5408c49d-302a-45d8-9fc3-8c26025d90e7",
   "metadata": {
    "tags": []
   },
   "source": [
    "#### Make sure that add up to 1, if not randomly take one where add error"
   ]
  },
  {
   "cell_type": "code",
   "execution_count": 10,
   "id": "d2b9a030-094d-46da-918e-8064dba68355",
   "metadata": {
    "tags": []
   },
   "outputs": [],
   "source": [
    "for i in range(len(df_all)):\n",
    "    if abs(df_all.iloc[i,:].sum()-1)>1e-4:\n",
    "        ind_list = np.where(df_all.iloc[i,:]!=0)[0]\n",
    "        ind = np.random.choice(ind_list)\n",
    "        df_all.iloc[i,ind] = df_all.iloc[i,ind] - (df_all.iloc[i,:].sum()-1)\n",
    "        #print(ind)\n",
    "        #print(i, df_all.loc[i,:].sum())"
   ]
  },
  {
   "cell_type": "code",
   "execution_count": 11,
   "id": "5d526bc8-4970-4097-8d64-77132b71504c",
   "metadata": {
    "tags": []
   },
   "outputs": [
    {
     "data": {
      "text/html": [
       "<div>\n",
       "<style scoped>\n",
       "    .dataframe tbody tr th:only-of-type {\n",
       "        vertical-align: middle;\n",
       "    }\n",
       "\n",
       "    .dataframe tbody tr th {\n",
       "        vertical-align: top;\n",
       "    }\n",
       "\n",
       "    .dataframe thead th {\n",
       "        text-align: right;\n",
       "    }\n",
       "</style>\n",
       "<table border=\"1\" class=\"dataframe\">\n",
       "  <thead>\n",
       "    <tr style=\"text-align: right;\">\n",
       "      <th></th>\n",
       "      <th>PA56</th>\n",
       "      <th>PhA</th>\n",
       "      <th>MEL</th>\n",
       "      <th>THAM</th>\n",
       "      <th>CS</th>\n",
       "      <th>BN</th>\n",
       "      <th>ZnBO</th>\n",
       "      <th>CABO</th>\n",
       "      <th>HNT</th>\n",
       "    </tr>\n",
       "  </thead>\n",
       "  <tbody>\n",
       "    <tr>\n",
       "      <th>0</th>\n",
       "      <td>90.2</td>\n",
       "      <td>2.4</td>\n",
       "      <td>0.0</td>\n",
       "      <td>0.0</td>\n",
       "      <td>2.1</td>\n",
       "      <td>0.0</td>\n",
       "      <td>0.0</td>\n",
       "      <td>5.4</td>\n",
       "      <td>0.0</td>\n",
       "    </tr>\n",
       "    <tr>\n",
       "      <th>1</th>\n",
       "      <td>85.9</td>\n",
       "      <td>4.4</td>\n",
       "      <td>0.0</td>\n",
       "      <td>0.0</td>\n",
       "      <td>4.1</td>\n",
       "      <td>0.0</td>\n",
       "      <td>5.7</td>\n",
       "      <td>0.0</td>\n",
       "      <td>0.0</td>\n",
       "    </tr>\n",
       "    <tr>\n",
       "      <th>2</th>\n",
       "      <td>97.5</td>\n",
       "      <td>1.0</td>\n",
       "      <td>0.0</td>\n",
       "      <td>0.0</td>\n",
       "      <td>0.0</td>\n",
       "      <td>0.4</td>\n",
       "      <td>1.1</td>\n",
       "      <td>0.0</td>\n",
       "      <td>0.0</td>\n",
       "    </tr>\n",
       "    <tr>\n",
       "      <th>3</th>\n",
       "      <td>90.6</td>\n",
       "      <td>2.7</td>\n",
       "      <td>1.4</td>\n",
       "      <td>0.0</td>\n",
       "      <td>2.4</td>\n",
       "      <td>0.0</td>\n",
       "      <td>0.0</td>\n",
       "      <td>2.9</td>\n",
       "      <td>0.0</td>\n",
       "    </tr>\n",
       "    <tr>\n",
       "      <th>4</th>\n",
       "      <td>93.3</td>\n",
       "      <td>1.9</td>\n",
       "      <td>0.4</td>\n",
       "      <td>0.0</td>\n",
       "      <td>0.1</td>\n",
       "      <td>0.0</td>\n",
       "      <td>0.0</td>\n",
       "      <td>4.4</td>\n",
       "      <td>0.0</td>\n",
       "    </tr>\n",
       "    <tr>\n",
       "      <th>...</th>\n",
       "      <td>...</td>\n",
       "      <td>...</td>\n",
       "      <td>...</td>\n",
       "      <td>...</td>\n",
       "      <td>...</td>\n",
       "      <td>...</td>\n",
       "      <td>...</td>\n",
       "      <td>...</td>\n",
       "      <td>...</td>\n",
       "    </tr>\n",
       "    <tr>\n",
       "      <th>85</th>\n",
       "      <td>81.9</td>\n",
       "      <td>2.5</td>\n",
       "      <td>2.3</td>\n",
       "      <td>2.2</td>\n",
       "      <td>0.0</td>\n",
       "      <td>0.0</td>\n",
       "      <td>11.1</td>\n",
       "      <td>0.0</td>\n",
       "      <td>0.0</td>\n",
       "    </tr>\n",
       "    <tr>\n",
       "      <th>86</th>\n",
       "      <td>92.1</td>\n",
       "      <td>4.4</td>\n",
       "      <td>0.3</td>\n",
       "      <td>0.3</td>\n",
       "      <td>0.0</td>\n",
       "      <td>0.0</td>\n",
       "      <td>0.0</td>\n",
       "      <td>3.0</td>\n",
       "      <td>0.0</td>\n",
       "    </tr>\n",
       "    <tr>\n",
       "      <th>87</th>\n",
       "      <td>85.1</td>\n",
       "      <td>1.4</td>\n",
       "      <td>0.2</td>\n",
       "      <td>0.0</td>\n",
       "      <td>0.0</td>\n",
       "      <td>0.0</td>\n",
       "      <td>0.0</td>\n",
       "      <td>13.3</td>\n",
       "      <td>0.0</td>\n",
       "    </tr>\n",
       "    <tr>\n",
       "      <th>88</th>\n",
       "      <td>83.6</td>\n",
       "      <td>0.4</td>\n",
       "      <td>0.0</td>\n",
       "      <td>0.0</td>\n",
       "      <td>3.2</td>\n",
       "      <td>0.0</td>\n",
       "      <td>0.0</td>\n",
       "      <td>12.8</td>\n",
       "      <td>0.0</td>\n",
       "    </tr>\n",
       "    <tr>\n",
       "      <th>89</th>\n",
       "      <td>95.5</td>\n",
       "      <td>3.9</td>\n",
       "      <td>0.0</td>\n",
       "      <td>0.0</td>\n",
       "      <td>0.0</td>\n",
       "      <td>0.0</td>\n",
       "      <td>0.0</td>\n",
       "      <td>0.6</td>\n",
       "      <td>0.0</td>\n",
       "    </tr>\n",
       "  </tbody>\n",
       "</table>\n",
       "<p>90 rows × 9 columns</p>\n",
       "</div>"
      ],
      "text/plain": [
       "    PA56  PhA  MEL  THAM   CS   BN  ZnBO  CABO  HNT\n",
       "0   90.2  2.4  0.0   0.0  2.1  0.0   0.0   5.4  0.0\n",
       "1   85.9  4.4  0.0   0.0  4.1  0.0   5.7   0.0  0.0\n",
       "2   97.5  1.0  0.0   0.0  0.0  0.4   1.1   0.0  0.0\n",
       "3   90.6  2.7  1.4   0.0  2.4  0.0   0.0   2.9  0.0\n",
       "4   93.3  1.9  0.4   0.0  0.1  0.0   0.0   4.4  0.0\n",
       "..   ...  ...  ...   ...  ...  ...   ...   ...  ...\n",
       "85  81.9  2.5  2.3   2.2  0.0  0.0  11.1   0.0  0.0\n",
       "86  92.1  4.4  0.3   0.3  0.0  0.0   0.0   3.0  0.0\n",
       "87  85.1  1.4  0.2   0.0  0.0  0.0   0.0  13.3  0.0\n",
       "88  83.6  0.4  0.0   0.0  3.2  0.0   0.0  12.8  0.0\n",
       "89  95.5  3.9  0.0   0.0  0.0  0.0   0.0   0.6  0.0\n",
       "\n",
       "[90 rows x 9 columns]"
      ]
     },
     "execution_count": 11,
     "metadata": {},
     "output_type": "execute_result"
    }
   ],
   "source": [
    "df_perc"
   ]
  },
  {
   "cell_type": "markdown",
   "id": "281463ad-fdd7-4afa-87bb-0737ef1978cc",
   "metadata": {},
   "source": [
    "#### Define bounds, space and calculate discrepancies and variance for comparison"
   ]
  },
  {
   "cell_type": "code",
   "execution_count": 12,
   "id": "e0572975-dc70-4e0c-bd24-aaed70524e95",
   "metadata": {
    "tags": []
   },
   "outputs": [],
   "source": [
    "l_bounds = [0.8, 0, 0, 0, 0, 0, 0 , 0 , 0]\n",
    "u_bounds = [1., 0.05, 0.1, 0.1 , 0.1, 0.1, 0.14, 0.14, 0.14]\n",
    "space = qmc.scale(df_all, l_bounds, u_bounds, reverse=True)"
   ]
  },
  {
   "cell_type": "code",
   "execution_count": 13,
   "id": "8935ab16-d71b-4a9f-a273-a2cb8a497644",
   "metadata": {},
   "outputs": [
    {
     "data": {
      "text/plain": [
       "5.546944977920964"
      ]
     },
     "execution_count": 13,
     "metadata": {},
     "output_type": "execute_result"
    }
   ],
   "source": [
    "qmc.discrepancy(space)"
   ]
  },
  {
   "cell_type": "code",
   "execution_count": 14,
   "id": "f26318ee-e054-404e-9bf5-59688e8abbec",
   "metadata": {
    "tags": []
   },
   "outputs": [
    {
     "data": {
      "text/plain": [
       "7.070611990292667"
      ]
     },
     "execution_count": 14,
     "metadata": {},
     "output_type": "execute_result"
    }
   ],
   "source": [
    "qmc.discrepancy(space, method='WD')"
   ]
  },
  {
   "cell_type": "code",
   "execution_count": 15,
   "id": "6396b933-b9c9-4ed7-8026-6260cca6044e",
   "metadata": {},
   "outputs": [
    {
     "data": {
      "text/plain": [
       "0.07499052436941854"
      ]
     },
     "execution_count": 15,
     "metadata": {},
     "output_type": "execute_result"
    }
   ],
   "source": [
    "np.linalg.norm(space.var())"
   ]
  },
  {
   "cell_type": "code",
   "execution_count": 16,
   "id": "2a8429ee-88cd-4f92-9dfb-c60c0d22817a",
   "metadata": {
    "tags": []
   },
   "outputs": [],
   "source": [
    "filepath = Path('Outputs/postprocessed_outputs_all_9dim.csv')  \n",
    "filepath.parent.mkdir(parents=True, exist_ok=True)  \n",
    "df_all.to_csv(filepath) "
   ]
  },
  {
   "cell_type": "markdown",
   "id": "179a6213-b336-4eb9-bb0b-896975ddd5e6",
   "metadata": {},
   "source": [
    "### **3. LHSMDU calculation and export to file, discrepancies and variance**"
   ]
  },
  {
   "cell_type": "code",
   "execution_count": 17,
   "id": "1b2cd39c-9604-43f6-b967-d697a3b5fc90",
   "metadata": {},
   "outputs": [],
   "source": [
    "\n",
    "column_names = [df_lhsmdu.columns.values.tolist(), df_lhsmdu_amino.columns.values.tolist(), df_lhsmdu_metallic.columns.values.tolist()]\n",
    "df_all_lhsmdu = pd.concat([df_lhsmdu, df_lhsmdu_amino, df_lhsmdu_metallic], axis=1, join=\"inner\")\n"
   ]
  },
  {
   "cell_type": "code",
   "execution_count": 18,
   "id": "9d251e83-19c0-4853-9da8-7a4f67975c0c",
   "metadata": {},
   "outputs": [
    {
     "data": {
      "text/html": [
       "<div>\n",
       "<style scoped>\n",
       "    .dataframe tbody tr th:only-of-type {\n",
       "        vertical-align: middle;\n",
       "    }\n",
       "\n",
       "    .dataframe tbody tr th {\n",
       "        vertical-align: top;\n",
       "    }\n",
       "\n",
       "    .dataframe thead th {\n",
       "        text-align: right;\n",
       "    }\n",
       "</style>\n",
       "<table border=\"1\" class=\"dataframe\">\n",
       "  <thead>\n",
       "    <tr style=\"text-align: right;\">\n",
       "      <th></th>\n",
       "      <th>PA56</th>\n",
       "      <th>PhA</th>\n",
       "      <th>amino-based</th>\n",
       "      <th>metallic-based</th>\n",
       "      <th>MEL</th>\n",
       "      <th>THAM</th>\n",
       "      <th>CS</th>\n",
       "      <th>BN</th>\n",
       "      <th>ZnBO</th>\n",
       "      <th>CABO</th>\n",
       "      <th>HNT</th>\n",
       "    </tr>\n",
       "  </thead>\n",
       "  <tbody>\n",
       "    <tr>\n",
       "      <th>0</th>\n",
       "      <td>0.840</td>\n",
       "      <td>0.045</td>\n",
       "      <td>0.039</td>\n",
       "      <td>0.076</td>\n",
       "      <td>0.754504</td>\n",
       "      <td>0.245496</td>\n",
       "      <td>0.000000</td>\n",
       "      <td>0.0</td>\n",
       "      <td>0.0</td>\n",
       "      <td>0.0</td>\n",
       "      <td>1.0</td>\n",
       "    </tr>\n",
       "    <tr>\n",
       "      <th>1</th>\n",
       "      <td>0.882</td>\n",
       "      <td>0.044</td>\n",
       "      <td>0.021</td>\n",
       "      <td>0.053</td>\n",
       "      <td>0.000000</td>\n",
       "      <td>0.000000</td>\n",
       "      <td>1.000000</td>\n",
       "      <td>0.0</td>\n",
       "      <td>0.0</td>\n",
       "      <td>0.0</td>\n",
       "      <td>1.0</td>\n",
       "    </tr>\n",
       "    <tr>\n",
       "      <th>2</th>\n",
       "      <td>0.909</td>\n",
       "      <td>0.006</td>\n",
       "      <td>0.056</td>\n",
       "      <td>0.030</td>\n",
       "      <td>0.504332</td>\n",
       "      <td>0.000000</td>\n",
       "      <td>0.495668</td>\n",
       "      <td>0.0</td>\n",
       "      <td>0.0</td>\n",
       "      <td>0.0</td>\n",
       "      <td>1.0</td>\n",
       "    </tr>\n",
       "    <tr>\n",
       "      <th>3</th>\n",
       "      <td>0.892</td>\n",
       "      <td>0.030</td>\n",
       "      <td>0.023</td>\n",
       "      <td>0.054</td>\n",
       "      <td>0.000000</td>\n",
       "      <td>0.000000</td>\n",
       "      <td>0.000000</td>\n",
       "      <td>1.0</td>\n",
       "      <td>0.0</td>\n",
       "      <td>1.0</td>\n",
       "      <td>0.0</td>\n",
       "    </tr>\n",
       "    <tr>\n",
       "      <th>4</th>\n",
       "      <td>0.918</td>\n",
       "      <td>0.025</td>\n",
       "      <td>0.039</td>\n",
       "      <td>0.018</td>\n",
       "      <td>0.000000</td>\n",
       "      <td>1.000000</td>\n",
       "      <td>0.000000</td>\n",
       "      <td>0.0</td>\n",
       "      <td>1.0</td>\n",
       "      <td>0.0</td>\n",
       "      <td>0.0</td>\n",
       "    </tr>\n",
       "    <tr>\n",
       "      <th>...</th>\n",
       "      <td>...</td>\n",
       "      <td>...</td>\n",
       "      <td>...</td>\n",
       "      <td>...</td>\n",
       "      <td>...</td>\n",
       "      <td>...</td>\n",
       "      <td>...</td>\n",
       "      <td>...</td>\n",
       "      <td>...</td>\n",
       "      <td>...</td>\n",
       "      <td>...</td>\n",
       "    </tr>\n",
       "    <tr>\n",
       "      <th>85</th>\n",
       "      <td>0.928</td>\n",
       "      <td>0.044</td>\n",
       "      <td>0.010</td>\n",
       "      <td>0.018</td>\n",
       "      <td>1.000000</td>\n",
       "      <td>0.000000</td>\n",
       "      <td>0.000000</td>\n",
       "      <td>0.0</td>\n",
       "      <td>0.0</td>\n",
       "      <td>1.0</td>\n",
       "      <td>0.0</td>\n",
       "    </tr>\n",
       "    <tr>\n",
       "      <th>86</th>\n",
       "      <td>0.824</td>\n",
       "      <td>0.030</td>\n",
       "      <td>0.095</td>\n",
       "      <td>0.051</td>\n",
       "      <td>0.000000</td>\n",
       "      <td>0.000000</td>\n",
       "      <td>0.000000</td>\n",
       "      <td>1.0</td>\n",
       "      <td>0.0</td>\n",
       "      <td>1.0</td>\n",
       "      <td>0.0</td>\n",
       "    </tr>\n",
       "    <tr>\n",
       "      <th>87</th>\n",
       "      <td>0.926</td>\n",
       "      <td>0.043</td>\n",
       "      <td>0.000</td>\n",
       "      <td>0.031</td>\n",
       "      <td>0.400443</td>\n",
       "      <td>0.599557</td>\n",
       "      <td>0.000000</td>\n",
       "      <td>0.0</td>\n",
       "      <td>0.0</td>\n",
       "      <td>1.0</td>\n",
       "      <td>0.0</td>\n",
       "    </tr>\n",
       "    <tr>\n",
       "      <th>88</th>\n",
       "      <td>0.855</td>\n",
       "      <td>0.003</td>\n",
       "      <td>0.007</td>\n",
       "      <td>0.135</td>\n",
       "      <td>0.000000</td>\n",
       "      <td>0.000000</td>\n",
       "      <td>1.000000</td>\n",
       "      <td>0.0</td>\n",
       "      <td>0.0</td>\n",
       "      <td>1.0</td>\n",
       "      <td>0.0</td>\n",
       "    </tr>\n",
       "    <tr>\n",
       "      <th>89</th>\n",
       "      <td>0.835</td>\n",
       "      <td>0.007</td>\n",
       "      <td>0.024</td>\n",
       "      <td>0.134</td>\n",
       "      <td>0.000000</td>\n",
       "      <td>0.000000</td>\n",
       "      <td>1.000000</td>\n",
       "      <td>0.0</td>\n",
       "      <td>0.0</td>\n",
       "      <td>0.0</td>\n",
       "      <td>1.0</td>\n",
       "    </tr>\n",
       "  </tbody>\n",
       "</table>\n",
       "<p>90 rows × 11 columns</p>\n",
       "</div>"
      ],
      "text/plain": [
       "     PA56    PhA  amino-based  metallic-based       MEL      THAM        CS   \n",
       "0   0.840  0.045        0.039           0.076  0.754504  0.245496  0.000000  \\\n",
       "1   0.882  0.044        0.021           0.053  0.000000  0.000000  1.000000   \n",
       "2   0.909  0.006        0.056           0.030  0.504332  0.000000  0.495668   \n",
       "3   0.892  0.030        0.023           0.054  0.000000  0.000000  0.000000   \n",
       "4   0.918  0.025        0.039           0.018  0.000000  1.000000  0.000000   \n",
       "..    ...    ...          ...             ...       ...       ...       ...   \n",
       "85  0.928  0.044        0.010           0.018  1.000000  0.000000  0.000000   \n",
       "86  0.824  0.030        0.095           0.051  0.000000  0.000000  0.000000   \n",
       "87  0.926  0.043        0.000           0.031  0.400443  0.599557  0.000000   \n",
       "88  0.855  0.003        0.007           0.135  0.000000  0.000000  1.000000   \n",
       "89  0.835  0.007        0.024           0.134  0.000000  0.000000  1.000000   \n",
       "\n",
       "     BN  ZnBO  CABO  HNT  \n",
       "0   0.0   0.0   0.0  1.0  \n",
       "1   0.0   0.0   0.0  1.0  \n",
       "2   0.0   0.0   0.0  1.0  \n",
       "3   1.0   0.0   1.0  0.0  \n",
       "4   0.0   1.0   0.0  0.0  \n",
       "..  ...   ...   ...  ...  \n",
       "85  0.0   0.0   1.0  0.0  \n",
       "86  1.0   0.0   1.0  0.0  \n",
       "87  0.0   0.0   1.0  0.0  \n",
       "88  0.0   0.0   1.0  0.0  \n",
       "89  0.0   0.0   0.0  1.0  \n",
       "\n",
       "[90 rows x 11 columns]"
      ]
     },
     "execution_count": 18,
     "metadata": {},
     "output_type": "execute_result"
    }
   ],
   "source": [
    "df_all_lhsmdu"
   ]
  },
  {
   "cell_type": "code",
   "execution_count": 19,
   "id": "e498b0ae-20b4-4fcc-83e0-750ffcdbb0ba",
   "metadata": {
    "tags": []
   },
   "outputs": [],
   "source": [
    "df_all_lhsmdu[\"MEL\"] = df_all_lhsmdu[\"MEL\"]*df_all_lhsmdu[\"amino-based\"]\n",
    "df_all_lhsmdu[\"MEL\"] = df_all_lhsmdu[\"MEL\"].round(3)\n",
    "df_all_lhsmdu[\"THAM\"] = df_all_lhsmdu[\"THAM\"]*df_all_lhsmdu[\"amino-based\"]\n",
    "df_all_lhsmdu[\"THAM\"] = df_all_lhsmdu[\"THAM\"].round(3)\n",
    "df_all_lhsmdu[\"CS\"] = df_all_lhsmdu[\"CS\"]*df_all_lhsmdu[\"amino-based\"]\n",
    "df_all_lhsmdu[\"CS\"] = df_all_lhsmdu[\"CS\"].round(3)\n",
    "df_all_lhsmdu[\"BN\"] = df_all_lhsmdu[\"BN\"]*df_all_lhsmdu[\"amino-based\"]\n",
    "df_all_lhsmdu[\"BN\"] = df_all_lhsmdu[\"BN\"].round(3)"
   ]
  },
  {
   "cell_type": "code",
   "execution_count": 20,
   "id": "cfe40c73-dc40-4139-9c74-1bc9a2c77930",
   "metadata": {
    "tags": []
   },
   "outputs": [],
   "source": [
    "df_all_lhsmdu[\"ZnBO\"] = df_all_lhsmdu[\"ZnBO\"]*df_all_lhsmdu[\"metallic-based\"]\n",
    "df_all_lhsmdu[\"ZnBO\"] = df_all_lhsmdu[\"ZnBO\"].round(3)\n",
    "df_all_lhsmdu[\"CABO\"] = df_all_lhsmdu[\"CABO\"]*df_all_lhsmdu[\"metallic-based\"]\n",
    "df_all_lhsmdu[\"CABO\"] = df_all_lhsmdu[\"CABO\"].round(3)\n",
    "df_all_lhsmdu[\"HNT\"] = df_all_lhsmdu[\"HNT\"]*df_all_lhsmdu[\"metallic-based\"]\n",
    "df_all_lhsmdu[\"HNT\"] = df_all_lhsmdu[\"HNT\"].round(3)"
   ]
  },
  {
   "cell_type": "code",
   "execution_count": 21,
   "id": "ab1d1c92-0807-4cc8-b245-beb171b0d890",
   "metadata": {},
   "outputs": [],
   "source": [
    "df_all_lhsmdu = df_all_lhsmdu.drop(['amino-based', 'metallic-based'], axis=1)"
   ]
  },
  {
   "cell_type": "code",
   "execution_count": 22,
   "id": "3c1fa5a4-11f7-455e-8ae6-26d93bb48912",
   "metadata": {},
   "outputs": [],
   "source": [
    "df_perc_lhsmdu = df_all_lhsmdu*100"
   ]
  },
  {
   "cell_type": "code",
   "execution_count": 23,
   "id": "20a1f868-d98c-4a93-b0c2-293f4f48b3b5",
   "metadata": {
    "tags": []
   },
   "outputs": [
    {
     "data": {
      "text/plain": [
       "5.360806428606856"
      ]
     },
     "execution_count": 23,
     "metadata": {},
     "output_type": "execute_result"
    }
   ],
   "source": [
    "space_lhsmdu = qmc.scale(df_all_lhsmdu, l_bounds, u_bounds, reverse=True)\n",
    "qmc.discrepancy(space_lhsmdu)"
   ]
  },
  {
   "cell_type": "code",
   "execution_count": 24,
   "id": "44fb9b71-face-4a03-8613-44418539701d",
   "metadata": {
    "tags": []
   },
   "outputs": [
    {
     "data": {
      "text/plain": [
       "6.594884709146621"
      ]
     },
     "execution_count": 24,
     "metadata": {},
     "output_type": "execute_result"
    }
   ],
   "source": [
    "qmc.discrepancy(space_lhsmdu, method='WD')"
   ]
  },
  {
   "cell_type": "code",
   "execution_count": 25,
   "id": "af2e4ff9-d065-4a54-b1bc-7f5a6612b802",
   "metadata": {
    "tags": []
   },
   "outputs": [
    {
     "data": {
      "text/plain": [
       "0.07110041042539557"
      ]
     },
     "execution_count": 25,
     "metadata": {},
     "output_type": "execute_result"
    }
   ],
   "source": [
    "np.linalg.norm(space_lhsmdu.var())"
   ]
  },
  {
   "cell_type": "markdown",
   "id": "71955f11-ec8c-4aa5-9b33-d3c890404a3f",
   "metadata": {
    "tags": []
   },
   "source": [
    "#### Make sure that add up to 1, if not randomly take one where add error"
   ]
  },
  {
   "cell_type": "code",
   "execution_count": 26,
   "id": "6ef9bf0c-c9a5-49ae-b05e-2136b9d323fe",
   "metadata": {
    "tags": []
   },
   "outputs": [],
   "source": [
    "for i in range(len(df_all_lhsmdu)):\n",
    "    if abs(df_all_lhsmdu.loc[i,:].sum()-1)>1e-4:\n",
    "        ind_list = np.where(df_all_lhsmdu.loc[i,:]!=0)[0]\n",
    "        ind = np.random.choice(ind_list)\n",
    "        df_all_lhsmdu.iloc[i,ind] = df_all_lhsmdu.iloc[i,ind] - (df_all_lhsmdu.loc[i,:].sum()-1)\n",
    "        #print(ind)\n",
    "        #print(i, df_perc_lhsmdu.loc[i,:].sum())"
   ]
  },
  {
   "cell_type": "code",
   "execution_count": 27,
   "id": "6e700502-7e3b-44a1-a963-0ec8897a7969",
   "metadata": {
    "tags": []
   },
   "outputs": [],
   "source": [
    "filepath = Path('Outputs/postprocessed_outputs_lhsmdu_all_9dim.csv')  \n",
    "filepath.parent.mkdir(parents=True, exist_ok=True)  \n",
    "df_all_lhsmdu.to_csv(filepath) "
   ]
  },
  {
   "cell_type": "markdown",
   "id": "f8659018-fbab-4bff-afaa-ade6ff6641b5",
   "metadata": {},
   "source": [
    "### **4. Import and format data set**"
   ]
  },
  {
   "cell_type": "code",
   "execution_count": 28,
   "id": "8b377b2d-9868-4dea-894b-cb1a4b8f838f",
   "metadata": {
    "tags": []
   },
   "outputs": [],
   "source": [
    "filename = './data/Bank_Data-2808_mod_corrected.csv'#Bank_Data_mod_clean.csv'\n",
    "df = pd.read_csv(filename, sep=';', decimal=\",\")\n",
    "df = df.div(100.)\n",
    "data_array = np.zeros((len(df),8))\n",
    "data_array = np.column_stack((df['PA-56'].to_numpy(), df['PhA'], df['Mel'], df['THAM'], df['CS'], df['BN'], df['ZnBO'], df['CaBO'], df['HNT']))"
   ]
  },
  {
   "cell_type": "markdown",
   "id": "5e57308b-70a7-4017-b6fd-7c879f153922",
   "metadata": {},
   "source": [
    "#### Scaling of data"
   ]
  },
  {
   "cell_type": "code",
   "execution_count": 29,
   "id": "303b9b4c-027e-442c-953b-2c4fe7086321",
   "metadata": {},
   "outputs": [],
   "source": [
    "scaler = StandardScaler().fit(data_array)\n",
    "data_scaled = scaler.transform(data_array)\n",
    "scaler2 = StandardScaler().fit(df_all)\n",
    "all_val_samples_scaled = scaler2.transform(df_all)\n",
    "scaler3 = StandardScaler().fit(df_all_lhsmdu)\n",
    "all_val_samples_mdu_scaled = scaler3.transform(df_all_lhsmdu)"
   ]
  },
  {
   "cell_type": "markdown",
   "id": "32a62277-960e-4e8f-998e-201b210ed2ab",
   "metadata": {},
   "source": [
    "### **5. Reduce to 2 dimensions and plot**"
   ]
  },
  {
   "cell_type": "code",
   "execution_count": 30,
   "id": "3fc95c05-f57b-45e5-a81c-516748e6270d",
   "metadata": {},
   "outputs": [
    {
     "name": "stderr",
     "output_type": "stream",
     "text": [
      "The PostScript backend does not support transparency; partially transparent artists will be rendered opaque.\n"
     ]
    },
    {
     "data": {
      "image/png": "[encoded data removed]",
      "text/plain": [
       "<Figure size 640x480 with 1 Axes>"
      ]
     },
     "metadata": {},
     "output_type": "display_data"
    }
   ],
   "source": [
    "pca = PCA(n_components=2)\n",
    "Xt1_pca = pca.fit_transform(data_scaled)\n",
    "Xt2_pca = pca.fit_transform(all_val_samples_scaled)\n",
    "Xt3_pca = pca.fit_transform(all_val_samples_mdu_scaled)\n",
    "    \n",
    "plot_dimred_2dims_both_methods(Xt1_pca, Xt2_pca, Xt3_pca, filename_eps='Figures_9dim/plot_scaled_90pts.eps')"
   ]
  },
  {
   "cell_type": "code",
   "execution_count": 31,
   "id": "d29e6d5e-8a47-4399-95b0-3e80ea7ab3ff",
   "metadata": {
    "tags": []
   },
   "outputs": [],
   "source": [
    "tol = 5e-1\n",
    "tol2 = 5e-1\n",
    "des_n_samp = 15\n",
    "\n",
    "tol_samples, tol_samples_LHSMDU, tol_samples_unscaled, tol_samples_LHSMDU_unscaled = select_samples_diff_from_data(exp_data=data_array, samples_LHS=df_all.to_numpy(), samples_LHSMDU=df_all_lhsmdu.to_numpy(), des_n_samp = des_n_samp, tol = tol, tol2 = tol2)\n"
   ]
  },
  {
   "cell_type": "code",
   "execution_count": 32,
   "id": "01031e71-03d7-439b-93f6-4ccc6a7aa687",
   "metadata": {},
   "outputs": [],
   "source": [
    "df_15_samps_scaled = pd.DataFrame(tol_samples,columns=['PA-56','PhA','Mel','THAM','CS','BN','ZnBO','CaBO','HNT'])\n",
    "df_15_samps = pd.DataFrame(tol_samples_unscaled,columns=['PA-56','PhA','Mel','THAM','CS','BN','ZnBO','CaBO','HNT'])"
   ]
  },
  {
   "cell_type": "markdown",
   "id": "129f45aa-eeac-4295-b9bc-b24863495a4c",
   "metadata": {},
   "source": [
    "#### Check if add up to 100%"
   ]
  },
  {
   "cell_type": "code",
   "execution_count": 33,
   "id": "d816d47c-0207-4ff2-8677-13536fec1563",
   "metadata": {},
   "outputs": [],
   "source": [
    "df_perc = df_15_samps*100\n",
    "for i in range(len(df_perc)):\n",
    "    if abs(sum(df_perc.iloc[i,:])-100)>1e-2:\n",
    "        print(sum(df_perc.iloc[i,:]))"
   ]
  },
  {
   "cell_type": "code",
   "execution_count": 34,
   "id": "eb2cd387-d3dd-429a-b56c-745a8b26554a",
   "metadata": {
    "tags": []
   },
   "outputs": [
    {
     "data": {
      "text/html": [
       "<div>\n",
       "<style scoped>\n",
       "    .dataframe tbody tr th:only-of-type {\n",
       "        vertical-align: middle;\n",
       "    }\n",
       "\n",
       "    .dataframe tbody tr th {\n",
       "        vertical-align: top;\n",
       "    }\n",
       "\n",
       "    .dataframe thead th {\n",
       "        text-align: right;\n",
       "    }\n",
       "</style>\n",
       "<table border=\"1\" class=\"dataframe\">\n",
       "  <thead>\n",
       "    <tr style=\"text-align: right;\">\n",
       "      <th></th>\n",
       "      <th>PA-56</th>\n",
       "      <th>PhA</th>\n",
       "      <th>Mel</th>\n",
       "      <th>THAM</th>\n",
       "      <th>CS</th>\n",
       "      <th>BN</th>\n",
       "      <th>ZnBO</th>\n",
       "      <th>CaBO</th>\n",
       "      <th>HNT</th>\n",
       "    </tr>\n",
       "  </thead>\n",
       "  <tbody>\n",
       "    <tr>\n",
       "      <th>0</th>\n",
       "      <td>82.1</td>\n",
       "      <td>4.0</td>\n",
       "      <td>3.4</td>\n",
       "      <td>4.2</td>\n",
       "      <td>0.0</td>\n",
       "      <td>0.0</td>\n",
       "      <td>0.0</td>\n",
       "      <td>0.0</td>\n",
       "      <td>6.3</td>\n",
       "    </tr>\n",
       "    <tr>\n",
       "      <th>1</th>\n",
       "      <td>82.4</td>\n",
       "      <td>1.6</td>\n",
       "      <td>6.5</td>\n",
       "      <td>2.8</td>\n",
       "      <td>0.0</td>\n",
       "      <td>0.0</td>\n",
       "      <td>0.0</td>\n",
       "      <td>6.7</td>\n",
       "      <td>0.0</td>\n",
       "    </tr>\n",
       "    <tr>\n",
       "      <th>2</th>\n",
       "      <td>81.9</td>\n",
       "      <td>3.2</td>\n",
       "      <td>4.0</td>\n",
       "      <td>0.0</td>\n",
       "      <td>1.7</td>\n",
       "      <td>0.0</td>\n",
       "      <td>9.2</td>\n",
       "      <td>0.0</td>\n",
       "      <td>0.0</td>\n",
       "    </tr>\n",
       "    <tr>\n",
       "      <th>3</th>\n",
       "      <td>80.3</td>\n",
       "      <td>4.2</td>\n",
       "      <td>0.0</td>\n",
       "      <td>0.0</td>\n",
       "      <td>0.0</td>\n",
       "      <td>6.6</td>\n",
       "      <td>0.0</td>\n",
       "      <td>8.9</td>\n",
       "      <td>0.0</td>\n",
       "    </tr>\n",
       "    <tr>\n",
       "      <th>4</th>\n",
       "      <td>81.4</td>\n",
       "      <td>1.7</td>\n",
       "      <td>3.0</td>\n",
       "      <td>0.0</td>\n",
       "      <td>1.5</td>\n",
       "      <td>0.0</td>\n",
       "      <td>0.0</td>\n",
       "      <td>12.4</td>\n",
       "      <td>0.0</td>\n",
       "    </tr>\n",
       "    <tr>\n",
       "      <th>5</th>\n",
       "      <td>81.7</td>\n",
       "      <td>1.8</td>\n",
       "      <td>0.0</td>\n",
       "      <td>0.0</td>\n",
       "      <td>3.8</td>\n",
       "      <td>0.0</td>\n",
       "      <td>0.0</td>\n",
       "      <td>12.7</td>\n",
       "      <td>0.0</td>\n",
       "    </tr>\n",
       "    <tr>\n",
       "      <th>6</th>\n",
       "      <td>83.6</td>\n",
       "      <td>0.4</td>\n",
       "      <td>0.0</td>\n",
       "      <td>0.0</td>\n",
       "      <td>3.2</td>\n",
       "      <td>0.0</td>\n",
       "      <td>0.0</td>\n",
       "      <td>12.8</td>\n",
       "      <td>0.0</td>\n",
       "    </tr>\n",
       "    <tr>\n",
       "      <th>7</th>\n",
       "      <td>84.1</td>\n",
       "      <td>4.7</td>\n",
       "      <td>0.0</td>\n",
       "      <td>0.0</td>\n",
       "      <td>9.4</td>\n",
       "      <td>0.0</td>\n",
       "      <td>0.0</td>\n",
       "      <td>1.8</td>\n",
       "      <td>0.0</td>\n",
       "    </tr>\n",
       "    <tr>\n",
       "      <th>8</th>\n",
       "      <td>80.1</td>\n",
       "      <td>4.1</td>\n",
       "      <td>0.0</td>\n",
       "      <td>0.0</td>\n",
       "      <td>8.5</td>\n",
       "      <td>0.0</td>\n",
       "      <td>0.0</td>\n",
       "      <td>7.3</td>\n",
       "      <td>0.0</td>\n",
       "    </tr>\n",
       "    <tr>\n",
       "      <th>9</th>\n",
       "      <td>80.1</td>\n",
       "      <td>2.2</td>\n",
       "      <td>0.0</td>\n",
       "      <td>0.0</td>\n",
       "      <td>0.0</td>\n",
       "      <td>6.8</td>\n",
       "      <td>0.0</td>\n",
       "      <td>10.9</td>\n",
       "      <td>0.0</td>\n",
       "    </tr>\n",
       "    <tr>\n",
       "      <th>10</th>\n",
       "      <td>84.1</td>\n",
       "      <td>0.0</td>\n",
       "      <td>0.0</td>\n",
       "      <td>6.0</td>\n",
       "      <td>0.0</td>\n",
       "      <td>0.0</td>\n",
       "      <td>0.0</td>\n",
       "      <td>0.0</td>\n",
       "      <td>9.9</td>\n",
       "    </tr>\n",
       "    <tr>\n",
       "      <th>11</th>\n",
       "      <td>82.8</td>\n",
       "      <td>2.5</td>\n",
       "      <td>0.0</td>\n",
       "      <td>0.0</td>\n",
       "      <td>6.4</td>\n",
       "      <td>0.0</td>\n",
       "      <td>8.3</td>\n",
       "      <td>0.0</td>\n",
       "      <td>0.0</td>\n",
       "    </tr>\n",
       "    <tr>\n",
       "      <th>12</th>\n",
       "      <td>81.6</td>\n",
       "      <td>3.0</td>\n",
       "      <td>0.0</td>\n",
       "      <td>0.0</td>\n",
       "      <td>7.6</td>\n",
       "      <td>0.0</td>\n",
       "      <td>7.8</td>\n",
       "      <td>0.0</td>\n",
       "      <td>0.0</td>\n",
       "    </tr>\n",
       "    <tr>\n",
       "      <th>13</th>\n",
       "      <td>80.4</td>\n",
       "      <td>1.9</td>\n",
       "      <td>6.6</td>\n",
       "      <td>3.1</td>\n",
       "      <td>0.0</td>\n",
       "      <td>0.0</td>\n",
       "      <td>8.0</td>\n",
       "      <td>0.0</td>\n",
       "      <td>0.0</td>\n",
       "    </tr>\n",
       "    <tr>\n",
       "      <th>14</th>\n",
       "      <td>80.2</td>\n",
       "      <td>0.1</td>\n",
       "      <td>4.6</td>\n",
       "      <td>0.0</td>\n",
       "      <td>3.4</td>\n",
       "      <td>0.0</td>\n",
       "      <td>11.7</td>\n",
       "      <td>0.0</td>\n",
       "      <td>0.0</td>\n",
       "    </tr>\n",
       "  </tbody>\n",
       "</table>\n",
       "</div>"
      ],
      "text/plain": [
       "    PA-56  PhA  Mel  THAM   CS   BN  ZnBO  CaBO  HNT\n",
       "0    82.1  4.0  3.4   4.2  0.0  0.0   0.0   0.0  6.3\n",
       "1    82.4  1.6  6.5   2.8  0.0  0.0   0.0   6.7  0.0\n",
       "2    81.9  3.2  4.0   0.0  1.7  0.0   9.2   0.0  0.0\n",
       "3    80.3  4.2  0.0   0.0  0.0  6.6   0.0   8.9  0.0\n",
       "4    81.4  1.7  3.0   0.0  1.5  0.0   0.0  12.4  0.0\n",
       "5    81.7  1.8  0.0   0.0  3.8  0.0   0.0  12.7  0.0\n",
       "6    83.6  0.4  0.0   0.0  3.2  0.0   0.0  12.8  0.0\n",
       "7    84.1  4.7  0.0   0.0  9.4  0.0   0.0   1.8  0.0\n",
       "8    80.1  4.1  0.0   0.0  8.5  0.0   0.0   7.3  0.0\n",
       "9    80.1  2.2  0.0   0.0  0.0  6.8   0.0  10.9  0.0\n",
       "10   84.1  0.0  0.0   6.0  0.0  0.0   0.0   0.0  9.9\n",
       "11   82.8  2.5  0.0   0.0  6.4  0.0   8.3   0.0  0.0\n",
       "12   81.6  3.0  0.0   0.0  7.6  0.0   7.8   0.0  0.0\n",
       "13   80.4  1.9  6.6   3.1  0.0  0.0   8.0   0.0  0.0\n",
       "14   80.2  0.1  4.6   0.0  3.4  0.0  11.7   0.0  0.0"
      ]
     },
     "execution_count": 34,
     "metadata": {},
     "output_type": "execute_result"
    }
   ],
   "source": [
    "df_perc"
   ]
  },
  {
   "cell_type": "code",
   "execution_count": 35,
   "id": "929a7b33-da84-49cc-956c-ff48db77aa73",
   "metadata": {},
   "outputs": [],
   "source": [
    "filepath = Path('Outputs/postprocessed_outputs_15lhs_9dim.csv')  \n",
    "filepath.parent.mkdir(parents=True, exist_ok=True)  \n",
    "df_perc.to_csv(filepath, float_format='%.1f') "
   ]
  },
  {
   "cell_type": "markdown",
   "id": "f19475bd-7685-4b60-97db-08ddfa820ddb",
   "metadata": {},
   "source": [
    "### **6. Calculate other discrepancies and variance to check space filling properties/uniformity**"
   ]
  },
  {
   "cell_type": "code",
   "execution_count": 36,
   "id": "7bac8e5d-eb68-4a3a-a0fc-ebcd5bf73b3e",
   "metadata": {
    "tags": []
   },
   "outputs": [
    {
     "data": {
      "text/plain": [
       "4.892160115953185"
      ]
     },
     "execution_count": 36,
     "metadata": {},
     "output_type": "execute_result"
    }
   ],
   "source": [
    "space = qmc.scale(df_15_samps, l_bounds, u_bounds, reverse=True)\n",
    "qmc.discrepancy(space)"
   ]
  },
  {
   "cell_type": "code",
   "execution_count": 37,
   "id": "eb42bd42-66ad-4323-bea4-372261b7a00e",
   "metadata": {},
   "outputs": [
    {
     "data": {
      "text/plain": [
       "7.187216509326801"
      ]
     },
     "execution_count": 37,
     "metadata": {},
     "output_type": "execute_result"
    }
   ],
   "source": [
    "qmc.discrepancy(space, method='WD')"
   ]
  },
  {
   "cell_type": "code",
   "execution_count": 38,
   "id": "acc9c3e9-4aa4-4af3-9d2b-fa105330ff7f",
   "metadata": {},
   "outputs": [
    {
     "data": {
      "text/plain": [
       "0.08661404372777919"
      ]
     },
     "execution_count": 38,
     "metadata": {},
     "output_type": "execute_result"
    }
   ],
   "source": [
    "np.linalg.norm(space.var())"
   ]
  },
  {
   "cell_type": "code",
   "execution_count": 39,
   "id": "248cc7ef-5d1b-4dff-8304-70b034c325b8",
   "metadata": {},
   "outputs": [],
   "source": [
    "df_data = df[['PA-56','PhA','Mel','THAM','CS','BN','ZnBO','CaBO','HNT']].copy()\n",
    "df_data = df_data\n",
    "df_with_data = pd.concat([df_15_samps, df_data], ignore_index=True, axis=0)"
   ]
  },
  {
   "cell_type": "code",
   "execution_count": 40,
   "id": "5d238f80-0c51-4144-8288-d732a7a069df",
   "metadata": {
    "tags": []
   },
   "outputs": [
    {
     "data": {
      "text/html": [
       "<div>\n",
       "<style scoped>\n",
       "    .dataframe tbody tr th:only-of-type {\n",
       "        vertical-align: middle;\n",
       "    }\n",
       "\n",
       "    .dataframe tbody tr th {\n",
       "        vertical-align: top;\n",
       "    }\n",
       "\n",
       "    .dataframe thead th {\n",
       "        text-align: right;\n",
       "    }\n",
       "</style>\n",
       "<table border=\"1\" class=\"dataframe\">\n",
       "  <thead>\n",
       "    <tr style=\"text-align: right;\">\n",
       "      <th></th>\n",
       "      <th>PA-56</th>\n",
       "      <th>PhA</th>\n",
       "      <th>Mel</th>\n",
       "      <th>THAM</th>\n",
       "      <th>CS</th>\n",
       "      <th>BN</th>\n",
       "      <th>ZnBO</th>\n",
       "      <th>CaBO</th>\n",
       "      <th>HNT</th>\n",
       "    </tr>\n",
       "  </thead>\n",
       "  <tbody>\n",
       "    <tr>\n",
       "      <th>0</th>\n",
       "      <td>0.821</td>\n",
       "      <td>0.040</td>\n",
       "      <td>0.034</td>\n",
       "      <td>0.042</td>\n",
       "      <td>0.000</td>\n",
       "      <td>0.000</td>\n",
       "      <td>0.000</td>\n",
       "      <td>0.000</td>\n",
       "      <td>0.063</td>\n",
       "    </tr>\n",
       "    <tr>\n",
       "      <th>1</th>\n",
       "      <td>0.824</td>\n",
       "      <td>0.016</td>\n",
       "      <td>0.065</td>\n",
       "      <td>0.028</td>\n",
       "      <td>0.000</td>\n",
       "      <td>0.000</td>\n",
       "      <td>0.000</td>\n",
       "      <td>0.067</td>\n",
       "      <td>0.000</td>\n",
       "    </tr>\n",
       "    <tr>\n",
       "      <th>2</th>\n",
       "      <td>0.819</td>\n",
       "      <td>0.032</td>\n",
       "      <td>0.040</td>\n",
       "      <td>0.000</td>\n",
       "      <td>0.017</td>\n",
       "      <td>0.000</td>\n",
       "      <td>0.092</td>\n",
       "      <td>0.000</td>\n",
       "      <td>0.000</td>\n",
       "    </tr>\n",
       "    <tr>\n",
       "      <th>3</th>\n",
       "      <td>0.803</td>\n",
       "      <td>0.042</td>\n",
       "      <td>0.000</td>\n",
       "      <td>0.000</td>\n",
       "      <td>0.000</td>\n",
       "      <td>0.066</td>\n",
       "      <td>0.000</td>\n",
       "      <td>0.089</td>\n",
       "      <td>0.000</td>\n",
       "    </tr>\n",
       "    <tr>\n",
       "      <th>4</th>\n",
       "      <td>0.814</td>\n",
       "      <td>0.017</td>\n",
       "      <td>0.030</td>\n",
       "      <td>0.000</td>\n",
       "      <td>0.015</td>\n",
       "      <td>0.000</td>\n",
       "      <td>0.000</td>\n",
       "      <td>0.124</td>\n",
       "      <td>0.000</td>\n",
       "    </tr>\n",
       "    <tr>\n",
       "      <th>...</th>\n",
       "      <td>...</td>\n",
       "      <td>...</td>\n",
       "      <td>...</td>\n",
       "      <td>...</td>\n",
       "      <td>...</td>\n",
       "      <td>...</td>\n",
       "      <td>...</td>\n",
       "      <td>...</td>\n",
       "      <td>...</td>\n",
       "    </tr>\n",
       "    <tr>\n",
       "      <th>85</th>\n",
       "      <td>0.900</td>\n",
       "      <td>0.000</td>\n",
       "      <td>0.050</td>\n",
       "      <td>0.000</td>\n",
       "      <td>0.000</td>\n",
       "      <td>0.000</td>\n",
       "      <td>0.000</td>\n",
       "      <td>0.000</td>\n",
       "      <td>0.050</td>\n",
       "    </tr>\n",
       "    <tr>\n",
       "      <th>86</th>\n",
       "      <td>0.970</td>\n",
       "      <td>0.000</td>\n",
       "      <td>0.010</td>\n",
       "      <td>0.000</td>\n",
       "      <td>0.000</td>\n",
       "      <td>0.000</td>\n",
       "      <td>0.000</td>\n",
       "      <td>0.000</td>\n",
       "      <td>0.020</td>\n",
       "    </tr>\n",
       "    <tr>\n",
       "      <th>87</th>\n",
       "      <td>0.950</td>\n",
       "      <td>0.000</td>\n",
       "      <td>0.017</td>\n",
       "      <td>0.000</td>\n",
       "      <td>0.000</td>\n",
       "      <td>0.000</td>\n",
       "      <td>0.000</td>\n",
       "      <td>0.000</td>\n",
       "      <td>0.033</td>\n",
       "    </tr>\n",
       "    <tr>\n",
       "      <th>88</th>\n",
       "      <td>0.930</td>\n",
       "      <td>0.000</td>\n",
       "      <td>0.023</td>\n",
       "      <td>0.000</td>\n",
       "      <td>0.000</td>\n",
       "      <td>0.000</td>\n",
       "      <td>0.000</td>\n",
       "      <td>0.000</td>\n",
       "      <td>0.047</td>\n",
       "    </tr>\n",
       "    <tr>\n",
       "      <th>89</th>\n",
       "      <td>0.900</td>\n",
       "      <td>0.000</td>\n",
       "      <td>0.033</td>\n",
       "      <td>0.000</td>\n",
       "      <td>0.000</td>\n",
       "      <td>0.000</td>\n",
       "      <td>0.000</td>\n",
       "      <td>0.000</td>\n",
       "      <td>0.067</td>\n",
       "    </tr>\n",
       "  </tbody>\n",
       "</table>\n",
       "<p>90 rows × 9 columns</p>\n",
       "</div>"
      ],
      "text/plain": [
       "    PA-56    PhA    Mel   THAM     CS     BN   ZnBO   CaBO    HNT\n",
       "0   0.821  0.040  0.034  0.042  0.000  0.000  0.000  0.000  0.063\n",
       "1   0.824  0.016  0.065  0.028  0.000  0.000  0.000  0.067  0.000\n",
       "2   0.819  0.032  0.040  0.000  0.017  0.000  0.092  0.000  0.000\n",
       "3   0.803  0.042  0.000  0.000  0.000  0.066  0.000  0.089  0.000\n",
       "4   0.814  0.017  0.030  0.000  0.015  0.000  0.000  0.124  0.000\n",
       "..    ...    ...    ...    ...    ...    ...    ...    ...    ...\n",
       "85  0.900  0.000  0.050  0.000  0.000  0.000  0.000  0.000  0.050\n",
       "86  0.970  0.000  0.010  0.000  0.000  0.000  0.000  0.000  0.020\n",
       "87  0.950  0.000  0.017  0.000  0.000  0.000  0.000  0.000  0.033\n",
       "88  0.930  0.000  0.023  0.000  0.000  0.000  0.000  0.000  0.047\n",
       "89  0.900  0.000  0.033  0.000  0.000  0.000  0.000  0.000  0.067\n",
       "\n",
       "[90 rows x 9 columns]"
      ]
     },
     "execution_count": 40,
     "metadata": {},
     "output_type": "execute_result"
    }
   ],
   "source": [
    "df_with_data"
   ]
  },
  {
   "cell_type": "code",
   "execution_count": 41,
   "id": "9f0b4abc-df02-4b22-8fd5-e3e614b64d36",
   "metadata": {},
   "outputs": [
    {
     "data": {
      "text/plain": [
       "8.988937730355346"
      ]
     },
     "execution_count": 41,
     "metadata": {},
     "output_type": "execute_result"
    }
   ],
   "source": [
    "space = qmc.scale(df_with_data, l_bounds, u_bounds, reverse=True)\n",
    "qmc.discrepancy(space)"
   ]
  },
  {
   "cell_type": "code",
   "execution_count": 42,
   "id": "1392743f-29fc-461d-9451-9ab08989ea4f",
   "metadata": {},
   "outputs": [
    {
     "data": {
      "text/plain": [
       "9.848937884716944"
      ]
     },
     "execution_count": 42,
     "metadata": {},
     "output_type": "execute_result"
    }
   ],
   "source": [
    "qmc.discrepancy(space, method='WD')"
   ]
  },
  {
   "cell_type": "code",
   "execution_count": 43,
   "id": "7ec0f4c2-bf76-4e65-89d3-3083f9a23fe6",
   "metadata": {},
   "outputs": [
    {
     "data": {
      "text/plain": [
       "0.07141894876652077"
      ]
     },
     "execution_count": 43,
     "metadata": {},
     "output_type": "execute_result"
    }
   ],
   "source": [
    "np.linalg.norm(space.var())"
   ]
  },
  {
   "cell_type": "code",
   "execution_count": 44,
   "id": "4d8a941e-bb38-46ad-af73-f1f12f39978c",
   "metadata": {},
   "outputs": [],
   "source": [
    "df_15_samps_lhsmdu = pd.DataFrame(tol_samples_LHSMDU_unscaled,columns=['PA-56','PhA','Mel','THAM','CS','BN','ZnBO','CaBO','HNT'])\n",
    "df_15_samps_lhsmdu_scaled = pd.DataFrame(tol_samples_LHSMDU,columns=['PA-56','PhA','Mel','THAM','CS','BN','ZnBO','CaBO','HNT'])"
   ]
  },
  {
   "cell_type": "code",
   "execution_count": 45,
   "id": "b66d7490-8e12-4985-8131-6f8109337b99",
   "metadata": {
    "tags": []
   },
   "outputs": [
    {
     "data": {
      "text/plain": [
       "5.126540939266676"
      ]
     },
     "execution_count": 45,
     "metadata": {},
     "output_type": "execute_result"
    }
   ],
   "source": [
    "space = qmc.scale(df_15_samps_lhsmdu, l_bounds, u_bounds, reverse=True)\n",
    "qmc.discrepancy(space)"
   ]
  },
  {
   "cell_type": "code",
   "execution_count": 46,
   "id": "162963f3-52a5-4eb9-a45b-99424f76a937",
   "metadata": {},
   "outputs": [
    {
     "data": {
      "text/plain": [
       "8.10819823936559"
      ]
     },
     "execution_count": 46,
     "metadata": {},
     "output_type": "execute_result"
    }
   ],
   "source": [
    "qmc.discrepancy(space, method='WD')"
   ]
  },
  {
   "cell_type": "code",
   "execution_count": 47,
   "id": "3a26e68b-2df4-4d3e-94d5-21fbf32ac85e",
   "metadata": {},
   "outputs": [
    {
     "data": {
      "text/plain": [
       "0.07861363690826122"
      ]
     },
     "execution_count": 47,
     "metadata": {},
     "output_type": "execute_result"
    }
   ],
   "source": [
    "np.linalg.norm(space.var())"
   ]
  },
  {
   "cell_type": "markdown",
   "id": "ca25d5aa-8f51-46f6-89da-374aadcd9ef9",
   "metadata": {
    "tags": []
   },
   "source": [
    "#### Check if add up to 100%"
   ]
  },
  {
   "cell_type": "code",
   "execution_count": 48,
   "id": "2cbf26a4-6582-4895-9513-3f608a9e849a",
   "metadata": {},
   "outputs": [],
   "source": [
    "df_perc_lhsmdu = df_15_samps_lhsmdu*100\n",
    "for i in range(len(df_perc_lhsmdu)):\n",
    "    if abs(sum(df_perc_lhsmdu.iloc[i,:])-100)>1e-2:\n",
    "        print(sum(df_perc_lhsmdu.iloc[i,:]))"
   ]
  },
  {
   "cell_type": "code",
   "execution_count": 49,
   "id": "6482a010-9089-4f70-b11b-fcbe590054ac",
   "metadata": {},
   "outputs": [
    {
     "data": {
      "text/html": [
       "<div>\n",
       "<style scoped>\n",
       "    .dataframe tbody tr th:only-of-type {\n",
       "        vertical-align: middle;\n",
       "    }\n",
       "\n",
       "    .dataframe tbody tr th {\n",
       "        vertical-align: top;\n",
       "    }\n",
       "\n",
       "    .dataframe thead th {\n",
       "        text-align: right;\n",
       "    }\n",
       "</style>\n",
       "<table border=\"1\" class=\"dataframe\">\n",
       "  <thead>\n",
       "    <tr style=\"text-align: right;\">\n",
       "      <th></th>\n",
       "      <th>PA-56</th>\n",
       "      <th>PhA</th>\n",
       "      <th>Mel</th>\n",
       "      <th>THAM</th>\n",
       "      <th>CS</th>\n",
       "      <th>BN</th>\n",
       "      <th>ZnBO</th>\n",
       "      <th>CaBO</th>\n",
       "      <th>HNT</th>\n",
       "    </tr>\n",
       "  </thead>\n",
       "  <tbody>\n",
       "    <tr>\n",
       "      <th>0</th>\n",
       "      <td>84.1</td>\n",
       "      <td>4.3</td>\n",
       "      <td>5.0</td>\n",
       "      <td>0.0</td>\n",
       "      <td>0.0</td>\n",
       "      <td>0.0</td>\n",
       "      <td>6.6</td>\n",
       "      <td>0.0</td>\n",
       "      <td>0.0</td>\n",
       "    </tr>\n",
       "    <tr>\n",
       "      <th>1</th>\n",
       "      <td>85.5</td>\n",
       "      <td>0.3</td>\n",
       "      <td>0.0</td>\n",
       "      <td>0.0</td>\n",
       "      <td>0.7</td>\n",
       "      <td>0.0</td>\n",
       "      <td>0.0</td>\n",
       "      <td>13.5</td>\n",
       "      <td>0.0</td>\n",
       "    </tr>\n",
       "    <tr>\n",
       "      <th>2</th>\n",
       "      <td>85.6</td>\n",
       "      <td>1.9</td>\n",
       "      <td>3.4</td>\n",
       "      <td>0.0</td>\n",
       "      <td>1.5</td>\n",
       "      <td>0.0</td>\n",
       "      <td>7.6</td>\n",
       "      <td>0.0</td>\n",
       "      <td>0.0</td>\n",
       "    </tr>\n",
       "    <tr>\n",
       "      <th>3</th>\n",
       "      <td>80.8</td>\n",
       "      <td>1.7</td>\n",
       "      <td>0.0</td>\n",
       "      <td>3.5</td>\n",
       "      <td>3.1</td>\n",
       "      <td>0.0</td>\n",
       "      <td>10.9</td>\n",
       "      <td>0.0</td>\n",
       "      <td>0.0</td>\n",
       "    </tr>\n",
       "    <tr>\n",
       "      <th>4</th>\n",
       "      <td>80.3</td>\n",
       "      <td>0.7</td>\n",
       "      <td>0.0</td>\n",
       "      <td>0.0</td>\n",
       "      <td>0.0</td>\n",
       "      <td>9.9</td>\n",
       "      <td>0.0</td>\n",
       "      <td>9.1</td>\n",
       "      <td>0.0</td>\n",
       "    </tr>\n",
       "    <tr>\n",
       "      <th>5</th>\n",
       "      <td>84.6</td>\n",
       "      <td>4.0</td>\n",
       "      <td>4.5</td>\n",
       "      <td>0.0</td>\n",
       "      <td>4.1</td>\n",
       "      <td>0.0</td>\n",
       "      <td>2.8</td>\n",
       "      <td>0.0</td>\n",
       "      <td>0.0</td>\n",
       "    </tr>\n",
       "    <tr>\n",
       "      <th>6</th>\n",
       "      <td>86.4</td>\n",
       "      <td>1.2</td>\n",
       "      <td>0.0</td>\n",
       "      <td>0.0</td>\n",
       "      <td>3.4</td>\n",
       "      <td>0.0</td>\n",
       "      <td>9.0</td>\n",
       "      <td>0.0</td>\n",
       "      <td>0.0</td>\n",
       "    </tr>\n",
       "    <tr>\n",
       "      <th>7</th>\n",
       "      <td>83.2</td>\n",
       "      <td>1.7</td>\n",
       "      <td>0.0</td>\n",
       "      <td>0.0</td>\n",
       "      <td>7.8</td>\n",
       "      <td>0.0</td>\n",
       "      <td>0.0</td>\n",
       "      <td>7.3</td>\n",
       "      <td>0.0</td>\n",
       "    </tr>\n",
       "    <tr>\n",
       "      <th>8</th>\n",
       "      <td>81.7</td>\n",
       "      <td>4.1</td>\n",
       "      <td>5.5</td>\n",
       "      <td>0.0</td>\n",
       "      <td>0.0</td>\n",
       "      <td>0.0</td>\n",
       "      <td>0.0</td>\n",
       "      <td>8.7</td>\n",
       "      <td>0.0</td>\n",
       "    </tr>\n",
       "    <tr>\n",
       "      <th>9</th>\n",
       "      <td>84.9</td>\n",
       "      <td>0.2</td>\n",
       "      <td>0.0</td>\n",
       "      <td>9.3</td>\n",
       "      <td>0.0</td>\n",
       "      <td>0.0</td>\n",
       "      <td>5.6</td>\n",
       "      <td>0.0</td>\n",
       "      <td>0.0</td>\n",
       "    </tr>\n",
       "    <tr>\n",
       "      <th>10</th>\n",
       "      <td>83.5</td>\n",
       "      <td>0.5</td>\n",
       "      <td>0.0</td>\n",
       "      <td>0.0</td>\n",
       "      <td>0.0</td>\n",
       "      <td>7.3</td>\n",
       "      <td>0.0</td>\n",
       "      <td>8.7</td>\n",
       "      <td>0.0</td>\n",
       "    </tr>\n",
       "    <tr>\n",
       "      <th>11</th>\n",
       "      <td>80.5</td>\n",
       "      <td>3.6</td>\n",
       "      <td>3.9</td>\n",
       "      <td>0.0</td>\n",
       "      <td>2.8</td>\n",
       "      <td>0.0</td>\n",
       "      <td>0.0</td>\n",
       "      <td>9.2</td>\n",
       "      <td>0.0</td>\n",
       "    </tr>\n",
       "    <tr>\n",
       "      <th>12</th>\n",
       "      <td>81.2</td>\n",
       "      <td>2.2</td>\n",
       "      <td>5.6</td>\n",
       "      <td>0.0</td>\n",
       "      <td>3.0</td>\n",
       "      <td>0.0</td>\n",
       "      <td>8.0</td>\n",
       "      <td>0.0</td>\n",
       "      <td>0.0</td>\n",
       "    </tr>\n",
       "    <tr>\n",
       "      <th>13</th>\n",
       "      <td>80.5</td>\n",
       "      <td>3.5</td>\n",
       "      <td>0.0</td>\n",
       "      <td>0.5</td>\n",
       "      <td>4.8</td>\n",
       "      <td>0.0</td>\n",
       "      <td>10.7</td>\n",
       "      <td>0.0</td>\n",
       "      <td>0.0</td>\n",
       "    </tr>\n",
       "    <tr>\n",
       "      <th>14</th>\n",
       "      <td>81.4</td>\n",
       "      <td>0.1</td>\n",
       "      <td>2.9</td>\n",
       "      <td>0.0</td>\n",
       "      <td>1.8</td>\n",
       "      <td>0.0</td>\n",
       "      <td>13.8</td>\n",
       "      <td>0.0</td>\n",
       "      <td>0.0</td>\n",
       "    </tr>\n",
       "  </tbody>\n",
       "</table>\n",
       "</div>"
      ],
      "text/plain": [
       "    PA-56  PhA  Mel  THAM   CS   BN  ZnBO  CaBO  HNT\n",
       "0    84.1  4.3  5.0   0.0  0.0  0.0   6.6   0.0  0.0\n",
       "1    85.5  0.3  0.0   0.0  0.7  0.0   0.0  13.5  0.0\n",
       "2    85.6  1.9  3.4   0.0  1.5  0.0   7.6   0.0  0.0\n",
       "3    80.8  1.7  0.0   3.5  3.1  0.0  10.9   0.0  0.0\n",
       "4    80.3  0.7  0.0   0.0  0.0  9.9   0.0   9.1  0.0\n",
       "5    84.6  4.0  4.5   0.0  4.1  0.0   2.8   0.0  0.0\n",
       "6    86.4  1.2  0.0   0.0  3.4  0.0   9.0   0.0  0.0\n",
       "7    83.2  1.7  0.0   0.0  7.8  0.0   0.0   7.3  0.0\n",
       "8    81.7  4.1  5.5   0.0  0.0  0.0   0.0   8.7  0.0\n",
       "9    84.9  0.2  0.0   9.3  0.0  0.0   5.6   0.0  0.0\n",
       "10   83.5  0.5  0.0   0.0  0.0  7.3   0.0   8.7  0.0\n",
       "11   80.5  3.6  3.9   0.0  2.8  0.0   0.0   9.2  0.0\n",
       "12   81.2  2.2  5.6   0.0  3.0  0.0   8.0   0.0  0.0\n",
       "13   80.5  3.5  0.0   0.5  4.8  0.0  10.7   0.0  0.0\n",
       "14   81.4  0.1  2.9   0.0  1.8  0.0  13.8   0.0  0.0"
      ]
     },
     "execution_count": 49,
     "metadata": {},
     "output_type": "execute_result"
    }
   ],
   "source": [
    "df_perc_lhsmdu"
   ]
  },
  {
   "cell_type": "code",
   "execution_count": 50,
   "id": "62083e5e-6ebc-453c-a0c4-4be989f9b493",
   "metadata": {},
   "outputs": [],
   "source": [
    "filepath = Path('Outputs/postprocessed_outputs_15lhsmdu_9dim.csv')  \n",
    "filepath.parent.mkdir(parents=True, exist_ok=True)  \n",
    "df_perc_lhsmdu.to_csv(filepath, float_format='%.1f') "
   ]
  },
  {
   "cell_type": "code",
   "execution_count": 51,
   "id": "3fbfedba-f67c-4c85-9507-c60be1bf946c",
   "metadata": {
    "tags": []
   },
   "outputs": [
    {
     "data": {
      "text/plain": [
       "5.126540939266676"
      ]
     },
     "execution_count": 51,
     "metadata": {},
     "output_type": "execute_result"
    }
   ],
   "source": [
    "space = qmc.scale(df_15_samps_lhsmdu, l_bounds, u_bounds, reverse=True)\n",
    "qmc.discrepancy(space)"
   ]
  },
  {
   "cell_type": "code",
   "execution_count": 52,
   "id": "cffd13c5-409e-4307-aee4-1e1eef045125",
   "metadata": {},
   "outputs": [
    {
     "data": {
      "text/plain": [
       "8.10819823936559"
      ]
     },
     "execution_count": 52,
     "metadata": {},
     "output_type": "execute_result"
    }
   ],
   "source": [
    "qmc.discrepancy(space, method='WD')"
   ]
  },
  {
   "cell_type": "code",
   "execution_count": 53,
   "id": "9d56c6aa-9ed6-44b1-a185-c87e159d1d81",
   "metadata": {},
   "outputs": [
    {
     "data": {
      "text/plain": [
       "0.07861363690826122"
      ]
     },
     "execution_count": 53,
     "metadata": {},
     "output_type": "execute_result"
    }
   ],
   "source": [
    "np.linalg.norm(space.var())"
   ]
  },
  {
   "cell_type": "code",
   "execution_count": 54,
   "id": "5db9acdd-542c-4e51-9dcb-527ce58a1cd2",
   "metadata": {},
   "outputs": [],
   "source": [
    "df_lhsmdu_with_data = pd.concat([df_15_samps_lhsmdu, df_data], ignore_index=True, axis=0)"
   ]
  },
  {
   "cell_type": "code",
   "execution_count": 55,
   "id": "b6a3774d-6d38-420c-90c3-6515e1ad17e2",
   "metadata": {},
   "outputs": [
    {
     "data": {
      "text/plain": [
       "9.08468179539749"
      ]
     },
     "execution_count": 55,
     "metadata": {},
     "output_type": "execute_result"
    }
   ],
   "source": [
    "space = qmc.scale(df_lhsmdu_with_data, l_bounds, u_bounds, reverse=True)\n",
    "qmc.discrepancy(space)#default CD"
   ]
  },
  {
   "cell_type": "code",
   "execution_count": 56,
   "id": "10b429be-a6dc-47c3-8ae8-8e377710fade",
   "metadata": {},
   "outputs": [
    {
     "data": {
      "text/plain": [
       "9.875155064865409"
      ]
     },
     "execution_count": 56,
     "metadata": {},
     "output_type": "execute_result"
    }
   ],
   "source": [
    "qmc.discrepancy(space, method='WD')"
   ]
  },
  {
   "cell_type": "code",
   "execution_count": 57,
   "id": "5e8ee2a5-660d-4412-a674-2d28c4241422",
   "metadata": {
    "tags": []
   },
   "outputs": [
    {
     "data": {
      "text/plain": [
       "0.06992868393941938"
      ]
     },
     "execution_count": 57,
     "metadata": {},
     "output_type": "execute_result"
    }
   ],
   "source": [
    "np.linalg.norm(space.var())"
   ]
  },
  {
   "cell_type": "code",
   "execution_count": 58,
   "id": "cb39b52b-0057-4487-a61c-9f75a1311e01",
   "metadata": {},
   "outputs": [
    {
     "name": "stderr",
     "output_type": "stream",
     "text": [
      "The PostScript backend does not support transparency; partially transparent artists will be rendered opaque.\n"
     ]
    },
    {
     "data": {
      "image/png": "[encoded data removed]",
      "text/plain": [
       "<Figure size 640x480 with 1 Axes>"
      ]
     },
     "metadata": {},
     "output_type": "display_data"
    }
   ],
   "source": [
    "pca = PCA(n_components=2)\n",
    "Xt1_pca = pca.fit_transform(data_scaled)\n",
    "Xt2_pca = pca.fit_transform(df_15_samps_scaled)\n",
    "Xt3_pca = pca.fit_transform(df_15_samps_lhsmdu_scaled)\n",
    "    \n",
    "plot_dimred_2dims_both_methods(Xt1_pca, Xt2_pca, Xt3_pca, filename_eps='Figures_9dim/plot_scaled_15pts.eps')"
   ]
  },
  {
   "cell_type": "markdown",
   "id": "c80942a0-3b37-4b57-baee-18b9bb5fd6ec",
   "metadata": {},
   "source": [
    "### **7. Distribution plots**"
   ]
  },
  {
   "cell_type": "code",
   "execution_count": 59,
   "id": "38a5a296-32ee-4391-8f3f-bba749feba15",
   "metadata": {},
   "outputs": [],
   "source": [
    "df_perc_lhsmdu = df_15_samps_lhsmdu*100\n",
    "for i in range(len(df_perc_lhsmdu)):\n",
    "    if abs(sum(df_perc_lhsmdu.iloc[i,:])-100)>1e-2:\n",
    "        print(sum(df_perc_lhsmdu.iloc[i,:]))"
   ]
  },
  {
   "cell_type": "code",
   "execution_count": 60,
   "id": "9b396855-8d6a-4c60-ab68-d4d81ed02069",
   "metadata": {},
   "outputs": [
    {
     "data": {
      "text/html": [
       "<div>\n",
       "<style scoped>\n",
       "    .dataframe tbody tr th:only-of-type {\n",
       "        vertical-align: middle;\n",
       "    }\n",
       "\n",
       "    .dataframe tbody tr th {\n",
       "        vertical-align: top;\n",
       "    }\n",
       "\n",
       "    .dataframe thead th {\n",
       "        text-align: right;\n",
       "    }\n",
       "</style>\n",
       "<table border=\"1\" class=\"dataframe\">\n",
       "  <thead>\n",
       "    <tr style=\"text-align: right;\">\n",
       "      <th></th>\n",
       "      <th>PA-56</th>\n",
       "      <th>PhA</th>\n",
       "      <th>Mel</th>\n",
       "      <th>THAM</th>\n",
       "      <th>CS</th>\n",
       "      <th>BN</th>\n",
       "      <th>ZnBO</th>\n",
       "      <th>CaBO</th>\n",
       "      <th>HNT</th>\n",
       "    </tr>\n",
       "  </thead>\n",
       "  <tbody>\n",
       "    <tr>\n",
       "      <th>0</th>\n",
       "      <td>84.1</td>\n",
       "      <td>4.3</td>\n",
       "      <td>5.0</td>\n",
       "      <td>0.0</td>\n",
       "      <td>0.0</td>\n",
       "      <td>0.0</td>\n",
       "      <td>6.6</td>\n",
       "      <td>0.0</td>\n",
       "      <td>0.0</td>\n",
       "    </tr>\n",
       "    <tr>\n",
       "      <th>1</th>\n",
       "      <td>85.5</td>\n",
       "      <td>0.3</td>\n",
       "      <td>0.0</td>\n",
       "      <td>0.0</td>\n",
       "      <td>0.7</td>\n",
       "      <td>0.0</td>\n",
       "      <td>0.0</td>\n",
       "      <td>13.5</td>\n",
       "      <td>0.0</td>\n",
       "    </tr>\n",
       "    <tr>\n",
       "      <th>2</th>\n",
       "      <td>85.6</td>\n",
       "      <td>1.9</td>\n",
       "      <td>3.4</td>\n",
       "      <td>0.0</td>\n",
       "      <td>1.5</td>\n",
       "      <td>0.0</td>\n",
       "      <td>7.6</td>\n",
       "      <td>0.0</td>\n",
       "      <td>0.0</td>\n",
       "    </tr>\n",
       "    <tr>\n",
       "      <th>3</th>\n",
       "      <td>80.8</td>\n",
       "      <td>1.7</td>\n",
       "      <td>0.0</td>\n",
       "      <td>3.5</td>\n",
       "      <td>3.1</td>\n",
       "      <td>0.0</td>\n",
       "      <td>10.9</td>\n",
       "      <td>0.0</td>\n",
       "      <td>0.0</td>\n",
       "    </tr>\n",
       "    <tr>\n",
       "      <th>4</th>\n",
       "      <td>80.3</td>\n",
       "      <td>0.7</td>\n",
       "      <td>0.0</td>\n",
       "      <td>0.0</td>\n",
       "      <td>0.0</td>\n",
       "      <td>9.9</td>\n",
       "      <td>0.0</td>\n",
       "      <td>9.1</td>\n",
       "      <td>0.0</td>\n",
       "    </tr>\n",
       "    <tr>\n",
       "      <th>5</th>\n",
       "      <td>84.6</td>\n",
       "      <td>4.0</td>\n",
       "      <td>4.5</td>\n",
       "      <td>0.0</td>\n",
       "      <td>4.1</td>\n",
       "      <td>0.0</td>\n",
       "      <td>2.8</td>\n",
       "      <td>0.0</td>\n",
       "      <td>0.0</td>\n",
       "    </tr>\n",
       "    <tr>\n",
       "      <th>6</th>\n",
       "      <td>86.4</td>\n",
       "      <td>1.2</td>\n",
       "      <td>0.0</td>\n",
       "      <td>0.0</td>\n",
       "      <td>3.4</td>\n",
       "      <td>0.0</td>\n",
       "      <td>9.0</td>\n",
       "      <td>0.0</td>\n",
       "      <td>0.0</td>\n",
       "    </tr>\n",
       "    <tr>\n",
       "      <th>7</th>\n",
       "      <td>83.2</td>\n",
       "      <td>1.7</td>\n",
       "      <td>0.0</td>\n",
       "      <td>0.0</td>\n",
       "      <td>7.8</td>\n",
       "      <td>0.0</td>\n",
       "      <td>0.0</td>\n",
       "      <td>7.3</td>\n",
       "      <td>0.0</td>\n",
       "    </tr>\n",
       "    <tr>\n",
       "      <th>8</th>\n",
       "      <td>81.7</td>\n",
       "      <td>4.1</td>\n",
       "      <td>5.5</td>\n",
       "      <td>0.0</td>\n",
       "      <td>0.0</td>\n",
       "      <td>0.0</td>\n",
       "      <td>0.0</td>\n",
       "      <td>8.7</td>\n",
       "      <td>0.0</td>\n",
       "    </tr>\n",
       "    <tr>\n",
       "      <th>9</th>\n",
       "      <td>84.9</td>\n",
       "      <td>0.2</td>\n",
       "      <td>0.0</td>\n",
       "      <td>9.3</td>\n",
       "      <td>0.0</td>\n",
       "      <td>0.0</td>\n",
       "      <td>5.6</td>\n",
       "      <td>0.0</td>\n",
       "      <td>0.0</td>\n",
       "    </tr>\n",
       "    <tr>\n",
       "      <th>10</th>\n",
       "      <td>83.5</td>\n",
       "      <td>0.5</td>\n",
       "      <td>0.0</td>\n",
       "      <td>0.0</td>\n",
       "      <td>0.0</td>\n",
       "      <td>7.3</td>\n",
       "      <td>0.0</td>\n",
       "      <td>8.7</td>\n",
       "      <td>0.0</td>\n",
       "    </tr>\n",
       "    <tr>\n",
       "      <th>11</th>\n",
       "      <td>80.5</td>\n",
       "      <td>3.6</td>\n",
       "      <td>3.9</td>\n",
       "      <td>0.0</td>\n",
       "      <td>2.8</td>\n",
       "      <td>0.0</td>\n",
       "      <td>0.0</td>\n",
       "      <td>9.2</td>\n",
       "      <td>0.0</td>\n",
       "    </tr>\n",
       "    <tr>\n",
       "      <th>12</th>\n",
       "      <td>81.2</td>\n",
       "      <td>2.2</td>\n",
       "      <td>5.6</td>\n",
       "      <td>0.0</td>\n",
       "      <td>3.0</td>\n",
       "      <td>0.0</td>\n",
       "      <td>8.0</td>\n",
       "      <td>0.0</td>\n",
       "      <td>0.0</td>\n",
       "    </tr>\n",
       "    <tr>\n",
       "      <th>13</th>\n",
       "      <td>80.5</td>\n",
       "      <td>3.5</td>\n",
       "      <td>0.0</td>\n",
       "      <td>0.5</td>\n",
       "      <td>4.8</td>\n",
       "      <td>0.0</td>\n",
       "      <td>10.7</td>\n",
       "      <td>0.0</td>\n",
       "      <td>0.0</td>\n",
       "    </tr>\n",
       "    <tr>\n",
       "      <th>14</th>\n",
       "      <td>81.4</td>\n",
       "      <td>0.1</td>\n",
       "      <td>2.9</td>\n",
       "      <td>0.0</td>\n",
       "      <td>1.8</td>\n",
       "      <td>0.0</td>\n",
       "      <td>13.8</td>\n",
       "      <td>0.0</td>\n",
       "      <td>0.0</td>\n",
       "    </tr>\n",
       "  </tbody>\n",
       "</table>\n",
       "</div>"
      ],
      "text/plain": [
       "    PA-56  PhA  Mel  THAM   CS   BN  ZnBO  CaBO  HNT\n",
       "0    84.1  4.3  5.0   0.0  0.0  0.0   6.6   0.0  0.0\n",
       "1    85.5  0.3  0.0   0.0  0.7  0.0   0.0  13.5  0.0\n",
       "2    85.6  1.9  3.4   0.0  1.5  0.0   7.6   0.0  0.0\n",
       "3    80.8  1.7  0.0   3.5  3.1  0.0  10.9   0.0  0.0\n",
       "4    80.3  0.7  0.0   0.0  0.0  9.9   0.0   9.1  0.0\n",
       "5    84.6  4.0  4.5   0.0  4.1  0.0   2.8   0.0  0.0\n",
       "6    86.4  1.2  0.0   0.0  3.4  0.0   9.0   0.0  0.0\n",
       "7    83.2  1.7  0.0   0.0  7.8  0.0   0.0   7.3  0.0\n",
       "8    81.7  4.1  5.5   0.0  0.0  0.0   0.0   8.7  0.0\n",
       "9    84.9  0.2  0.0   9.3  0.0  0.0   5.6   0.0  0.0\n",
       "10   83.5  0.5  0.0   0.0  0.0  7.3   0.0   8.7  0.0\n",
       "11   80.5  3.6  3.9   0.0  2.8  0.0   0.0   9.2  0.0\n",
       "12   81.2  2.2  5.6   0.0  3.0  0.0   8.0   0.0  0.0\n",
       "13   80.5  3.5  0.0   0.5  4.8  0.0  10.7   0.0  0.0\n",
       "14   81.4  0.1  2.9   0.0  1.8  0.0  13.8   0.0  0.0"
      ]
     },
     "execution_count": 60,
     "metadata": {},
     "output_type": "execute_result"
    }
   ],
   "source": [
    "df_perc_lhsmdu"
   ]
  },
  {
   "cell_type": "code",
   "execution_count": 61,
   "id": "62bf2e8e-7a2a-4741-9233-d5f6ea923535",
   "metadata": {
    "tags": []
   },
   "outputs": [
    {
     "data": {
      "text/plain": [
       "5.126540939266676"
      ]
     },
     "execution_count": 61,
     "metadata": {},
     "output_type": "execute_result"
    }
   ],
   "source": [
    "space = qmc.scale(df_15_samps_lhsmdu, l_bounds, u_bounds, reverse=True)\n",
    "qmc.discrepancy(space)"
   ]
  },
  {
   "cell_type": "code",
   "execution_count": 62,
   "id": "b48c3891-692d-457d-9b30-eb36748936e6",
   "metadata": {},
   "outputs": [
    {
     "data": {
      "text/plain": [
       "8.10819823936559"
      ]
     },
     "execution_count": 62,
     "metadata": {},
     "output_type": "execute_result"
    }
   ],
   "source": [
    "qmc.discrepancy(space, method='WD')"
   ]
  },
  {
   "cell_type": "code",
   "execution_count": 63,
   "id": "c97cef0e-295a-448c-b95d-768d31f9ec03",
   "metadata": {},
   "outputs": [
    {
     "data": {
      "text/plain": [
       "0.07861363690826122"
      ]
     },
     "execution_count": 63,
     "metadata": {},
     "output_type": "execute_result"
    }
   ],
   "source": [
    "np.linalg.norm(space.var())"
   ]
  },
  {
   "cell_type": "code",
   "execution_count": 64,
   "id": "22820a02-6e1f-4c6d-a959-c250593768a7",
   "metadata": {},
   "outputs": [],
   "source": [
    "df_lhsmdu_with_data = pd.concat([df_15_samps_lhsmdu, df_data], ignore_index=True, axis=0)"
   ]
  },
  {
   "cell_type": "code",
   "execution_count": 65,
   "id": "07341138-6bf4-452e-968e-6c62b5f35b7f",
   "metadata": {},
   "outputs": [
    {
     "data": {
      "text/plain": [
       "9.08468179539749"
      ]
     },
     "execution_count": 65,
     "metadata": {},
     "output_type": "execute_result"
    }
   ],
   "source": [
    "space = qmc.scale(df_lhsmdu_with_data, l_bounds, u_bounds, reverse=True)\n",
    "qmc.discrepancy(space)#default CD"
   ]
  },
  {
   "cell_type": "code",
   "execution_count": 66,
   "id": "57b14c45-0d99-416d-bc86-fbcac51d7612",
   "metadata": {},
   "outputs": [
    {
     "data": {
      "text/plain": [
       "9.875155064865409"
      ]
     },
     "execution_count": 66,
     "metadata": {},
     "output_type": "execute_result"
    }
   ],
   "source": [
    "qmc.discrepancy(space, method='WD')"
   ]
  },
  {
   "cell_type": "code",
   "execution_count": 67,
   "id": "3f524686-4e0f-46b9-8434-6a113a022c20",
   "metadata": {},
   "outputs": [
    {
     "data": {
      "text/plain": [
       "0.06992868393941938"
      ]
     },
     "execution_count": 67,
     "metadata": {},
     "output_type": "execute_result"
    }
   ],
   "source": [
    "np.linalg.norm(space.var())"
   ]
  },
  {
   "cell_type": "code",
   "execution_count": 68,
   "id": "36445aaa-6492-4ce6-a781-dedce33f188a",
   "metadata": {},
   "outputs": [
    {
     "name": "stderr",
     "output_type": "stream",
     "text": [
      "The PostScript backend does not support transparency; partially transparent artists will be rendered opaque.\n"
     ]
    },
    {
     "ename": "FileNotFoundError",
     "evalue": "[Errno 2] No such file or directory: 'Figures_alldim/plot_scaled_15pts.eps'",
     "output_type": "error",
     "traceback": [
      "\u001b[0;31m---------------------------------------------------------------------------\u001b[0m",
      "\u001b[0;31mFileNotFoundError\u001b[0m                         Traceback (most recent call last)",
      "Cell \u001b[0;32mIn[68], line 13\u001b[0m\n\u001b[1;32m     10\u001b[0m     plt\u001b[38;5;241m.\u001b[39msavefig(\u001b[38;5;124m'\u001b[39m\u001b[38;5;124mFigures_alldim/plot_scaled_15pts.eps\u001b[39m\u001b[38;5;124m'\u001b[39m, \u001b[38;5;28mformat\u001b[39m\u001b[38;5;241m=\u001b[39m\u001b[38;5;124m'\u001b[39m\u001b[38;5;124meps\u001b[39m\u001b[38;5;124m'\u001b[39m)\n\u001b[1;32m     11\u001b[0m     plt\u001b[38;5;241m.\u001b[39mshow()\n\u001b[0;32m---> 13\u001b[0m \u001b[43mplot_dimred_2dims_both_methods\u001b[49m\u001b[43m(\u001b[49m\u001b[43mdata_scaled\u001b[49m\u001b[43m,\u001b[49m\u001b[43m \u001b[49m\u001b[43mdf_15_samps_scaled\u001b[49m\u001b[43m,\u001b[49m\u001b[43m \u001b[49m\u001b[43mdf_15_samps_lhsmdu_scaled\u001b[49m\u001b[43m)\u001b[49m\n",
      "Cell \u001b[0;32mIn[68], line 10\u001b[0m, in \u001b[0;36mplot_dimred_2dims_both_methods\u001b[0;34m(Xt1, Xt2_new, Xt3_new)\u001b[0m\n\u001b[1;32m      8\u001b[0m plt\u001b[38;5;241m.\u001b[39mscatter(Xt3_pca[:,\u001b[38;5;241m0\u001b[39m], Xt3_pca[:,\u001b[38;5;241m1\u001b[39m])\n\u001b[1;32m      9\u001b[0m plt\u001b[38;5;241m.\u001b[39mlegend([\u001b[38;5;124m'\u001b[39m\u001b[38;5;124mData\u001b[39m\u001b[38;5;124m'\u001b[39m, \u001b[38;5;124m'\u001b[39m\u001b[38;5;124mLHS\u001b[39m\u001b[38;5;124m'\u001b[39m, \u001b[38;5;124m'\u001b[39m\u001b[38;5;124mLHSMDU\u001b[39m\u001b[38;5;124m'\u001b[39m])\n\u001b[0;32m---> 10\u001b[0m \u001b[43mplt\u001b[49m\u001b[38;5;241;43m.\u001b[39;49m\u001b[43msavefig\u001b[49m\u001b[43m(\u001b[49m\u001b[38;5;124;43m'\u001b[39;49m\u001b[38;5;124;43mFigures_alldim/plot_scaled_15pts.eps\u001b[39;49m\u001b[38;5;124;43m'\u001b[39;49m\u001b[43m,\u001b[49m\u001b[43m \u001b[49m\u001b[38;5;28;43mformat\u001b[39;49m\u001b[38;5;241;43m=\u001b[39;49m\u001b[38;5;124;43m'\u001b[39;49m\u001b[38;5;124;43meps\u001b[39;49m\u001b[38;5;124;43m'\u001b[39;49m\u001b[43m)\u001b[49m\n\u001b[1;32m     11\u001b[0m plt\u001b[38;5;241m.\u001b[39mshow()\n",
      "File \u001b[0;32m~/Programs/LabAutomation/gpcam_env/lib/python3.9/site-packages/matplotlib/pyplot.py:1023\u001b[0m, in \u001b[0;36msavefig\u001b[0;34m(*args, **kwargs)\u001b[0m\n\u001b[1;32m   1020\u001b[0m \u001b[38;5;129m@_copy_docstring_and_deprecators\u001b[39m(Figure\u001b[38;5;241m.\u001b[39msavefig)\n\u001b[1;32m   1021\u001b[0m \u001b[38;5;28;01mdef\u001b[39;00m \u001b[38;5;21msavefig\u001b[39m(\u001b[38;5;241m*\u001b[39margs, \u001b[38;5;241m*\u001b[39m\u001b[38;5;241m*\u001b[39mkwargs):\n\u001b[1;32m   1022\u001b[0m     fig \u001b[38;5;241m=\u001b[39m gcf()\n\u001b[0;32m-> 1023\u001b[0m     res \u001b[38;5;241m=\u001b[39m \u001b[43mfig\u001b[49m\u001b[38;5;241;43m.\u001b[39;49m\u001b[43msavefig\u001b[49m\u001b[43m(\u001b[49m\u001b[38;5;241;43m*\u001b[39;49m\u001b[43margs\u001b[49m\u001b[43m,\u001b[49m\u001b[43m \u001b[49m\u001b[38;5;241;43m*\u001b[39;49m\u001b[38;5;241;43m*\u001b[39;49m\u001b[43mkwargs\u001b[49m\u001b[43m)\u001b[49m\n\u001b[1;32m   1024\u001b[0m     fig\u001b[38;5;241m.\u001b[39mcanvas\u001b[38;5;241m.\u001b[39mdraw_idle()  \u001b[38;5;66;03m# Need this if 'transparent=True', to reset colors.\u001b[39;00m\n\u001b[1;32m   1025\u001b[0m     \u001b[38;5;28;01mreturn\u001b[39;00m res\n",
      "File \u001b[0;32m~/Programs/LabAutomation/gpcam_env/lib/python3.9/site-packages/matplotlib/figure.py:3343\u001b[0m, in \u001b[0;36mFigure.savefig\u001b[0;34m(self, fname, transparent, **kwargs)\u001b[0m\n\u001b[1;32m   3339\u001b[0m     \u001b[38;5;28;01mfor\u001b[39;00m ax \u001b[38;5;129;01min\u001b[39;00m \u001b[38;5;28mself\u001b[39m\u001b[38;5;241m.\u001b[39maxes:\n\u001b[1;32m   3340\u001b[0m         stack\u001b[38;5;241m.\u001b[39menter_context(\n\u001b[1;32m   3341\u001b[0m             ax\u001b[38;5;241m.\u001b[39mpatch\u001b[38;5;241m.\u001b[39m_cm_set(facecolor\u001b[38;5;241m=\u001b[39m\u001b[38;5;124m'\u001b[39m\u001b[38;5;124mnone\u001b[39m\u001b[38;5;124m'\u001b[39m, edgecolor\u001b[38;5;241m=\u001b[39m\u001b[38;5;124m'\u001b[39m\u001b[38;5;124mnone\u001b[39m\u001b[38;5;124m'\u001b[39m))\n\u001b[0;32m-> 3343\u001b[0m \u001b[38;5;28;43mself\u001b[39;49m\u001b[38;5;241;43m.\u001b[39;49m\u001b[43mcanvas\u001b[49m\u001b[38;5;241;43m.\u001b[39;49m\u001b[43mprint_figure\u001b[49m\u001b[43m(\u001b[49m\u001b[43mfname\u001b[49m\u001b[43m,\u001b[49m\u001b[43m \u001b[49m\u001b[38;5;241;43m*\u001b[39;49m\u001b[38;5;241;43m*\u001b[39;49m\u001b[43mkwargs\u001b[49m\u001b[43m)\u001b[49m\n",
      "File \u001b[0;32m~/Programs/LabAutomation/gpcam_env/lib/python3.9/site-packages/matplotlib/backend_bases.py:2366\u001b[0m, in \u001b[0;36mFigureCanvasBase.print_figure\u001b[0;34m(self, filename, dpi, facecolor, edgecolor, orientation, format, bbox_inches, pad_inches, bbox_extra_artists, backend, **kwargs)\u001b[0m\n\u001b[1;32m   2362\u001b[0m \u001b[38;5;28;01mtry\u001b[39;00m:\n\u001b[1;32m   2363\u001b[0m     \u001b[38;5;66;03m# _get_renderer may change the figure dpi (as vector formats\u001b[39;00m\n\u001b[1;32m   2364\u001b[0m     \u001b[38;5;66;03m# force the figure dpi to 72), so we need to set it again here.\u001b[39;00m\n\u001b[1;32m   2365\u001b[0m     \u001b[38;5;28;01mwith\u001b[39;00m cbook\u001b[38;5;241m.\u001b[39m_setattr_cm(\u001b[38;5;28mself\u001b[39m\u001b[38;5;241m.\u001b[39mfigure, dpi\u001b[38;5;241m=\u001b[39mdpi):\n\u001b[0;32m-> 2366\u001b[0m         result \u001b[38;5;241m=\u001b[39m \u001b[43mprint_method\u001b[49m\u001b[43m(\u001b[49m\n\u001b[1;32m   2367\u001b[0m \u001b[43m            \u001b[49m\u001b[43mfilename\u001b[49m\u001b[43m,\u001b[49m\n\u001b[1;32m   2368\u001b[0m \u001b[43m            \u001b[49m\u001b[43mfacecolor\u001b[49m\u001b[38;5;241;43m=\u001b[39;49m\u001b[43mfacecolor\u001b[49m\u001b[43m,\u001b[49m\n\u001b[1;32m   2369\u001b[0m \u001b[43m            \u001b[49m\u001b[43medgecolor\u001b[49m\u001b[38;5;241;43m=\u001b[39;49m\u001b[43medgecolor\u001b[49m\u001b[43m,\u001b[49m\n\u001b[1;32m   2370\u001b[0m \u001b[43m            \u001b[49m\u001b[43morientation\u001b[49m\u001b[38;5;241;43m=\u001b[39;49m\u001b[43morientation\u001b[49m\u001b[43m,\u001b[49m\n\u001b[1;32m   2371\u001b[0m \u001b[43m            \u001b[49m\u001b[43mbbox_inches_restore\u001b[49m\u001b[38;5;241;43m=\u001b[39;49m\u001b[43m_bbox_inches_restore\u001b[49m\u001b[43m,\u001b[49m\n\u001b[1;32m   2372\u001b[0m \u001b[43m            \u001b[49m\u001b[38;5;241;43m*\u001b[39;49m\u001b[38;5;241;43m*\u001b[39;49m\u001b[43mkwargs\u001b[49m\u001b[43m)\u001b[49m\n\u001b[1;32m   2373\u001b[0m \u001b[38;5;28;01mfinally\u001b[39;00m:\n\u001b[1;32m   2374\u001b[0m     \u001b[38;5;28;01mif\u001b[39;00m bbox_inches \u001b[38;5;129;01mand\u001b[39;00m restore_bbox:\n",
      "File \u001b[0;32m~/Programs/LabAutomation/gpcam_env/lib/python3.9/site-packages/matplotlib/backend_bases.py:2232\u001b[0m, in \u001b[0;36mFigureCanvasBase._switch_canvas_and_return_print_method.<locals>.<lambda>\u001b[0;34m(*args, **kwargs)\u001b[0m\n\u001b[1;32m   2228\u001b[0m     optional_kws \u001b[38;5;241m=\u001b[39m {  \u001b[38;5;66;03m# Passed by print_figure for other renderers.\u001b[39;00m\n\u001b[1;32m   2229\u001b[0m         \u001b[38;5;124m\"\u001b[39m\u001b[38;5;124mdpi\u001b[39m\u001b[38;5;124m\"\u001b[39m, \u001b[38;5;124m\"\u001b[39m\u001b[38;5;124mfacecolor\u001b[39m\u001b[38;5;124m\"\u001b[39m, \u001b[38;5;124m\"\u001b[39m\u001b[38;5;124medgecolor\u001b[39m\u001b[38;5;124m\"\u001b[39m, \u001b[38;5;124m\"\u001b[39m\u001b[38;5;124morientation\u001b[39m\u001b[38;5;124m\"\u001b[39m,\n\u001b[1;32m   2230\u001b[0m         \u001b[38;5;124m\"\u001b[39m\u001b[38;5;124mbbox_inches_restore\u001b[39m\u001b[38;5;124m\"\u001b[39m}\n\u001b[1;32m   2231\u001b[0m     skip \u001b[38;5;241m=\u001b[39m optional_kws \u001b[38;5;241m-\u001b[39m {\u001b[38;5;241m*\u001b[39minspect\u001b[38;5;241m.\u001b[39msignature(meth)\u001b[38;5;241m.\u001b[39mparameters}\n\u001b[0;32m-> 2232\u001b[0m     print_method \u001b[38;5;241m=\u001b[39m functools\u001b[38;5;241m.\u001b[39mwraps(meth)(\u001b[38;5;28;01mlambda\u001b[39;00m \u001b[38;5;241m*\u001b[39margs, \u001b[38;5;241m*\u001b[39m\u001b[38;5;241m*\u001b[39mkwargs: \u001b[43mmeth\u001b[49m\u001b[43m(\u001b[49m\n\u001b[1;32m   2233\u001b[0m \u001b[43m        \u001b[49m\u001b[38;5;241;43m*\u001b[39;49m\u001b[43margs\u001b[49m\u001b[43m,\u001b[49m\u001b[43m \u001b[49m\u001b[38;5;241;43m*\u001b[39;49m\u001b[38;5;241;43m*\u001b[39;49m\u001b[43m{\u001b[49m\u001b[43mk\u001b[49m\u001b[43m:\u001b[49m\u001b[43m \u001b[49m\u001b[43mv\u001b[49m\u001b[43m \u001b[49m\u001b[38;5;28;43;01mfor\u001b[39;49;00m\u001b[43m \u001b[49m\u001b[43mk\u001b[49m\u001b[43m,\u001b[49m\u001b[43m \u001b[49m\u001b[43mv\u001b[49m\u001b[43m \u001b[49m\u001b[38;5;129;43;01min\u001b[39;49;00m\u001b[43m \u001b[49m\u001b[43mkwargs\u001b[49m\u001b[38;5;241;43m.\u001b[39;49m\u001b[43mitems\u001b[49m\u001b[43m(\u001b[49m\u001b[43m)\u001b[49m\u001b[43m \u001b[49m\u001b[38;5;28;43;01mif\u001b[39;49;00m\u001b[43m \u001b[49m\u001b[43mk\u001b[49m\u001b[43m \u001b[49m\u001b[38;5;129;43;01mnot\u001b[39;49;00m\u001b[43m \u001b[49m\u001b[38;5;129;43;01min\u001b[39;49;00m\u001b[43m \u001b[49m\u001b[43mskip\u001b[49m\u001b[43m}\u001b[49m\u001b[43m)\u001b[49m)\n\u001b[1;32m   2234\u001b[0m \u001b[38;5;28;01melse\u001b[39;00m:  \u001b[38;5;66;03m# Let third-parties do as they see fit.\u001b[39;00m\n\u001b[1;32m   2235\u001b[0m     print_method \u001b[38;5;241m=\u001b[39m meth\n",
      "File \u001b[0;32m~/Programs/LabAutomation/gpcam_env/lib/python3.9/site-packages/matplotlib/backends/backend_ps.py:862\u001b[0m, in \u001b[0;36mFigureCanvasPS._print_ps\u001b[0;34m(self, fmt, outfile, metadata, papertype, orientation, bbox_inches_restore, **kwargs)\u001b[0m\n\u001b[1;32m    856\u001b[0m orientation \u001b[38;5;241m=\u001b[39m _api\u001b[38;5;241m.\u001b[39mcheck_getitem(\n\u001b[1;32m    857\u001b[0m     _Orientation, orientation\u001b[38;5;241m=\u001b[39morientation\u001b[38;5;241m.\u001b[39mlower())\n\u001b[1;32m    859\u001b[0m printer \u001b[38;5;241m=\u001b[39m (\u001b[38;5;28mself\u001b[39m\u001b[38;5;241m.\u001b[39m_print_figure_tex\n\u001b[1;32m    860\u001b[0m            \u001b[38;5;28;01mif\u001b[39;00m mpl\u001b[38;5;241m.\u001b[39mrcParams[\u001b[38;5;124m'\u001b[39m\u001b[38;5;124mtext.usetex\u001b[39m\u001b[38;5;124m'\u001b[39m] \u001b[38;5;28;01melse\u001b[39;00m\n\u001b[1;32m    861\u001b[0m            \u001b[38;5;28mself\u001b[39m\u001b[38;5;241m.\u001b[39m_print_figure)\n\u001b[0;32m--> 862\u001b[0m \u001b[43mprinter\u001b[49m\u001b[43m(\u001b[49m\u001b[43mfmt\u001b[49m\u001b[43m,\u001b[49m\u001b[43m \u001b[49m\u001b[43moutfile\u001b[49m\u001b[43m,\u001b[49m\u001b[43m \u001b[49m\u001b[43mdpi\u001b[49m\u001b[38;5;241;43m=\u001b[39;49m\u001b[43mdpi\u001b[49m\u001b[43m,\u001b[49m\u001b[43m \u001b[49m\u001b[43mdsc_comments\u001b[49m\u001b[38;5;241;43m=\u001b[39;49m\u001b[43mdsc_comments\u001b[49m\u001b[43m,\u001b[49m\n\u001b[1;32m    863\u001b[0m \u001b[43m        \u001b[49m\u001b[43morientation\u001b[49m\u001b[38;5;241;43m=\u001b[39;49m\u001b[43morientation\u001b[49m\u001b[43m,\u001b[49m\u001b[43m \u001b[49m\u001b[43mpapertype\u001b[49m\u001b[38;5;241;43m=\u001b[39;49m\u001b[43mpapertype\u001b[49m\u001b[43m,\u001b[49m\n\u001b[1;32m    864\u001b[0m \u001b[43m        \u001b[49m\u001b[43mbbox_inches_restore\u001b[49m\u001b[38;5;241;43m=\u001b[39;49m\u001b[43mbbox_inches_restore\u001b[49m\u001b[43m,\u001b[49m\u001b[43m \u001b[49m\u001b[38;5;241;43m*\u001b[39;49m\u001b[38;5;241;43m*\u001b[39;49m\u001b[43mkwargs\u001b[49m\u001b[43m)\u001b[49m\n",
      "File \u001b[0;32m~/Programs/LabAutomation/gpcam_env/lib/python3.9/site-packages/matplotlib/backends/backend_ps.py:998\u001b[0m, in \u001b[0;36mFigureCanvasPS._print_figure\u001b[0;34m(self, fmt, outfile, dpi, dsc_comments, orientation, papertype, bbox_inches_restore)\u001b[0m\n\u001b[1;32m    995\u001b[0m         _move_path_to_path_or_stream(tmpfile, outfile)\n\u001b[1;32m    997\u001b[0m \u001b[38;5;28;01melse\u001b[39;00m:  \u001b[38;5;66;03m# Write directly to outfile.\u001b[39;00m\n\u001b[0;32m--> 998\u001b[0m     \u001b[38;5;28;01mwith\u001b[39;00m \u001b[43mcbook\u001b[49m\u001b[38;5;241;43m.\u001b[39;49m\u001b[43mopen_file_cm\u001b[49m\u001b[43m(\u001b[49m\u001b[43moutfile\u001b[49m\u001b[43m,\u001b[49m\u001b[43m \u001b[49m\u001b[38;5;124;43m\"\u001b[39;49m\u001b[38;5;124;43mw\u001b[39;49m\u001b[38;5;124;43m\"\u001b[39;49m\u001b[43m,\u001b[49m\u001b[43m \u001b[49m\u001b[43mencoding\u001b[49m\u001b[38;5;241;43m=\u001b[39;49m\u001b[38;5;124;43m\"\u001b[39;49m\u001b[38;5;124;43mlatin-1\u001b[39;49m\u001b[38;5;124;43m\"\u001b[39;49m\u001b[43m)\u001b[49m \u001b[38;5;28;01mas\u001b[39;00m file:\n\u001b[1;32m    999\u001b[0m         \u001b[38;5;28;01mif\u001b[39;00m \u001b[38;5;129;01mnot\u001b[39;00m file_requires_unicode(file):\n\u001b[1;32m   1000\u001b[0m             file \u001b[38;5;241m=\u001b[39m codecs\u001b[38;5;241m.\u001b[39mgetwriter(\u001b[38;5;124m\"\u001b[39m\u001b[38;5;124mlatin-1\u001b[39m\u001b[38;5;124m\"\u001b[39m)(file)\n",
      "File \u001b[0;32m~/Programs/LabAutomation/gpcam_env/lib/python3.9/site-packages/matplotlib/cbook/__init__.py:503\u001b[0m, in \u001b[0;36mopen_file_cm\u001b[0;34m(path_or_file, mode, encoding)\u001b[0m\n\u001b[1;32m    501\u001b[0m \u001b[38;5;28;01mdef\u001b[39;00m \u001b[38;5;21mopen_file_cm\u001b[39m(path_or_file, mode\u001b[38;5;241m=\u001b[39m\u001b[38;5;124m\"\u001b[39m\u001b[38;5;124mr\u001b[39m\u001b[38;5;124m\"\u001b[39m, encoding\u001b[38;5;241m=\u001b[39m\u001b[38;5;28;01mNone\u001b[39;00m):\n\u001b[1;32m    502\u001b[0m \u001b[38;5;250m    \u001b[39m\u001b[38;5;124mr\u001b[39m\u001b[38;5;124;03m\"\"\"Pass through file objects and context-manage path-likes.\"\"\"\u001b[39;00m\n\u001b[0;32m--> 503\u001b[0m     fh, opened \u001b[38;5;241m=\u001b[39m \u001b[43mto_filehandle\u001b[49m\u001b[43m(\u001b[49m\u001b[43mpath_or_file\u001b[49m\u001b[43m,\u001b[49m\u001b[43m \u001b[49m\u001b[43mmode\u001b[49m\u001b[43m,\u001b[49m\u001b[43m \u001b[49m\u001b[38;5;28;43;01mTrue\u001b[39;49;00m\u001b[43m,\u001b[49m\u001b[43m \u001b[49m\u001b[43mencoding\u001b[49m\u001b[43m)\u001b[49m\n\u001b[1;32m    504\u001b[0m     \u001b[38;5;28;01mreturn\u001b[39;00m fh \u001b[38;5;28;01mif\u001b[39;00m opened \u001b[38;5;28;01melse\u001b[39;00m contextlib\u001b[38;5;241m.\u001b[39mnullcontext(fh)\n",
      "File \u001b[0;32m~/Programs/LabAutomation/gpcam_env/lib/python3.9/site-packages/matplotlib/cbook/__init__.py:489\u001b[0m, in \u001b[0;36mto_filehandle\u001b[0;34m(fname, flag, return_opened, encoding)\u001b[0m\n\u001b[1;32m    487\u001b[0m         fh \u001b[38;5;241m=\u001b[39m bz2\u001b[38;5;241m.\u001b[39mBZ2File(fname, flag)\n\u001b[1;32m    488\u001b[0m     \u001b[38;5;28;01melse\u001b[39;00m:\n\u001b[0;32m--> 489\u001b[0m         fh \u001b[38;5;241m=\u001b[39m \u001b[38;5;28;43mopen\u001b[39;49m\u001b[43m(\u001b[49m\u001b[43mfname\u001b[49m\u001b[43m,\u001b[49m\u001b[43m \u001b[49m\u001b[43mflag\u001b[49m\u001b[43m,\u001b[49m\u001b[43m \u001b[49m\u001b[43mencoding\u001b[49m\u001b[38;5;241;43m=\u001b[39;49m\u001b[43mencoding\u001b[49m\u001b[43m)\u001b[49m\n\u001b[1;32m    490\u001b[0m     opened \u001b[38;5;241m=\u001b[39m \u001b[38;5;28;01mTrue\u001b[39;00m\n\u001b[1;32m    491\u001b[0m \u001b[38;5;28;01melif\u001b[39;00m \u001b[38;5;28mhasattr\u001b[39m(fname, \u001b[38;5;124m'\u001b[39m\u001b[38;5;124mseek\u001b[39m\u001b[38;5;124m'\u001b[39m):\n",
      "\u001b[0;31mFileNotFoundError\u001b[0m: [Errno 2] No such file or directory: 'Figures_alldim/plot_scaled_15pts.eps'"
     ]
    },
    {
     "data": {
      "image/png": "[encoded data removed]",
      "text/plain": [
       "<Figure size 640x480 with 1 Axes>"
      ]
     },
     "metadata": {},
     "output_type": "display_data"
    }
   ],
   "source": [
    "def plot_dimred_2dims_both_methods(Xt1, Xt2_new, Xt3_new):\n",
    "    pca = PCA(n_components=2)\n",
    "    Xt1_pca = pca.fit_transform(Xt1)\n",
    "    Xt2_pca = pca.fit_transform(Xt2_new)\n",
    "    Xt3_pca = pca.fit_transform(Xt3_new)\n",
    "    plt.scatter(Xt1_pca[:,0], Xt1_pca[:,1])\n",
    "    plt.scatter(Xt2_pca[:,0], Xt2_pca[:,1])\n",
    "    plt.scatter(Xt3_pca[:,0], Xt3_pca[:,1])\n",
    "    plt.legend(['Data', 'LHS', 'LHSMDU'])\n",
    "    plt.savefig('Figures_alldim/plot_scaled_15pts.eps', format='eps')\n",
    "    plt.show()\n",
    "    \n",
    "plot_dimred_2dims_both_methods(data_scaled, df_15_samps_scaled, df_15_samps_lhsmdu_scaled)"
   ]
  },
  {
   "cell_type": "markdown",
   "id": "b017c0e0-4990-4391-bb23-edf23339f1a3",
   "metadata": {
    "tags": []
   },
   "source": [
    "#### Distribution subplots of unscaled data"
   ]
  },
  {
   "cell_type": "code",
   "execution_count": null,
   "id": "70cb54d0-776c-4982-a1ac-c6ee6eb8113a",
   "metadata": {
    "tags": []
   },
   "outputs": [],
   "source": [
    "box_kdeplot_samples(data_array, filename_eps='Figures_9dim/dist_unscaled_expdata.eps')"
   ]
  },
  {
   "cell_type": "code",
   "execution_count": null,
   "id": "3d2308cd-b97f-48a8-91aa-67afb98dc78d",
   "metadata": {
    "tags": []
   },
   "outputs": [],
   "source": [
    "box_kdeplot_samples(df_all.to_numpy(), filename_eps='Figures_9dim/dist_unscaled_90ptsLHS.eps')"
   ]
  },
  {
   "cell_type": "code",
   "execution_count": null,
   "id": "f53f970e-e78c-4cad-9a92-50e1266adb78",
   "metadata": {
    "tags": []
   },
   "outputs": [],
   "source": [
    "box_kdeplot_samples(df_all_lhsmdu.to_numpy(), filename_eps='Figures_9dim/dist_unscaled_90ptsLHSMDU.eps')"
   ]
  },
  {
   "cell_type": "markdown",
   "id": "7ddc2441-5c74-45ff-9907-3c47818b5df6",
   "metadata": {},
   "source": [
    "#### Distribution subplots of unscaled reduced data"
   ]
  },
  {
   "cell_type": "code",
   "execution_count": null,
   "id": "0777d9d6-020a-4fc1-9e51-0c60e7941b97",
   "metadata": {
    "tags": []
   },
   "outputs": [],
   "source": [
    "box_kdeplot_samples(data_array, filename_eps='Figures_9dim/dist_unscaled_expdata.eps')"
   ]
  },
  {
   "cell_type": "code",
   "execution_count": null,
   "id": "667baa81-8051-4c85-b7c1-49d658d48585",
   "metadata": {
    "tags": []
   },
   "outputs": [],
   "source": [
    "box_kdeplot_samples(tol_samples_unscaled, filename_eps='Figures_9dim/dist_unscaled_15ptsLHS.eps')"
   ]
  },
  {
   "cell_type": "code",
   "execution_count": null,
   "id": "8dfdeaf8-f9aa-4b23-ba42-458025dc17b9",
   "metadata": {
    "tags": []
   },
   "outputs": [],
   "source": [
    "box_kdeplot_samples(tol_samples_LHSMDU_unscaled, filename_eps='Figures_9dim/dist_unscaled_15ptsLHSMDU.eps')"
   ]
  },
  {
   "cell_type": "markdown",
   "id": "36c1c9f8-41b2-459e-ad73-b8d6ba55a318",
   "metadata": {},
   "source": [
    "### **8.Discrepancy for LHS and LHSMDU without constraints**"
   ]
  },
  {
   "cell_type": "markdown",
   "id": "e91a9ddb-781b-459c-ac35-6352a3cf4b18",
   "metadata": {},
   "source": [
    "#### LHS"
   ]
  },
  {
   "cell_type": "code",
   "execution_count": null,
   "id": "902111a1-c643-43fc-8932-452636daf96d",
   "metadata": {
    "tags": []
   },
   "outputs": [],
   "source": [
    "n_samp=90\n",
    "dim = 9\n",
    "seed = 1234\n",
    "\n",
    "sampler_new = qmc.LatinHypercube(d=dim, seed=seed)\n",
    "sample = sampler_new.random(n=n_samp)\n",
    "sample = qmc.scale(sample, l_bounds, u_bounds)"
   ]
  },
  {
   "cell_type": "code",
   "execution_count": null,
   "id": "0b255451-0744-49a0-a1ac-63c98ffe6447",
   "metadata": {
    "tags": []
   },
   "outputs": [],
   "source": [
    "np.linalg.norm(sample.var())"
   ]
  },
  {
   "cell_type": "code",
   "execution_count": null,
   "id": "3b1754e3-90fd-438d-84c1-ba149498dde9",
   "metadata": {
    "tags": []
   },
   "outputs": [],
   "source": [
    "qmc.discrepancy(sample)"
   ]
  },
  {
   "cell_type": "code",
   "execution_count": null,
   "id": "8798a457-5156-4358-a603-59b77873230a",
   "metadata": {
    "tags": []
   },
   "outputs": [],
   "source": [
    "qmc.discrepancy(sample, method=\"WD\")"
   ]
  },
  {
   "cell_type": "markdown",
   "id": "4419b965-eeae-4b17-9cfb-f9c8120b2344",
   "metadata": {},
   "source": [
    "#### LHSMDU"
   ]
  },
  {
   "cell_type": "code",
   "execution_count": null,
   "id": "8f399549-6da7-4355-9cca-d4bc8e47a6e8",
   "metadata": {
    "tags": []
   },
   "outputs": [],
   "source": [
    "seed = 1234\n",
    "lhsmdu.setRandomSeed(seed)\n",
    "sample_LHSMDU = lhsmdu.sample(9, n_samp).transpose()\n",
    "sample_LHSMDU = qmc.scale(sample_LHSMDU, l_bounds, u_bounds)"
   ]
  },
  {
   "cell_type": "code",
   "execution_count": null,
   "id": "8a9fa42a-a9a2-4d2b-b685-b1e8bba8d566",
   "metadata": {
    "tags": []
   },
   "outputs": [],
   "source": [
    "np.linalg.norm(sample_LHSMDU.var())"
   ]
  },
  {
   "cell_type": "code",
   "execution_count": null,
   "id": "d523bfa6-cd4a-4e75-af1b-43e657f33f5b",
   "metadata": {
    "tags": []
   },
   "outputs": [],
   "source": [
    "qmc.discrepancy(sample_LHSMDU)"
   ]
  },
  {
   "cell_type": "code",
   "execution_count": null,
   "id": "c65a2891-4e10-47bf-a45b-871591eb5e6f",
   "metadata": {
    "tags": []
   },
   "outputs": [],
   "source": [
    "qmc.discrepancy(sample_LHSMDU, method=\"WD\")"
   ]
  },
  {
   "cell_type": "markdown",
   "id": "e70f26e8-5d1a-46df-ba94-8bf496c00242",
   "metadata": {},
   "source": [
    "#### Selected LHS and LHSMDU Samples by checking distance from data"
   ]
  },
  {
   "cell_type": "code",
   "execution_count": null,
   "id": "b967166c-d31a-4314-bcb5-bfbbc426df25",
   "metadata": {},
   "outputs": [],
   "source": [
    "tol = 5e-1#8e-1#8e-1\n",
    "tol2 = 5e-1#1e-5\n",
    "des_n_samp = 15\n",
    "\n",
    "tol_samples_comp, tol_samples_LHSMDU_comp, tol_samples_unscaled_comp, tol_samples_LHSMDU_unscaled_comp = select_samples_diff_from_data(exp_data=data_array, samples_LHS=sample, samples_LHSMDU=sample_LHSMDU, des_n_samp = des_n_samp, tol = tol, tol2 = tol2)\n"
   ]
  },
  {
   "cell_type": "code",
   "execution_count": null,
   "id": "8e71044f-5ad9-45bb-825f-242db5054899",
   "metadata": {},
   "outputs": [],
   "source": [
    "df_15_samps_scaled_comp = pd.DataFrame(tol_samples_comp,columns=['PA-56','PhA','Mel','THAM','CS','BN','ZnBO','CaBO','HNT'])\n",
    "df_15_samps_comp = pd.DataFrame(tol_samples_unscaled_comp,columns=['PA-56','PhA','Mel','THAM','CS','BN','ZnBO','CaBO','HNT'])"
   ]
  },
  {
   "cell_type": "code",
   "execution_count": null,
   "id": "82c2977d-65ec-4713-b2da-341c0a121d27",
   "metadata": {
    "tags": []
   },
   "outputs": [],
   "source": [
    "df_15_samps_comp"
   ]
  },
  {
   "cell_type": "code",
   "execution_count": null,
   "id": "de66af2b-7487-4617-bf97-fcbb7202324f",
   "metadata": {
    "tags": []
   },
   "outputs": [],
   "source": [
    "space_comp = qmc.scale(df_15_samps_comp, l_bounds, u_bounds, reverse=True)\n",
    "qmc.discrepancy(space_comp)"
   ]
  },
  {
   "cell_type": "code",
   "execution_count": null,
   "id": "14ecc8bb-d2e7-48a5-87d2-e43a9235cd32",
   "metadata": {},
   "outputs": [],
   "source": [
    "qmc.discrepancy(space_comp, method='WD')"
   ]
  },
  {
   "cell_type": "code",
   "execution_count": null,
   "id": "81267be9-fa0a-460b-87dc-43c1d934f658",
   "metadata": {
    "tags": []
   },
   "outputs": [],
   "source": [
    "np.linalg.norm(space_comp.var())"
   ]
  },
  {
   "cell_type": "code",
   "execution_count": null,
   "id": "525bbd5d-5f3d-4d33-a2a5-abfb54b86d67",
   "metadata": {},
   "outputs": [],
   "source": [
    "df_15_samps_lhsmdu_scaled_comp = pd.DataFrame(tol_samples_LHSMDU_comp,columns=['PA-56','PhA','Mel','THAM','CS','BN','ZnBO','CaBO','HNT'])\n",
    "df_15_samps_lhsmdu_comp = pd.DataFrame(tol_samples_LHSMDU_unscaled_comp,columns=['PA-56','PhA','Mel','THAM','CS','BN','ZnBO','CaBO','HNT'])"
   ]
  },
  {
   "cell_type": "code",
   "execution_count": null,
   "id": "cbe4530e-2bc1-4566-bd21-1c9a1de3ea54",
   "metadata": {
    "tags": []
   },
   "outputs": [],
   "source": [
    "space_comp = qmc.scale(df_15_samps_lhsmdu_comp, l_bounds, u_bounds, reverse=True)\n",
    "qmc.discrepancy(space_comp)"
   ]
  },
  {
   "cell_type": "code",
   "execution_count": null,
   "id": "e7752a8e-77f7-4dc9-81de-e73f2fc70d9e",
   "metadata": {},
   "outputs": [],
   "source": [
    "qmc.discrepancy(space_comp, method='WD')"
   ]
  },
  {
   "cell_type": "code",
   "execution_count": null,
   "id": "0755fae8-71af-4641-9760-84b05ab3410b",
   "metadata": {},
   "outputs": [],
   "source": [
    "np.linalg.norm(space_comp.var())"
   ]
  },
  {
   "cell_type": "markdown",
   "id": "ec9bd07b-d608-469f-96f0-f1af69558f27",
   "metadata": {},
   "source": [
    "#### Selected samples with data"
   ]
  },
  {
   "cell_type": "code",
   "execution_count": null,
   "id": "ed602098-0cfb-4eb9-bee0-7a88083c4c5e",
   "metadata": {
    "tags": []
   },
   "outputs": [],
   "source": [
    "df_with_data_comp = pd.concat([df_15_samps_comp, df_data], ignore_index=True, axis=0)\n",
    "df_lhsmdu_with_data_comp = pd.concat([df_15_samps_lhsmdu_comp, df_data], ignore_index=True, axis=0)"
   ]
  },
  {
   "cell_type": "code",
   "execution_count": null,
   "id": "9190713f-fa8c-4ce2-810d-6c36fc826eec",
   "metadata": {
    "tags": []
   },
   "outputs": [],
   "source": [
    "space_comp = qmc.scale(df_with_data_comp, l_bounds, u_bounds, reverse=True)\n",
    "qmc.discrepancy(space_comp)"
   ]
  },
  {
   "cell_type": "code",
   "execution_count": null,
   "id": "9f9066bb-db41-4298-a4fc-2cd358771e47",
   "metadata": {},
   "outputs": [],
   "source": [
    "qmc.discrepancy(space_comp, method='WD')"
   ]
  },
  {
   "cell_type": "code",
   "execution_count": null,
   "id": "547c845e-ccb7-4fc7-aa79-6f0b86e86654",
   "metadata": {},
   "outputs": [],
   "source": [
    "np.linalg.norm(space_comp.var())"
   ]
  },
  {
   "cell_type": "code",
   "execution_count": null,
   "id": "4c35cc95-92b7-41ff-a080-502c4066432e",
   "metadata": {
    "tags": []
   },
   "outputs": [],
   "source": [
    "space_comp = qmc.scale(df_lhsmdu_with_data_comp, l_bounds, u_bounds, reverse=True)\n",
    "qmc.discrepancy(space_comp)"
   ]
  },
  {
   "cell_type": "code",
   "execution_count": null,
   "id": "c5caeb84-2a39-44d3-8dbd-b3c27e99d610",
   "metadata": {},
   "outputs": [],
   "source": [
    "qmc.discrepancy(space_comp, method='WD')"
   ]
  },
  {
   "cell_type": "code",
   "execution_count": null,
   "id": "20a359e0-75f5-4201-968c-cb82ced2d09c",
   "metadata": {},
   "outputs": [],
   "source": [
    "np.linalg.norm(space_comp.var())"
   ]
  }
 ],
 "metadata": {
  "kernelspec": {
   "display_name": "Python 3 (ipykernel)",
   "language": "python",
   "name": "python3"
  },
  "language_info": {
   "codemirror_mode": {
    "name": "ipython",
    "version": 3
   },
   "file_extension": ".py",
   "mimetype": "text/x-python",
   "name": "python",
   "nbconvert_exporter": "python",
   "pygments_lexer": "ipython3",
   "version": "3.9.18"
  }
 },
 "nbformat": 4,
 "nbformat_minor": 5
}
