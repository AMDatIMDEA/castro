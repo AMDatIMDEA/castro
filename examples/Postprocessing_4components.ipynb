{
 "cells": [
  {
   "cell_type": "markdown",
   "id": "b5d41826-9efc-44c9-af74-2e7fda460d45",
   "metadata": {},
   "source": [
    "## Postprocessing outputs from 4 dimensional problem or subproblem1 for 9 dimensional problem to receive final suggestions for experiments\n",
    "\n",
    "This Notebook performs the postprocessing for the 4 dimensional problem or subproblem 1 of the 9 dimensional problem.\n",
    "\n",
    "As components we have the polymer PA56, phytic acid, an amino-based component and a metallic-based component.\n",
    "\n",
    "Here loaded from Outputs_orig folder corresponding to the results shown in the paper, but can also run Sampling_4components notebook and then load results from Outputs folder here\n",
    "\n",
    "\n",
    "It contains the following steps:\n",
    "1. Import all output files and format as data frames\n",
    "2. LHS calculation and export to file, discrepancies and variance**\n",
    "3. LHSMDU calculation and export to file, discrepancies and variance**\n",
    "4. Import and format data set\n",
    "5. Reduce to 2 dimensions and plot\n",
    "6. Calculate other discrepancies and variance to check space filling properties/ uniformity\n",
    "7. Distribution plots\n",
    "8. Discrepancy for LHS and LHSMDU without constraints\n",
    "\n",
    "\n",
    "written by Christina Schenk\n",
    "\n",
    "last updated on 05/07/2024\n",
    "\n",
    "tested on Christina's M1 Mac"
   ]
  },
  {
   "cell_type": "markdown",
   "id": "e853b38c-2dc6-4101-a580-5866ab07f151",
   "metadata": {},
   "source": [
    "#### Import Python Packages"
   ]
  },
  {
   "cell_type": "code",
   "execution_count": 1,
   "id": "4a7add9c-2ea0-4659-af25-5249bd696e87",
   "metadata": {
    "tags": []
   },
   "outputs": [],
   "source": [
    "import pandas as pd\n",
    "import os\n",
    "from pathlib import Path  \n",
    "import csv\n",
    "from scipy.stats import qmc\n",
    "import lhsmdu\n",
    "import numpy as np\n",
    "from sklearn.decomposition import PCA\n",
    "from sklearn.preprocessing import StandardScaler\n",
    "\n",
    "import sys\n",
    "sys.path.append('..')\n",
    "from src.plot import *\n",
    "from src.conditionedSampling import *\n"
   ]
  },
  {
   "cell_type": "markdown",
   "id": "93f49113-5842-48fb-8994-7ba50fc647c5",
   "metadata": {},
   "source": [
    "### **1. Import all output files and format as data frames**"
   ]
  },
  {
   "cell_type": "code",
   "execution_count": 2,
   "id": "2235015a-d7ab-4412-afe8-fa5883f366b1",
   "metadata": {
    "tags": []
   },
   "outputs": [],
   "source": [
    "filename_lhs_amino = \"Outputs_orig/LHS_with_new_permutations_correct_suggestions_allselected_imp_ext_subprobs_amino-based.csv\"\n",
    "filename_lhsmdu_amino = \"Outputs_orig/LHSMDU_with_new_permutations_correct_suggestions_allselected_imp_ext_subprobs_amino-based.csv\"\n",
    "filename_lhs_metallic = \"Outputs_orig/LHS_with_new_permutations_correct_suggestions_allselected_imp_ext_subprobs_metallic-based.csv\"\n",
    "filename_lhsmdu_metallic = \"Outputs_orig/LHSMDU_with_new_permutations_correct_suggestions_allselected_imp_ext_subprobs_metallic-based.csv\"\n",
    "filename_lhs = \"Outputs_orig/LHS_with_new_permutations_correct_suggestions_allselected_imp_ext_subprobs_improve.csv\"\n",
    "filename_lhsmdu = \"Outputs_orig/LHSMDU_with_new_permutations_correct_suggestions_allselected_imp_ext_subprobs_improve.csv\"\n",
    "#path = \"$HOME/Programs/gpCAM/examples/gpcam_my_examples/DigiBioFAM/\n",
    "#path = \"$HOME/Programs/gpCAM/examples/gpcam_my_examples/DigiBioFAM/\n",
    "\n",
    "df_lhs_amino = pd.read_csv(filename_lhs_amino)#, sep=';', decimal=\",\")\n",
    "df_lhs_amino = df_lhs_amino.loc[:, ~df_lhs_amino.columns.str.contains('^Unnamed')]\n",
    "df_lhsmdu_amino = pd.read_csv(filename_lhsmdu_amino)#, sep=';', decimal=\",\")\n",
    "df_lhsmdu_amino = df_lhsmdu_amino.loc[:, ~df_lhsmdu_amino.columns.str.contains('^Unnamed')]\n",
    "df_lhs_metallic = pd.read_csv(filename_lhs_metallic)#, sep=';', decimal=\",\")\n",
    "df_lhs_metallic = df_lhs_metallic.loc[:, ~df_lhs_metallic.columns.str.contains('^Unnamed')]\n",
    "df_lhsmdu_metallic = pd.read_csv(filename_lhsmdu_metallic)#, sep=';', decimal=\",\")\n",
    "df_lhsmdu_metallic = df_lhsmdu_metallic.loc[:, ~df_lhsmdu_metallic.columns.str.contains('^Unnamed')]\n",
    "df_lhs = pd.read_csv(filename_lhs)#, sep=';', decimal=\",\")\n",
    "df_lhs = df_lhs.loc[:, ~df_lhs.columns.str.contains('^Unnamed')]\n",
    "df_lhsmdu= pd.read_csv(filename_lhsmdu)#, sep=';', decimal=\",\")\n",
    "df_lhsmdu = df_lhsmdu.loc[:, ~df_lhsmdu.columns.str.contains('^Unnamed')]\n"
   ]
  },
  {
   "cell_type": "code",
   "execution_count": 3,
   "id": "7fc4dc1a-290d-4f73-9362-a1af5553721d",
   "metadata": {},
   "outputs": [],
   "source": [
    "df_lhs.columns = [\"PA56\", \"PhA\", \"amino-based\", \"metallic-based\"]\n",
    "df_lhsmdu.columns = [\"PA56\", \"PhA\", \"amino-based\", \"metallic-based\"]\n",
    "df_lhs_amino.columns = [\"MEL\", \"THAM\", \"CS\", \"BN\"]\n",
    "df_lhsmdu_amino.columns = [\"MEL\", \"THAM\", \"CS\", \"BN\"]\n",
    "df_lhs_metallic.columns = [\"ZnBO\", \"CABO\", \"HNT\"]\n",
    "df_lhsmdu_metallic.columns = [\"ZnBO\", \"CABO\", \"HNT\"]"
   ]
  },
  {
   "cell_type": "markdown",
   "id": "d0380c9b-9ee0-45ba-96f6-73b945d699e6",
   "metadata": {},
   "source": [
    "### **2. LHS calculation and export to file, discrepancies and variance**"
   ]
  },
  {
   "cell_type": "code",
   "execution_count": 4,
   "id": "6a9dd71a-243b-4777-8975-00e680293780",
   "metadata": {},
   "outputs": [],
   "source": [
    "column_names = [df_lhs.columns.values.tolist(), df_lhs_amino.columns.values.tolist(), df_lhs_metallic.columns.values.tolist()]\n",
    "df_all = pd.concat([df_lhs, df_lhs_amino, df_lhs_metallic], axis=1, join=\"inner\")\n"
   ]
  },
  {
   "cell_type": "code",
   "execution_count": 5,
   "id": "c48f28bf-6784-40ee-ab9d-77d650e3537d",
   "metadata": {},
   "outputs": [
    {
     "data": {
      "text/html": [
       "<div>\n",
       "<style scoped>\n",
       "    .dataframe tbody tr th:only-of-type {\n",
       "        vertical-align: middle;\n",
       "    }\n",
       "\n",
       "    .dataframe tbody tr th {\n",
       "        vertical-align: top;\n",
       "    }\n",
       "\n",
       "    .dataframe thead th {\n",
       "        text-align: right;\n",
       "    }\n",
       "</style>\n",
       "<table border=\"1\" class=\"dataframe\">\n",
       "  <thead>\n",
       "    <tr style=\"text-align: right;\">\n",
       "      <th></th>\n",
       "      <th>PA56</th>\n",
       "      <th>PhA</th>\n",
       "      <th>amino-based</th>\n",
       "      <th>metallic-based</th>\n",
       "      <th>MEL</th>\n",
       "      <th>THAM</th>\n",
       "      <th>CS</th>\n",
       "      <th>BN</th>\n",
       "      <th>ZnBO</th>\n",
       "      <th>CABO</th>\n",
       "      <th>HNT</th>\n",
       "    </tr>\n",
       "  </thead>\n",
       "  <tbody>\n",
       "    <tr>\n",
       "      <th>0</th>\n",
       "      <td>0.902</td>\n",
       "      <td>0.024</td>\n",
       "      <td>0.021</td>\n",
       "      <td>0.054</td>\n",
       "      <td>0.000000</td>\n",
       "      <td>0.000000</td>\n",
       "      <td>1.000000</td>\n",
       "      <td>0.0</td>\n",
       "      <td>0.0</td>\n",
       "      <td>1.0</td>\n",
       "      <td>0.0</td>\n",
       "    </tr>\n",
       "    <tr>\n",
       "      <th>1</th>\n",
       "      <td>0.859</td>\n",
       "      <td>0.044</td>\n",
       "      <td>0.041</td>\n",
       "      <td>0.057</td>\n",
       "      <td>0.000000</td>\n",
       "      <td>0.000000</td>\n",
       "      <td>1.000000</td>\n",
       "      <td>0.0</td>\n",
       "      <td>1.0</td>\n",
       "      <td>0.0</td>\n",
       "      <td>0.0</td>\n",
       "    </tr>\n",
       "    <tr>\n",
       "      <th>2</th>\n",
       "      <td>0.975</td>\n",
       "      <td>0.010</td>\n",
       "      <td>0.004</td>\n",
       "      <td>0.011</td>\n",
       "      <td>0.000000</td>\n",
       "      <td>0.000000</td>\n",
       "      <td>0.000000</td>\n",
       "      <td>1.0</td>\n",
       "      <td>1.0</td>\n",
       "      <td>0.0</td>\n",
       "      <td>0.0</td>\n",
       "    </tr>\n",
       "    <tr>\n",
       "      <th>3</th>\n",
       "      <td>0.906</td>\n",
       "      <td>0.027</td>\n",
       "      <td>0.038</td>\n",
       "      <td>0.029</td>\n",
       "      <td>0.368535</td>\n",
       "      <td>0.000000</td>\n",
       "      <td>0.631465</td>\n",
       "      <td>0.0</td>\n",
       "      <td>0.0</td>\n",
       "      <td>1.0</td>\n",
       "      <td>0.0</td>\n",
       "    </tr>\n",
       "    <tr>\n",
       "      <th>4</th>\n",
       "      <td>0.933</td>\n",
       "      <td>0.019</td>\n",
       "      <td>0.005</td>\n",
       "      <td>0.044</td>\n",
       "      <td>0.732822</td>\n",
       "      <td>0.000000</td>\n",
       "      <td>0.267178</td>\n",
       "      <td>0.0</td>\n",
       "      <td>0.0</td>\n",
       "      <td>1.0</td>\n",
       "      <td>0.0</td>\n",
       "    </tr>\n",
       "    <tr>\n",
       "      <th>...</th>\n",
       "      <td>...</td>\n",
       "      <td>...</td>\n",
       "      <td>...</td>\n",
       "      <td>...</td>\n",
       "      <td>...</td>\n",
       "      <td>...</td>\n",
       "      <td>...</td>\n",
       "      <td>...</td>\n",
       "      <td>...</td>\n",
       "      <td>...</td>\n",
       "      <td>...</td>\n",
       "    </tr>\n",
       "    <tr>\n",
       "      <th>85</th>\n",
       "      <td>0.819</td>\n",
       "      <td>0.025</td>\n",
       "      <td>0.045</td>\n",
       "      <td>0.111</td>\n",
       "      <td>0.509312</td>\n",
       "      <td>0.490688</td>\n",
       "      <td>0.000000</td>\n",
       "      <td>0.0</td>\n",
       "      <td>1.0</td>\n",
       "      <td>0.0</td>\n",
       "      <td>0.0</td>\n",
       "    </tr>\n",
       "    <tr>\n",
       "      <th>86</th>\n",
       "      <td>0.921</td>\n",
       "      <td>0.044</td>\n",
       "      <td>0.006</td>\n",
       "      <td>0.030</td>\n",
       "      <td>0.463863</td>\n",
       "      <td>0.536137</td>\n",
       "      <td>0.000000</td>\n",
       "      <td>0.0</td>\n",
       "      <td>0.0</td>\n",
       "      <td>1.0</td>\n",
       "      <td>0.0</td>\n",
       "    </tr>\n",
       "    <tr>\n",
       "      <th>87</th>\n",
       "      <td>0.851</td>\n",
       "      <td>0.014</td>\n",
       "      <td>0.002</td>\n",
       "      <td>0.133</td>\n",
       "      <td>1.000000</td>\n",
       "      <td>0.000000</td>\n",
       "      <td>0.000000</td>\n",
       "      <td>0.0</td>\n",
       "      <td>0.0</td>\n",
       "      <td>1.0</td>\n",
       "      <td>0.0</td>\n",
       "    </tr>\n",
       "    <tr>\n",
       "      <th>88</th>\n",
       "      <td>0.836</td>\n",
       "      <td>0.004</td>\n",
       "      <td>0.032</td>\n",
       "      <td>0.128</td>\n",
       "      <td>0.000000</td>\n",
       "      <td>0.000000</td>\n",
       "      <td>1.000000</td>\n",
       "      <td>0.0</td>\n",
       "      <td>0.0</td>\n",
       "      <td>1.0</td>\n",
       "      <td>0.0</td>\n",
       "    </tr>\n",
       "    <tr>\n",
       "      <th>89</th>\n",
       "      <td>0.955</td>\n",
       "      <td>0.039</td>\n",
       "      <td>0.000</td>\n",
       "      <td>0.006</td>\n",
       "      <td>1.000000</td>\n",
       "      <td>0.000000</td>\n",
       "      <td>0.000000</td>\n",
       "      <td>0.0</td>\n",
       "      <td>0.0</td>\n",
       "      <td>1.0</td>\n",
       "      <td>0.0</td>\n",
       "    </tr>\n",
       "  </tbody>\n",
       "</table>\n",
       "<p>90 rows × 11 columns</p>\n",
       "</div>"
      ],
      "text/plain": [
       "     PA56    PhA  amino-based  metallic-based       MEL      THAM        CS  \\\n",
       "0   0.902  0.024        0.021           0.054  0.000000  0.000000  1.000000   \n",
       "1   0.859  0.044        0.041           0.057  0.000000  0.000000  1.000000   \n",
       "2   0.975  0.010        0.004           0.011  0.000000  0.000000  0.000000   \n",
       "3   0.906  0.027        0.038           0.029  0.368535  0.000000  0.631465   \n",
       "4   0.933  0.019        0.005           0.044  0.732822  0.000000  0.267178   \n",
       "..    ...    ...          ...             ...       ...       ...       ...   \n",
       "85  0.819  0.025        0.045           0.111  0.509312  0.490688  0.000000   \n",
       "86  0.921  0.044        0.006           0.030  0.463863  0.536137  0.000000   \n",
       "87  0.851  0.014        0.002           0.133  1.000000  0.000000  0.000000   \n",
       "88  0.836  0.004        0.032           0.128  0.000000  0.000000  1.000000   \n",
       "89  0.955  0.039        0.000           0.006  1.000000  0.000000  0.000000   \n",
       "\n",
       "     BN  ZnBO  CABO  HNT  \n",
       "0   0.0   0.0   1.0  0.0  \n",
       "1   0.0   1.0   0.0  0.0  \n",
       "2   1.0   1.0   0.0  0.0  \n",
       "3   0.0   0.0   1.0  0.0  \n",
       "4   0.0   0.0   1.0  0.0  \n",
       "..  ...   ...   ...  ...  \n",
       "85  0.0   1.0   0.0  0.0  \n",
       "86  0.0   0.0   1.0  0.0  \n",
       "87  0.0   0.0   1.0  0.0  \n",
       "88  0.0   0.0   1.0  0.0  \n",
       "89  0.0   0.0   1.0  0.0  \n",
       "\n",
       "[90 rows x 11 columns]"
      ]
     },
     "execution_count": 5,
     "metadata": {},
     "output_type": "execute_result"
    }
   ],
   "source": [
    "df_all"
   ]
  },
  {
   "cell_type": "code",
   "execution_count": 6,
   "id": "cc756ee2-5d22-42ee-b70b-472148e98952",
   "metadata": {
    "tags": []
   },
   "outputs": [],
   "source": [
    "df_all[\"MEL\"] = df_all[\"MEL\"]*df_all[\"amino-based\"]\n",
    "df_all[\"MEL\"] = df_all[\"MEL\"].round(3)\n",
    "df_all[\"THAM\"] = df_all[\"THAM\"]*df_all[\"amino-based\"]\n",
    "df_all[\"THAM\"] = df_all[\"THAM\"].round(3)\n",
    "df_all[\"CS\"] = df_all[\"CS\"]*df_all[\"amino-based\"]\n",
    "df_all[\"CS\"] = df_all[\"CS\"].round(3)\n",
    "df_all[\"BN\"] = df_all[\"BN\"]*df_all[\"amino-based\"]\n",
    "df_all[\"BN\"] = df_all[\"BN\"].round(3)"
   ]
  },
  {
   "cell_type": "code",
   "execution_count": 7,
   "id": "b2fa5781-2ddf-4bb3-8696-2edf98241994",
   "metadata": {
    "tags": []
   },
   "outputs": [],
   "source": [
    "df_all[\"ZnBO\"] = df_all[\"ZnBO\"]*df_all[\"metallic-based\"]\n",
    "df_all[\"ZnBO\"] = df_all[\"ZnBO\"].round(3)\n",
    "df_all[\"CABO\"] = df_all[\"CABO\"]*df_all[\"metallic-based\"]\n",
    "df_all[\"CABO\"] = df_all[\"CABO\"].round(3)\n",
    "df_all[\"HNT\"] = df_all[\"HNT\"]*df_all[\"metallic-based\"]\n",
    "df_all[\"HNT\"] = df_all[\"HNT\"].round(3)"
   ]
  },
  {
   "cell_type": "code",
   "execution_count": 8,
   "id": "10ef1781-6251-4340-9813-965978113393",
   "metadata": {},
   "outputs": [],
   "source": [
    "df_all = df_all.drop(['amino-based', 'metallic-based'], axis=1)"
   ]
  },
  {
   "cell_type": "code",
   "execution_count": 9,
   "id": "ea2d1aff-7287-4dcc-95d2-dfb082060a70",
   "metadata": {},
   "outputs": [],
   "source": [
    "df_perc = df_all*100"
   ]
  },
  {
   "cell_type": "markdown",
   "id": "5408c49d-302a-45d8-9fc3-8c26025d90e7",
   "metadata": {
    "tags": []
   },
   "source": [
    "#### Make sure that add up to 1, if not randomly take one where add error"
   ]
  },
  {
   "cell_type": "code",
   "execution_count": 10,
   "id": "d2b9a030-094d-46da-918e-8064dba68355",
   "metadata": {
    "tags": []
   },
   "outputs": [],
   "source": [
    "for i in range(len(df_lhs)):\n",
    "    if abs(df_lhs.iloc[i,:].sum()-1)>1e-4:\n",
    "        ind_list = np.where(df_lhs.iloc[i,:]!=0)[0]\n",
    "        ind = np.random.choice(ind_list)\n",
    "        df_lhs.iloc[i,ind] = df_lhs.iloc[i,ind] - (df_lhs.iloc[i,:].sum()-1)\n",
    "        #print(ind)\n",
    "        #print(i, df_lhs.loc[i,:].sum())"
   ]
  },
  {
   "cell_type": "code",
   "execution_count": 11,
   "id": "5d526bc8-4970-4097-8d64-77132b71504c",
   "metadata": {
    "tags": []
   },
   "outputs": [
    {
     "data": {
      "text/html": [
       "<div>\n",
       "<style scoped>\n",
       "    .dataframe tbody tr th:only-of-type {\n",
       "        vertical-align: middle;\n",
       "    }\n",
       "\n",
       "    .dataframe tbody tr th {\n",
       "        vertical-align: top;\n",
       "    }\n",
       "\n",
       "    .dataframe thead th {\n",
       "        text-align: right;\n",
       "    }\n",
       "</style>\n",
       "<table border=\"1\" class=\"dataframe\">\n",
       "  <thead>\n",
       "    <tr style=\"text-align: right;\">\n",
       "      <th></th>\n",
       "      <th>PA56</th>\n",
       "      <th>PhA</th>\n",
       "      <th>MEL</th>\n",
       "      <th>THAM</th>\n",
       "      <th>CS</th>\n",
       "      <th>BN</th>\n",
       "      <th>ZnBO</th>\n",
       "      <th>CABO</th>\n",
       "      <th>HNT</th>\n",
       "    </tr>\n",
       "  </thead>\n",
       "  <tbody>\n",
       "    <tr>\n",
       "      <th>0</th>\n",
       "      <td>90.2</td>\n",
       "      <td>2.4</td>\n",
       "      <td>0.0</td>\n",
       "      <td>0.0</td>\n",
       "      <td>2.1</td>\n",
       "      <td>0.0</td>\n",
       "      <td>0.0</td>\n",
       "      <td>5.4</td>\n",
       "      <td>0.0</td>\n",
       "    </tr>\n",
       "    <tr>\n",
       "      <th>1</th>\n",
       "      <td>85.9</td>\n",
       "      <td>4.4</td>\n",
       "      <td>0.0</td>\n",
       "      <td>0.0</td>\n",
       "      <td>4.1</td>\n",
       "      <td>0.0</td>\n",
       "      <td>5.7</td>\n",
       "      <td>0.0</td>\n",
       "      <td>0.0</td>\n",
       "    </tr>\n",
       "    <tr>\n",
       "      <th>2</th>\n",
       "      <td>97.5</td>\n",
       "      <td>1.0</td>\n",
       "      <td>0.0</td>\n",
       "      <td>0.0</td>\n",
       "      <td>0.0</td>\n",
       "      <td>0.4</td>\n",
       "      <td>1.1</td>\n",
       "      <td>0.0</td>\n",
       "      <td>0.0</td>\n",
       "    </tr>\n",
       "    <tr>\n",
       "      <th>3</th>\n",
       "      <td>90.6</td>\n",
       "      <td>2.7</td>\n",
       "      <td>1.4</td>\n",
       "      <td>0.0</td>\n",
       "      <td>2.4</td>\n",
       "      <td>0.0</td>\n",
       "      <td>0.0</td>\n",
       "      <td>2.9</td>\n",
       "      <td>0.0</td>\n",
       "    </tr>\n",
       "    <tr>\n",
       "      <th>4</th>\n",
       "      <td>93.3</td>\n",
       "      <td>1.9</td>\n",
       "      <td>0.4</td>\n",
       "      <td>0.0</td>\n",
       "      <td>0.1</td>\n",
       "      <td>0.0</td>\n",
       "      <td>0.0</td>\n",
       "      <td>4.4</td>\n",
       "      <td>0.0</td>\n",
       "    </tr>\n",
       "    <tr>\n",
       "      <th>...</th>\n",
       "      <td>...</td>\n",
       "      <td>...</td>\n",
       "      <td>...</td>\n",
       "      <td>...</td>\n",
       "      <td>...</td>\n",
       "      <td>...</td>\n",
       "      <td>...</td>\n",
       "      <td>...</td>\n",
       "      <td>...</td>\n",
       "    </tr>\n",
       "    <tr>\n",
       "      <th>85</th>\n",
       "      <td>81.9</td>\n",
       "      <td>2.5</td>\n",
       "      <td>2.3</td>\n",
       "      <td>2.2</td>\n",
       "      <td>0.0</td>\n",
       "      <td>0.0</td>\n",
       "      <td>11.1</td>\n",
       "      <td>0.0</td>\n",
       "      <td>0.0</td>\n",
       "    </tr>\n",
       "    <tr>\n",
       "      <th>86</th>\n",
       "      <td>92.1</td>\n",
       "      <td>4.4</td>\n",
       "      <td>0.3</td>\n",
       "      <td>0.3</td>\n",
       "      <td>0.0</td>\n",
       "      <td>0.0</td>\n",
       "      <td>0.0</td>\n",
       "      <td>3.0</td>\n",
       "      <td>0.0</td>\n",
       "    </tr>\n",
       "    <tr>\n",
       "      <th>87</th>\n",
       "      <td>85.1</td>\n",
       "      <td>1.4</td>\n",
       "      <td>0.2</td>\n",
       "      <td>0.0</td>\n",
       "      <td>0.0</td>\n",
       "      <td>0.0</td>\n",
       "      <td>0.0</td>\n",
       "      <td>13.3</td>\n",
       "      <td>0.0</td>\n",
       "    </tr>\n",
       "    <tr>\n",
       "      <th>88</th>\n",
       "      <td>83.6</td>\n",
       "      <td>0.4</td>\n",
       "      <td>0.0</td>\n",
       "      <td>0.0</td>\n",
       "      <td>3.2</td>\n",
       "      <td>0.0</td>\n",
       "      <td>0.0</td>\n",
       "      <td>12.8</td>\n",
       "      <td>0.0</td>\n",
       "    </tr>\n",
       "    <tr>\n",
       "      <th>89</th>\n",
       "      <td>95.5</td>\n",
       "      <td>3.9</td>\n",
       "      <td>0.0</td>\n",
       "      <td>0.0</td>\n",
       "      <td>0.0</td>\n",
       "      <td>0.0</td>\n",
       "      <td>0.0</td>\n",
       "      <td>0.6</td>\n",
       "      <td>0.0</td>\n",
       "    </tr>\n",
       "  </tbody>\n",
       "</table>\n",
       "<p>90 rows × 9 columns</p>\n",
       "</div>"
      ],
      "text/plain": [
       "    PA56  PhA  MEL  THAM   CS   BN  ZnBO  CABO  HNT\n",
       "0   90.2  2.4  0.0   0.0  2.1  0.0   0.0   5.4  0.0\n",
       "1   85.9  4.4  0.0   0.0  4.1  0.0   5.7   0.0  0.0\n",
       "2   97.5  1.0  0.0   0.0  0.0  0.4   1.1   0.0  0.0\n",
       "3   90.6  2.7  1.4   0.0  2.4  0.0   0.0   2.9  0.0\n",
       "4   93.3  1.9  0.4   0.0  0.1  0.0   0.0   4.4  0.0\n",
       "..   ...  ...  ...   ...  ...  ...   ...   ...  ...\n",
       "85  81.9  2.5  2.3   2.2  0.0  0.0  11.1   0.0  0.0\n",
       "86  92.1  4.4  0.3   0.3  0.0  0.0   0.0   3.0  0.0\n",
       "87  85.1  1.4  0.2   0.0  0.0  0.0   0.0  13.3  0.0\n",
       "88  83.6  0.4  0.0   0.0  3.2  0.0   0.0  12.8  0.0\n",
       "89  95.5  3.9  0.0   0.0  0.0  0.0   0.0   0.6  0.0\n",
       "\n",
       "[90 rows x 9 columns]"
      ]
     },
     "execution_count": 11,
     "metadata": {},
     "output_type": "execute_result"
    }
   ],
   "source": [
    "df_perc"
   ]
  },
  {
   "cell_type": "markdown",
   "id": "ec561c5e-f9d4-4490-b026-27d436a4e7ce",
   "metadata": {},
   "source": [
    "#### Define bounds, space and calculate discrepancies and variance for comparison"
   ]
  },
  {
   "cell_type": "code",
   "execution_count": 12,
   "id": "e0572975-dc70-4e0c-bd24-aaed70524e95",
   "metadata": {
    "tags": []
   },
   "outputs": [],
   "source": [
    "l_bounds = [0.8, 0, 0, 0]\n",
    "u_bounds = [1., 0.05, 0.1, 0.14]\n",
    "space = qmc.scale(df_lhs, l_bounds, u_bounds, reverse=True)"
   ]
  },
  {
   "cell_type": "code",
   "execution_count": 13,
   "id": "0b37a1f8-0cfd-4730-a6ee-415c3249b781",
   "metadata": {},
   "outputs": [
    {
     "data": {
      "text/plain": [
       "0.05261503847048542"
      ]
     },
     "execution_count": 13,
     "metadata": {},
     "output_type": "execute_result"
    }
   ],
   "source": [
    "qmc.discrepancy(space)"
   ]
  },
  {
   "cell_type": "code",
   "execution_count": 14,
   "id": "f26318ee-e054-404e-9bf5-59688e8abbec",
   "metadata": {
    "tags": []
   },
   "outputs": [
    {
     "data": {
      "text/plain": [
       "0.03416681442753455"
      ]
     },
     "execution_count": 14,
     "metadata": {},
     "output_type": "execute_result"
    }
   ],
   "source": [
    "qmc.discrepancy(space, method='WD')"
   ]
  },
  {
   "cell_type": "code",
   "execution_count": 15,
   "id": "6396b933-b9c9-4ed7-8026-6260cca6044e",
   "metadata": {},
   "outputs": [
    {
     "data": {
      "text/plain": [
       "np.float64(0.08068112684240362)"
      ]
     },
     "execution_count": 15,
     "metadata": {},
     "output_type": "execute_result"
    }
   ],
   "source": [
    "np.linalg.norm(space.var())"
   ]
  },
  {
   "cell_type": "code",
   "execution_count": 16,
   "id": "2a8429ee-88cd-4f92-9dfb-c60c0d22817a",
   "metadata": {
    "tags": []
   },
   "outputs": [],
   "source": [
    "filepath = Path('Outputs/postprocessed_outputs_4dim.csv')  \n",
    "filepath.parent.mkdir(parents=True, exist_ok=True)  \n",
    "df_lhs.to_csv(filepath) "
   ]
  },
  {
   "cell_type": "markdown",
   "id": "c149fffd-7dd0-4a52-ae98-0b0dbfac8dc1",
   "metadata": {},
   "source": [
    "### **3. LHSMDU calculation and export to file, discrepancies and variance**"
   ]
  },
  {
   "cell_type": "code",
   "execution_count": 17,
   "id": "1b2cd39c-9604-43f6-b967-d697a3b5fc90",
   "metadata": {},
   "outputs": [],
   "source": [
    "column_names = [df_lhsmdu.columns.values.tolist(), df_lhsmdu_amino.columns.values.tolist(), df_lhsmdu_metallic.columns.values.tolist()]\n",
    "df_all_lhsmdu = pd.concat([df_lhsmdu, df_lhsmdu_amino, df_lhsmdu_metallic], axis=1, join=\"inner\")\n"
   ]
  },
  {
   "cell_type": "code",
   "execution_count": 18,
   "id": "9d251e83-19c0-4853-9da8-7a4f67975c0c",
   "metadata": {},
   "outputs": [
    {
     "data": {
      "text/html": [
       "<div>\n",
       "<style scoped>\n",
       "    .dataframe tbody tr th:only-of-type {\n",
       "        vertical-align: middle;\n",
       "    }\n",
       "\n",
       "    .dataframe tbody tr th {\n",
       "        vertical-align: top;\n",
       "    }\n",
       "\n",
       "    .dataframe thead th {\n",
       "        text-align: right;\n",
       "    }\n",
       "</style>\n",
       "<table border=\"1\" class=\"dataframe\">\n",
       "  <thead>\n",
       "    <tr style=\"text-align: right;\">\n",
       "      <th></th>\n",
       "      <th>PA56</th>\n",
       "      <th>PhA</th>\n",
       "      <th>amino-based</th>\n",
       "      <th>metallic-based</th>\n",
       "      <th>MEL</th>\n",
       "      <th>THAM</th>\n",
       "      <th>CS</th>\n",
       "      <th>BN</th>\n",
       "      <th>ZnBO</th>\n",
       "      <th>CABO</th>\n",
       "      <th>HNT</th>\n",
       "    </tr>\n",
       "  </thead>\n",
       "  <tbody>\n",
       "    <tr>\n",
       "      <th>0</th>\n",
       "      <td>0.840</td>\n",
       "      <td>0.045</td>\n",
       "      <td>0.039</td>\n",
       "      <td>0.076</td>\n",
       "      <td>0.754504</td>\n",
       "      <td>0.245496</td>\n",
       "      <td>0.000000</td>\n",
       "      <td>0.0</td>\n",
       "      <td>0.0</td>\n",
       "      <td>0.0</td>\n",
       "      <td>1.0</td>\n",
       "    </tr>\n",
       "    <tr>\n",
       "      <th>1</th>\n",
       "      <td>0.882</td>\n",
       "      <td>0.044</td>\n",
       "      <td>0.021</td>\n",
       "      <td>0.053</td>\n",
       "      <td>0.000000</td>\n",
       "      <td>0.000000</td>\n",
       "      <td>1.000000</td>\n",
       "      <td>0.0</td>\n",
       "      <td>0.0</td>\n",
       "      <td>0.0</td>\n",
       "      <td>1.0</td>\n",
       "    </tr>\n",
       "    <tr>\n",
       "      <th>2</th>\n",
       "      <td>0.909</td>\n",
       "      <td>0.006</td>\n",
       "      <td>0.056</td>\n",
       "      <td>0.030</td>\n",
       "      <td>0.504332</td>\n",
       "      <td>0.000000</td>\n",
       "      <td>0.495668</td>\n",
       "      <td>0.0</td>\n",
       "      <td>0.0</td>\n",
       "      <td>0.0</td>\n",
       "      <td>1.0</td>\n",
       "    </tr>\n",
       "    <tr>\n",
       "      <th>3</th>\n",
       "      <td>0.892</td>\n",
       "      <td>0.030</td>\n",
       "      <td>0.023</td>\n",
       "      <td>0.054</td>\n",
       "      <td>0.000000</td>\n",
       "      <td>0.000000</td>\n",
       "      <td>0.000000</td>\n",
       "      <td>1.0</td>\n",
       "      <td>0.0</td>\n",
       "      <td>1.0</td>\n",
       "      <td>0.0</td>\n",
       "    </tr>\n",
       "    <tr>\n",
       "      <th>4</th>\n",
       "      <td>0.918</td>\n",
       "      <td>0.025</td>\n",
       "      <td>0.039</td>\n",
       "      <td>0.018</td>\n",
       "      <td>0.000000</td>\n",
       "      <td>1.000000</td>\n",
       "      <td>0.000000</td>\n",
       "      <td>0.0</td>\n",
       "      <td>1.0</td>\n",
       "      <td>0.0</td>\n",
       "      <td>0.0</td>\n",
       "    </tr>\n",
       "    <tr>\n",
       "      <th>...</th>\n",
       "      <td>...</td>\n",
       "      <td>...</td>\n",
       "      <td>...</td>\n",
       "      <td>...</td>\n",
       "      <td>...</td>\n",
       "      <td>...</td>\n",
       "      <td>...</td>\n",
       "      <td>...</td>\n",
       "      <td>...</td>\n",
       "      <td>...</td>\n",
       "      <td>...</td>\n",
       "    </tr>\n",
       "    <tr>\n",
       "      <th>85</th>\n",
       "      <td>0.928</td>\n",
       "      <td>0.044</td>\n",
       "      <td>0.010</td>\n",
       "      <td>0.018</td>\n",
       "      <td>1.000000</td>\n",
       "      <td>0.000000</td>\n",
       "      <td>0.000000</td>\n",
       "      <td>0.0</td>\n",
       "      <td>0.0</td>\n",
       "      <td>1.0</td>\n",
       "      <td>0.0</td>\n",
       "    </tr>\n",
       "    <tr>\n",
       "      <th>86</th>\n",
       "      <td>0.824</td>\n",
       "      <td>0.030</td>\n",
       "      <td>0.095</td>\n",
       "      <td>0.051</td>\n",
       "      <td>0.000000</td>\n",
       "      <td>0.000000</td>\n",
       "      <td>0.000000</td>\n",
       "      <td>1.0</td>\n",
       "      <td>0.0</td>\n",
       "      <td>1.0</td>\n",
       "      <td>0.0</td>\n",
       "    </tr>\n",
       "    <tr>\n",
       "      <th>87</th>\n",
       "      <td>0.926</td>\n",
       "      <td>0.043</td>\n",
       "      <td>0.000</td>\n",
       "      <td>0.031</td>\n",
       "      <td>0.400443</td>\n",
       "      <td>0.599557</td>\n",
       "      <td>0.000000</td>\n",
       "      <td>0.0</td>\n",
       "      <td>0.0</td>\n",
       "      <td>1.0</td>\n",
       "      <td>0.0</td>\n",
       "    </tr>\n",
       "    <tr>\n",
       "      <th>88</th>\n",
       "      <td>0.855</td>\n",
       "      <td>0.003</td>\n",
       "      <td>0.007</td>\n",
       "      <td>0.135</td>\n",
       "      <td>0.000000</td>\n",
       "      <td>0.000000</td>\n",
       "      <td>1.000000</td>\n",
       "      <td>0.0</td>\n",
       "      <td>0.0</td>\n",
       "      <td>1.0</td>\n",
       "      <td>0.0</td>\n",
       "    </tr>\n",
       "    <tr>\n",
       "      <th>89</th>\n",
       "      <td>0.835</td>\n",
       "      <td>0.007</td>\n",
       "      <td>0.024</td>\n",
       "      <td>0.134</td>\n",
       "      <td>0.000000</td>\n",
       "      <td>0.000000</td>\n",
       "      <td>1.000000</td>\n",
       "      <td>0.0</td>\n",
       "      <td>0.0</td>\n",
       "      <td>0.0</td>\n",
       "      <td>1.0</td>\n",
       "    </tr>\n",
       "  </tbody>\n",
       "</table>\n",
       "<p>90 rows × 11 columns</p>\n",
       "</div>"
      ],
      "text/plain": [
       "     PA56    PhA  amino-based  metallic-based       MEL      THAM        CS  \\\n",
       "0   0.840  0.045        0.039           0.076  0.754504  0.245496  0.000000   \n",
       "1   0.882  0.044        0.021           0.053  0.000000  0.000000  1.000000   \n",
       "2   0.909  0.006        0.056           0.030  0.504332  0.000000  0.495668   \n",
       "3   0.892  0.030        0.023           0.054  0.000000  0.000000  0.000000   \n",
       "4   0.918  0.025        0.039           0.018  0.000000  1.000000  0.000000   \n",
       "..    ...    ...          ...             ...       ...       ...       ...   \n",
       "85  0.928  0.044        0.010           0.018  1.000000  0.000000  0.000000   \n",
       "86  0.824  0.030        0.095           0.051  0.000000  0.000000  0.000000   \n",
       "87  0.926  0.043        0.000           0.031  0.400443  0.599557  0.000000   \n",
       "88  0.855  0.003        0.007           0.135  0.000000  0.000000  1.000000   \n",
       "89  0.835  0.007        0.024           0.134  0.000000  0.000000  1.000000   \n",
       "\n",
       "     BN  ZnBO  CABO  HNT  \n",
       "0   0.0   0.0   0.0  1.0  \n",
       "1   0.0   0.0   0.0  1.0  \n",
       "2   0.0   0.0   0.0  1.0  \n",
       "3   1.0   0.0   1.0  0.0  \n",
       "4   0.0   1.0   0.0  0.0  \n",
       "..  ...   ...   ...  ...  \n",
       "85  0.0   0.0   1.0  0.0  \n",
       "86  1.0   0.0   1.0  0.0  \n",
       "87  0.0   0.0   1.0  0.0  \n",
       "88  0.0   0.0   1.0  0.0  \n",
       "89  0.0   0.0   0.0  1.0  \n",
       "\n",
       "[90 rows x 11 columns]"
      ]
     },
     "execution_count": 18,
     "metadata": {},
     "output_type": "execute_result"
    }
   ],
   "source": [
    "df_all_lhsmdu"
   ]
  },
  {
   "cell_type": "code",
   "execution_count": 19,
   "id": "3c1fa5a4-11f7-455e-8ae6-26d93bb48912",
   "metadata": {},
   "outputs": [],
   "source": [
    "df_perc_lhsmdu = df_all_lhsmdu*100"
   ]
  },
  {
   "cell_type": "code",
   "execution_count": 20,
   "id": "20a1f868-d98c-4a93-b0c2-293f4f48b3b5",
   "metadata": {
    "tags": []
   },
   "outputs": [
    {
     "data": {
      "text/plain": [
       "0.055045826735714995"
      ]
     },
     "execution_count": 20,
     "metadata": {},
     "output_type": "execute_result"
    }
   ],
   "source": [
    "space_lhsmdu = qmc.scale(df_lhsmdu, l_bounds, u_bounds, reverse=True)\n",
    "qmc.discrepancy(space_lhsmdu)"
   ]
  },
  {
   "cell_type": "code",
   "execution_count": 21,
   "id": "44fb9b71-face-4a03-8613-44418539701d",
   "metadata": {
    "tags": []
   },
   "outputs": [
    {
     "data": {
      "text/plain": [
       "0.05060494670922755"
      ]
     },
     "execution_count": 21,
     "metadata": {},
     "output_type": "execute_result"
    }
   ],
   "source": [
    "qmc.discrepancy(space_lhsmdu, method='WD')"
   ]
  },
  {
   "cell_type": "code",
   "execution_count": 22,
   "id": "af2e4ff9-d065-4a54-b1bc-7f5a6612b802",
   "metadata": {
    "tags": []
   },
   "outputs": [
    {
     "data": {
      "text/plain": [
       "np.float64(0.07245850245260141)"
      ]
     },
     "execution_count": 22,
     "metadata": {},
     "output_type": "execute_result"
    }
   ],
   "source": [
    "np.linalg.norm(space_lhsmdu.var())"
   ]
  },
  {
   "cell_type": "markdown",
   "id": "71955f11-ec8c-4aa5-9b33-d3c890404a3f",
   "metadata": {
    "tags": []
   },
   "source": [
    "#### Make sure that add up to 1, if not randomly take one where add error"
   ]
  },
  {
   "cell_type": "code",
   "execution_count": 23,
   "id": "6ef9bf0c-c9a5-49ae-b05e-2136b9d323fe",
   "metadata": {
    "tags": []
   },
   "outputs": [],
   "source": [
    "for i in range(len(df_lhsmdu)):\n",
    "    if abs(df_lhsmdu.loc[i,:].sum()-1)>1e-4:\n",
    "        ind_list = np.where(df_lhsmdu.loc[i,:]!=0)[0]\n",
    "        ind = np.random.choice(ind_list)\n",
    "        df_lhsmdu.iloc[i,ind] = df_lhsmdu.iloc[i,ind] - (df_lhsmdu.loc[i,:].sum()-1)\n",
    "        #print(ind)\n",
    "        #print(i, df_perc_lhsmdu.loc[i,:].sum())"
   ]
  },
  {
   "cell_type": "code",
   "execution_count": 24,
   "id": "6e700502-7e3b-44a1-a963-0ec8897a7969",
   "metadata": {
    "tags": []
   },
   "outputs": [],
   "source": [
    "filepath = Path('Outputs/postprocessed_outputs_without_selection_lhsmdu_all.csv')  \n",
    "filepath.parent.mkdir(parents=True, exist_ok=True)  \n",
    "df_all_lhsmdu.to_csv(filepath) "
   ]
  },
  {
   "cell_type": "markdown",
   "id": "94ff5ec9-6eeb-42c9-87c7-4dfe5887754c",
   "metadata": {},
   "source": [
    "### **4. Import and format data set**"
   ]
  },
  {
   "cell_type": "code",
   "execution_count": 25,
   "id": "8b377b2d-9868-4dea-894b-cb1a4b8f838f",
   "metadata": {
    "tags": []
   },
   "outputs": [],
   "source": [
    "filename = './data/Bank_Data-2808_mod_corrected.csv'#Bank_Data_mod_clean.csv'\n",
    "df = pd.read_csv(filename, sep=';', decimal=\",\")\n",
    "df = df.div(100.)\n",
    "data_array = np.zeros((len(df),4))\n",
    "data_array = np.column_stack((df['PA-56'].to_numpy(), df['PhA'], df['am-based'], df['met-based']))"
   ]
  },
  {
   "cell_type": "markdown",
   "id": "5e57308b-70a7-4017-b6fd-7c879f153922",
   "metadata": {},
   "source": [
    "#### Scaling of data"
   ]
  },
  {
   "cell_type": "code",
   "execution_count": 26,
   "id": "303b9b4c-027e-442c-953b-2c4fe7086321",
   "metadata": {},
   "outputs": [],
   "source": [
    "scaler = StandardScaler().fit(data_array)\n",
    "data_scaled = scaler.transform(data_array)\n",
    "scaler2 = StandardScaler().fit(df_all)\n",
    "all_val_samples_scaled = scaler2.transform(df_all)\n",
    "scaler3 = StandardScaler().fit(df_all_lhsmdu)\n",
    "all_val_samples_mdu_scaled = scaler3.transform(df_all_lhsmdu)"
   ]
  },
  {
   "cell_type": "markdown",
   "id": "32a62277-960e-4e8f-998e-201b210ed2ab",
   "metadata": {},
   "source": [
    "### **5. Reduce to 2 dimensions and plot**"
   ]
  },
  {
   "cell_type": "code",
   "execution_count": 27,
   "id": "3fc95c05-f57b-45e5-a81c-516748e6270d",
   "metadata": {},
   "outputs": [
    {
     "name": "stderr",
     "output_type": "stream",
     "text": [
      "The PostScript backend does not support transparency; partially transparent artists will be rendered opaque.\n"
     ]
    },
    {
     "data": {
      "image/png": "[encoded data removed]",
      "text/plain": [
       "<Figure size 640x480 with 1 Axes>"
      ]
     },
     "metadata": {},
     "output_type": "display_data"
    }
   ],
   "source": [
    "pca = PCA(n_components=2)\n",
    "Xt1_pca = pca.fit_transform(data_scaled)\n",
    "Xt2_pca = pca.fit_transform(all_val_samples_scaled)\n",
    "Xt3_pca = pca.fit_transform(all_val_samples_mdu_scaled)  \n",
    "\n",
    "plot_dimred_2dims_both_methods(Xt1_pca, Xt2_pca, Xt3_pca, filename_eps='Figures_4dim/plot_scaled_90pts.eps')"
   ]
  },
  {
   "cell_type": "code",
   "execution_count": 28,
   "id": "d29e6d5e-8a47-4399-95b0-3e80ea7ab3ff",
   "metadata": {
    "tags": []
   },
   "outputs": [],
   "source": [
    "tol = 5e-1\n",
    "tol2 = 5e-1\n",
    "des_n_samp = 15\n",
    "\n",
    "tol_samples, tol_samples_LHSMDU, tol_samples_unscaled, tol_samples_LHSMDU_unscaled = select_samples_diff_from_data(exp_data=data_array, samples_LHS=df_lhs.to_numpy(), samples_LHSMDU=df_lhsmdu.to_numpy(), des_n_samp = des_n_samp, tol = tol, tol2 = tol2)\n"
   ]
  },
  {
   "cell_type": "code",
   "execution_count": 29,
   "id": "01031e71-03d7-439b-93f6-4ccc6a7aa687",
   "metadata": {},
   "outputs": [],
   "source": [
    "df_15_samps_scaled = pd.DataFrame(tol_samples,columns=['PA-56','PhA','am-based','met-based'])\n",
    "df_15_samps = pd.DataFrame(tol_samples_unscaled,columns=['PA-56','PhA','am-based','met-based'])"
   ]
  },
  {
   "cell_type": "markdown",
   "id": "2f9207c3-4cd7-4dd3-b365-17970203afe9",
   "metadata": {},
   "source": [
    "#### Check if add up to 100%"
   ]
  },
  {
   "cell_type": "code",
   "execution_count": 30,
   "id": "d816d47c-0207-4ff2-8677-13536fec1563",
   "metadata": {},
   "outputs": [],
   "source": [
    "df_perc = df_15_samps*100\n",
    "for i in range(len(df_perc)):\n",
    "    if abs(sum(df_perc.iloc[i,:])-100)>1e-2:\n",
    "        print(sum(df_perc.iloc[i,:]))"
   ]
  },
  {
   "cell_type": "code",
   "execution_count": 31,
   "id": "eb2cd387-d3dd-429a-b56c-745a8b26554a",
   "metadata": {
    "tags": []
   },
   "outputs": [
    {
     "data": {
      "text/html": [
       "<div>\n",
       "<style scoped>\n",
       "    .dataframe tbody tr th:only-of-type {\n",
       "        vertical-align: middle;\n",
       "    }\n",
       "\n",
       "    .dataframe tbody tr th {\n",
       "        vertical-align: top;\n",
       "    }\n",
       "\n",
       "    .dataframe thead th {\n",
       "        text-align: right;\n",
       "    }\n",
       "</style>\n",
       "<table border=\"1\" class=\"dataframe\">\n",
       "  <thead>\n",
       "    <tr style=\"text-align: right;\">\n",
       "      <th></th>\n",
       "      <th>PA-56</th>\n",
       "      <th>PhA</th>\n",
       "      <th>am-based</th>\n",
       "      <th>met-based</th>\n",
       "    </tr>\n",
       "  </thead>\n",
       "  <tbody>\n",
       "    <tr>\n",
       "      <th>0</th>\n",
       "      <td>81.6</td>\n",
       "      <td>3.0</td>\n",
       "      <td>7.6</td>\n",
       "      <td>7.8</td>\n",
       "    </tr>\n",
       "    <tr>\n",
       "      <th>1</th>\n",
       "      <td>82.7</td>\n",
       "      <td>0.3</td>\n",
       "      <td>4.3</td>\n",
       "      <td>12.7</td>\n",
       "    </tr>\n",
       "    <tr>\n",
       "      <th>2</th>\n",
       "      <td>82.1</td>\n",
       "      <td>3.7</td>\n",
       "      <td>9.4</td>\n",
       "      <td>4.8</td>\n",
       "    </tr>\n",
       "    <tr>\n",
       "      <th>3</th>\n",
       "      <td>81.7</td>\n",
       "      <td>3.8</td>\n",
       "      <td>3.1</td>\n",
       "      <td>11.4</td>\n",
       "    </tr>\n",
       "    <tr>\n",
       "      <th>4</th>\n",
       "      <td>80.1</td>\n",
       "      <td>4.1</td>\n",
       "      <td>8.5</td>\n",
       "      <td>7.3</td>\n",
       "    </tr>\n",
       "    <tr>\n",
       "      <th>5</th>\n",
       "      <td>80.1</td>\n",
       "      <td>2.2</td>\n",
       "      <td>6.8</td>\n",
       "      <td>10.9</td>\n",
       "    </tr>\n",
       "    <tr>\n",
       "      <th>6</th>\n",
       "      <td>83.6</td>\n",
       "      <td>4.0</td>\n",
       "      <td>1.6</td>\n",
       "      <td>10.8</td>\n",
       "    </tr>\n",
       "    <tr>\n",
       "      <th>7</th>\n",
       "      <td>80.3</td>\n",
       "      <td>4.3</td>\n",
       "      <td>4.6</td>\n",
       "      <td>10.8</td>\n",
       "    </tr>\n",
       "    <tr>\n",
       "      <th>8</th>\n",
       "      <td>80.2</td>\n",
       "      <td>0.1</td>\n",
       "      <td>8.0</td>\n",
       "      <td>11.7</td>\n",
       "    </tr>\n",
       "    <tr>\n",
       "      <th>9</th>\n",
       "      <td>96.9</td>\n",
       "      <td>0.0</td>\n",
       "      <td>3.0</td>\n",
       "      <td>0.1</td>\n",
       "    </tr>\n",
       "    <tr>\n",
       "      <th>10</th>\n",
       "      <td>83.0</td>\n",
       "      <td>2.1</td>\n",
       "      <td>3.7</td>\n",
       "      <td>11.2</td>\n",
       "    </tr>\n",
       "    <tr>\n",
       "      <th>11</th>\n",
       "      <td>85.4</td>\n",
       "      <td>1.2</td>\n",
       "      <td>9.9</td>\n",
       "      <td>3.5</td>\n",
       "    </tr>\n",
       "    <tr>\n",
       "      <th>12</th>\n",
       "      <td>93.6</td>\n",
       "      <td>3.7</td>\n",
       "      <td>1.5</td>\n",
       "      <td>1.2</td>\n",
       "    </tr>\n",
       "    <tr>\n",
       "      <th>13</th>\n",
       "      <td>83.5</td>\n",
       "      <td>2.2</td>\n",
       "      <td>9.4</td>\n",
       "      <td>4.9</td>\n",
       "    </tr>\n",
       "    <tr>\n",
       "      <th>14</th>\n",
       "      <td>95.5</td>\n",
       "      <td>3.9</td>\n",
       "      <td>0.0</td>\n",
       "      <td>0.6</td>\n",
       "    </tr>\n",
       "  </tbody>\n",
       "</table>\n",
       "</div>"
      ],
      "text/plain": [
       "    PA-56  PhA  am-based  met-based\n",
       "0    81.6  3.0       7.6        7.8\n",
       "1    82.7  0.3       4.3       12.7\n",
       "2    82.1  3.7       9.4        4.8\n",
       "3    81.7  3.8       3.1       11.4\n",
       "4    80.1  4.1       8.5        7.3\n",
       "5    80.1  2.2       6.8       10.9\n",
       "6    83.6  4.0       1.6       10.8\n",
       "7    80.3  4.3       4.6       10.8\n",
       "8    80.2  0.1       8.0       11.7\n",
       "9    96.9  0.0       3.0        0.1\n",
       "10   83.0  2.1       3.7       11.2\n",
       "11   85.4  1.2       9.9        3.5\n",
       "12   93.6  3.7       1.5        1.2\n",
       "13   83.5  2.2       9.4        4.9\n",
       "14   95.5  3.9       0.0        0.6"
      ]
     },
     "execution_count": 31,
     "metadata": {},
     "output_type": "execute_result"
    }
   ],
   "source": [
    "df_perc"
   ]
  },
  {
   "cell_type": "code",
   "execution_count": 32,
   "id": "7faa8cba-83b9-440d-a4fd-bb4aa792da3c",
   "metadata": {},
   "outputs": [],
   "source": [
    "filepath = Path('Outputs/postprocessed_outputs_15lhs_4dim.csv')  \n",
    "filepath.parent.mkdir(parents=True, exist_ok=True)  \n",
    "df_perc.to_csv(filepath, float_format='%.1f') "
   ]
  },
  {
   "cell_type": "markdown",
   "id": "e4f9592b-3ba6-4523-ad6f-a4b5a623bd2f",
   "metadata": {},
   "source": [
    "### **6. Calculate other discrepancies and variance to check space filling properties/uniformity**"
   ]
  },
  {
   "cell_type": "code",
   "execution_count": 33,
   "id": "7bac8e5d-eb68-4a3a-a0fc-ebcd5bf73b3e",
   "metadata": {
    "tags": []
   },
   "outputs": [
    {
     "data": {
      "text/plain": [
       "0.17443959697347072"
      ]
     },
     "execution_count": 33,
     "metadata": {},
     "output_type": "execute_result"
    }
   ],
   "source": [
    "space = qmc.scale(df_15_samps, l_bounds, u_bounds, reverse=True)\n",
    "qmc.discrepancy(space)"
   ]
  },
  {
   "cell_type": "code",
   "execution_count": 34,
   "id": "eb42bd42-66ad-4323-bea4-372261b7a00e",
   "metadata": {},
   "outputs": [
    {
     "data": {
      "text/plain": [
       "0.21801086931477281"
      ]
     },
     "execution_count": 34,
     "metadata": {},
     "output_type": "execute_result"
    }
   ],
   "source": [
    "qmc.discrepancy(space, method='WD')"
   ]
  },
  {
   "cell_type": "code",
   "execution_count": 35,
   "id": "acc9c3e9-4aa4-4af3-9d2b-fa105330ff7f",
   "metadata": {},
   "outputs": [
    {
     "data": {
      "text/plain": [
       "np.float64(0.10648315121882089)"
      ]
     },
     "execution_count": 35,
     "metadata": {},
     "output_type": "execute_result"
    }
   ],
   "source": [
    "np.linalg.norm(space.var())"
   ]
  },
  {
   "cell_type": "code",
   "execution_count": 36,
   "id": "248cc7ef-5d1b-4dff-8304-70b034c325b8",
   "metadata": {},
   "outputs": [],
   "source": [
    "df_data = df[['PA-56','PhA','am-based','met-based']].copy()\n",
    "df_data = df_data\n",
    "df_with_data = pd.concat([df_15_samps, df_data], ignore_index=True, axis=0)"
   ]
  },
  {
   "cell_type": "code",
   "execution_count": 37,
   "id": "5d238f80-0c51-4144-8288-d732a7a069df",
   "metadata": {
    "tags": []
   },
   "outputs": [
    {
     "data": {
      "text/html": [
       "<div>\n",
       "<style scoped>\n",
       "    .dataframe tbody tr th:only-of-type {\n",
       "        vertical-align: middle;\n",
       "    }\n",
       "\n",
       "    .dataframe tbody tr th {\n",
       "        vertical-align: top;\n",
       "    }\n",
       "\n",
       "    .dataframe thead th {\n",
       "        text-align: right;\n",
       "    }\n",
       "</style>\n",
       "<table border=\"1\" class=\"dataframe\">\n",
       "  <thead>\n",
       "    <tr style=\"text-align: right;\">\n",
       "      <th></th>\n",
       "      <th>PA-56</th>\n",
       "      <th>PhA</th>\n",
       "      <th>am-based</th>\n",
       "      <th>met-based</th>\n",
       "    </tr>\n",
       "  </thead>\n",
       "  <tbody>\n",
       "    <tr>\n",
       "      <th>0</th>\n",
       "      <td>0.816</td>\n",
       "      <td>0.030</td>\n",
       "      <td>0.076</td>\n",
       "      <td>0.078</td>\n",
       "    </tr>\n",
       "    <tr>\n",
       "      <th>1</th>\n",
       "      <td>0.827</td>\n",
       "      <td>0.003</td>\n",
       "      <td>0.043</td>\n",
       "      <td>0.127</td>\n",
       "    </tr>\n",
       "    <tr>\n",
       "      <th>2</th>\n",
       "      <td>0.821</td>\n",
       "      <td>0.037</td>\n",
       "      <td>0.094</td>\n",
       "      <td>0.048</td>\n",
       "    </tr>\n",
       "    <tr>\n",
       "      <th>3</th>\n",
       "      <td>0.817</td>\n",
       "      <td>0.038</td>\n",
       "      <td>0.031</td>\n",
       "      <td>0.114</td>\n",
       "    </tr>\n",
       "    <tr>\n",
       "      <th>4</th>\n",
       "      <td>0.801</td>\n",
       "      <td>0.041</td>\n",
       "      <td>0.085</td>\n",
       "      <td>0.073</td>\n",
       "    </tr>\n",
       "    <tr>\n",
       "      <th>...</th>\n",
       "      <td>...</td>\n",
       "      <td>...</td>\n",
       "      <td>...</td>\n",
       "      <td>...</td>\n",
       "    </tr>\n",
       "    <tr>\n",
       "      <th>85</th>\n",
       "      <td>0.900</td>\n",
       "      <td>0.000</td>\n",
       "      <td>0.050</td>\n",
       "      <td>0.050</td>\n",
       "    </tr>\n",
       "    <tr>\n",
       "      <th>86</th>\n",
       "      <td>0.970</td>\n",
       "      <td>0.000</td>\n",
       "      <td>0.010</td>\n",
       "      <td>0.020</td>\n",
       "    </tr>\n",
       "    <tr>\n",
       "      <th>87</th>\n",
       "      <td>0.950</td>\n",
       "      <td>0.000</td>\n",
       "      <td>0.017</td>\n",
       "      <td>0.033</td>\n",
       "    </tr>\n",
       "    <tr>\n",
       "      <th>88</th>\n",
       "      <td>0.930</td>\n",
       "      <td>0.000</td>\n",
       "      <td>0.023</td>\n",
       "      <td>0.047</td>\n",
       "    </tr>\n",
       "    <tr>\n",
       "      <th>89</th>\n",
       "      <td>0.900</td>\n",
       "      <td>0.000</td>\n",
       "      <td>0.033</td>\n",
       "      <td>0.067</td>\n",
       "    </tr>\n",
       "  </tbody>\n",
       "</table>\n",
       "<p>90 rows × 4 columns</p>\n",
       "</div>"
      ],
      "text/plain": [
       "    PA-56    PhA  am-based  met-based\n",
       "0   0.816  0.030     0.076      0.078\n",
       "1   0.827  0.003     0.043      0.127\n",
       "2   0.821  0.037     0.094      0.048\n",
       "3   0.817  0.038     0.031      0.114\n",
       "4   0.801  0.041     0.085      0.073\n",
       "..    ...    ...       ...        ...\n",
       "85  0.900  0.000     0.050      0.050\n",
       "86  0.970  0.000     0.010      0.020\n",
       "87  0.950  0.000     0.017      0.033\n",
       "88  0.930  0.000     0.023      0.047\n",
       "89  0.900  0.000     0.033      0.067\n",
       "\n",
       "[90 rows x 4 columns]"
      ]
     },
     "execution_count": 37,
     "metadata": {},
     "output_type": "execute_result"
    }
   ],
   "source": [
    "df_with_data"
   ]
  },
  {
   "cell_type": "code",
   "execution_count": 38,
   "id": "9f0b4abc-df02-4b22-8fd5-e3e614b64d36",
   "metadata": {},
   "outputs": [
    {
     "data": {
      "text/plain": [
       "0.33972278055877514"
      ]
     },
     "execution_count": 38,
     "metadata": {},
     "output_type": "execute_result"
    }
   ],
   "source": [
    "space = qmc.scale(df_with_data, l_bounds, u_bounds, reverse=True)\n",
    "qmc.discrepancy(space)"
   ]
  },
  {
   "cell_type": "code",
   "execution_count": 39,
   "id": "1392743f-29fc-461d-9451-9ab08989ea4f",
   "metadata": {},
   "outputs": [
    {
     "data": {
      "text/plain": [
       "0.24079397792801335"
      ]
     },
     "execution_count": 39,
     "metadata": {},
     "output_type": "execute_result"
    }
   ],
   "source": [
    "qmc.discrepancy(space, method='WD')"
   ]
  },
  {
   "cell_type": "code",
   "execution_count": 40,
   "id": "7ec0f4c2-bf76-4e65-89d3-3083f9a23fe6",
   "metadata": {},
   "outputs": [
    {
     "data": {
      "text/plain": [
       "np.float64(0.09596360052516377)"
      ]
     },
     "execution_count": 40,
     "metadata": {},
     "output_type": "execute_result"
    }
   ],
   "source": [
    "np.linalg.norm(space.var())"
   ]
  },
  {
   "cell_type": "code",
   "execution_count": 41,
   "id": "4d8a941e-bb38-46ad-af73-f1f12f39978c",
   "metadata": {},
   "outputs": [],
   "source": [
    "df_15_samps_lhsmdu = pd.DataFrame(tol_samples_LHSMDU_unscaled,columns=['PA-56','PhA','am-based','met-based'])\n",
    "df_15_samps_lhsmdu_scaled = pd.DataFrame(tol_samples_LHSMDU,columns=['PA-56','PhA','am-based','met-based'])"
   ]
  },
  {
   "cell_type": "code",
   "execution_count": 42,
   "id": "b66d7490-8e12-4985-8131-6f8109337b99",
   "metadata": {
    "tags": []
   },
   "outputs": [
    {
     "data": {
      "text/plain": [
       "0.10865121164010748"
      ]
     },
     "execution_count": 42,
     "metadata": {},
     "output_type": "execute_result"
    }
   ],
   "source": [
    "space = qmc.scale(df_15_samps_lhsmdu, l_bounds, u_bounds, reverse=True)\n",
    "qmc.discrepancy(space)"
   ]
  },
  {
   "cell_type": "code",
   "execution_count": 43,
   "id": "162963f3-52a5-4eb9-a45b-99424f76a937",
   "metadata": {},
   "outputs": [
    {
     "data": {
      "text/plain": [
       "0.1366149867398518"
      ]
     },
     "execution_count": 43,
     "metadata": {},
     "output_type": "execute_result"
    }
   ],
   "source": [
    "qmc.discrepancy(space, method='WD')"
   ]
  },
  {
   "cell_type": "code",
   "execution_count": 44,
   "id": "3a26e68b-2df4-4d3e-94d5-21fbf32ac85e",
   "metadata": {},
   "outputs": [
    {
     "data": {
      "text/plain": [
       "np.float64(0.10227703443877553)"
      ]
     },
     "execution_count": 44,
     "metadata": {},
     "output_type": "execute_result"
    }
   ],
   "source": [
    "np.linalg.norm(space.var())"
   ]
  },
  {
   "cell_type": "markdown",
   "id": "73df093f-8c15-475c-bb0d-26e3946111ee",
   "metadata": {
    "tags": []
   },
   "source": [
    "#### Check if add up to 100%"
   ]
  },
  {
   "cell_type": "code",
   "execution_count": 45,
   "id": "38a5a296-32ee-4391-8f3f-bba749feba15",
   "metadata": {},
   "outputs": [],
   "source": [
    "df_perc_lhsmdu = df_15_samps_lhsmdu*100\n",
    "for i in range(len(df_perc_lhsmdu)):\n",
    "    if abs(sum(df_perc_lhsmdu.iloc[i,:])-100)>1e-2:\n",
    "        print(sum(df_perc_lhsmdu.iloc[i,:]))"
   ]
  },
  {
   "cell_type": "code",
   "execution_count": 46,
   "id": "9b396855-8d6a-4c60-ab68-d4d81ed02069",
   "metadata": {},
   "outputs": [
    {
     "data": {
      "text/html": [
       "<div>\n",
       "<style scoped>\n",
       "    .dataframe tbody tr th:only-of-type {\n",
       "        vertical-align: middle;\n",
       "    }\n",
       "\n",
       "    .dataframe tbody tr th {\n",
       "        vertical-align: top;\n",
       "    }\n",
       "\n",
       "    .dataframe thead th {\n",
       "        text-align: right;\n",
       "    }\n",
       "</style>\n",
       "<table border=\"1\" class=\"dataframe\">\n",
       "  <thead>\n",
       "    <tr style=\"text-align: right;\">\n",
       "      <th></th>\n",
       "      <th>PA-56</th>\n",
       "      <th>PhA</th>\n",
       "      <th>am-based</th>\n",
       "      <th>met-based</th>\n",
       "    </tr>\n",
       "  </thead>\n",
       "  <tbody>\n",
       "    <tr>\n",
       "      <th>0</th>\n",
       "      <td>85.6</td>\n",
       "      <td>2.5</td>\n",
       "      <td>6.9</td>\n",
       "      <td>5.0</td>\n",
       "    </tr>\n",
       "    <tr>\n",
       "      <th>1</th>\n",
       "      <td>80.5</td>\n",
       "      <td>3.6</td>\n",
       "      <td>6.7</td>\n",
       "      <td>9.2</td>\n",
       "    </tr>\n",
       "    <tr>\n",
       "      <th>2</th>\n",
       "      <td>94.0</td>\n",
       "      <td>0.0</td>\n",
       "      <td>3.8</td>\n",
       "      <td>2.2</td>\n",
       "    </tr>\n",
       "    <tr>\n",
       "      <th>3</th>\n",
       "      <td>82.4</td>\n",
       "      <td>3.0</td>\n",
       "      <td>9.5</td>\n",
       "      <td>5.1</td>\n",
       "    </tr>\n",
       "    <tr>\n",
       "      <th>4</th>\n",
       "      <td>83.9</td>\n",
       "      <td>3.9</td>\n",
       "      <td>0.9</td>\n",
       "      <td>11.3</td>\n",
       "    </tr>\n",
       "    <tr>\n",
       "      <th>5</th>\n",
       "      <td>95.4</td>\n",
       "      <td>0.9</td>\n",
       "      <td>3.7</td>\n",
       "      <td>0.0</td>\n",
       "    </tr>\n",
       "    <tr>\n",
       "      <th>6</th>\n",
       "      <td>81.3</td>\n",
       "      <td>2.9</td>\n",
       "      <td>7.3</td>\n",
       "      <td>8.5</td>\n",
       "    </tr>\n",
       "    <tr>\n",
       "      <th>7</th>\n",
       "      <td>82.8</td>\n",
       "      <td>1.8</td>\n",
       "      <td>3.2</td>\n",
       "      <td>12.2</td>\n",
       "    </tr>\n",
       "    <tr>\n",
       "      <th>8</th>\n",
       "      <td>92.6</td>\n",
       "      <td>4.3</td>\n",
       "      <td>0.0</td>\n",
       "      <td>3.1</td>\n",
       "    </tr>\n",
       "    <tr>\n",
       "      <th>9</th>\n",
       "      <td>80.0</td>\n",
       "      <td>5.0</td>\n",
       "      <td>9.6</td>\n",
       "      <td>5.4</td>\n",
       "    </tr>\n",
       "    <tr>\n",
       "      <th>10</th>\n",
       "      <td>84.9</td>\n",
       "      <td>0.2</td>\n",
       "      <td>9.3</td>\n",
       "      <td>5.6</td>\n",
       "    </tr>\n",
       "    <tr>\n",
       "      <th>11</th>\n",
       "      <td>81.4</td>\n",
       "      <td>0.1</td>\n",
       "      <td>4.6</td>\n",
       "      <td>13.9</td>\n",
       "    </tr>\n",
       "    <tr>\n",
       "      <th>12</th>\n",
       "      <td>95.6</td>\n",
       "      <td>3.1</td>\n",
       "      <td>1.0</td>\n",
       "      <td>0.3</td>\n",
       "    </tr>\n",
       "    <tr>\n",
       "      <th>13</th>\n",
       "      <td>80.9</td>\n",
       "      <td>3.3</td>\n",
       "      <td>8.7</td>\n",
       "      <td>7.1</td>\n",
       "    </tr>\n",
       "    <tr>\n",
       "      <th>14</th>\n",
       "      <td>92.8</td>\n",
       "      <td>4.4</td>\n",
       "      <td>1.0</td>\n",
       "      <td>1.8</td>\n",
       "    </tr>\n",
       "  </tbody>\n",
       "</table>\n",
       "</div>"
      ],
      "text/plain": [
       "    PA-56  PhA  am-based  met-based\n",
       "0    85.6  2.5       6.9        5.0\n",
       "1    80.5  3.6       6.7        9.2\n",
       "2    94.0  0.0       3.8        2.2\n",
       "3    82.4  3.0       9.5        5.1\n",
       "4    83.9  3.9       0.9       11.3\n",
       "5    95.4  0.9       3.7        0.0\n",
       "6    81.3  2.9       7.3        8.5\n",
       "7    82.8  1.8       3.2       12.2\n",
       "8    92.6  4.3       0.0        3.1\n",
       "9    80.0  5.0       9.6        5.4\n",
       "10   84.9  0.2       9.3        5.6\n",
       "11   81.4  0.1       4.6       13.9\n",
       "12   95.6  3.1       1.0        0.3\n",
       "13   80.9  3.3       8.7        7.1\n",
       "14   92.8  4.4       1.0        1.8"
      ]
     },
     "execution_count": 46,
     "metadata": {},
     "output_type": "execute_result"
    }
   ],
   "source": [
    "df_perc_lhsmdu"
   ]
  },
  {
   "cell_type": "code",
   "execution_count": 47,
   "id": "1097f69c-e746-494e-8efb-0873d2aa159e",
   "metadata": {},
   "outputs": [],
   "source": [
    "filepath = Path('Outputs/postprocessed_outputs_15lhsmdu_4dim.csv')  \n",
    "filepath.parent.mkdir(parents=True, exist_ok=True)  \n",
    "df_perc_lhsmdu.to_csv(filepath, float_format='%.1f') "
   ]
  },
  {
   "cell_type": "code",
   "execution_count": 48,
   "id": "62bf2e8e-7a2a-4741-9233-d5f6ea923535",
   "metadata": {
    "tags": []
   },
   "outputs": [
    {
     "data": {
      "text/plain": [
       "0.10865121164010748"
      ]
     },
     "execution_count": 48,
     "metadata": {},
     "output_type": "execute_result"
    }
   ],
   "source": [
    "space = qmc.scale(df_15_samps_lhsmdu, l_bounds, u_bounds, reverse=True)\n",
    "qmc.discrepancy(space)"
   ]
  },
  {
   "cell_type": "code",
   "execution_count": 49,
   "id": "b48c3891-692d-457d-9b30-eb36748936e6",
   "metadata": {},
   "outputs": [
    {
     "data": {
      "text/plain": [
       "0.1366149867398518"
      ]
     },
     "execution_count": 49,
     "metadata": {},
     "output_type": "execute_result"
    }
   ],
   "source": [
    "qmc.discrepancy(space, method='WD')"
   ]
  },
  {
   "cell_type": "code",
   "execution_count": 50,
   "id": "c97cef0e-295a-448c-b95d-768d31f9ec03",
   "metadata": {},
   "outputs": [
    {
     "data": {
      "text/plain": [
       "np.float64(0.10227703443877553)"
      ]
     },
     "execution_count": 50,
     "metadata": {},
     "output_type": "execute_result"
    }
   ],
   "source": [
    "np.linalg.norm(space.var())"
   ]
  },
  {
   "cell_type": "code",
   "execution_count": 51,
   "id": "22820a02-6e1f-4c6d-a959-c250593768a7",
   "metadata": {},
   "outputs": [],
   "source": [
    "df_lhsmdu_with_data = pd.concat([df_15_samps_lhsmdu, df_data], ignore_index=True, axis=0)"
   ]
  },
  {
   "cell_type": "code",
   "execution_count": 52,
   "id": "07341138-6bf4-452e-968e-6c62b5f35b7f",
   "metadata": {},
   "outputs": [
    {
     "data": {
      "text/plain": [
       "0.36160593285506126"
      ]
     },
     "execution_count": 52,
     "metadata": {},
     "output_type": "execute_result"
    }
   ],
   "source": [
    "space = qmc.scale(df_lhsmdu_with_data, l_bounds, u_bounds, reverse=True)\n",
    "qmc.discrepancy(space)#default CD"
   ]
  },
  {
   "cell_type": "code",
   "execution_count": 53,
   "id": "57b14c45-0d99-416d-bc86-fbcac51d7612",
   "metadata": {},
   "outputs": [
    {
     "data": {
      "text/plain": [
       "0.2622104372528448"
      ]
     },
     "execution_count": 53,
     "metadata": {},
     "output_type": "execute_result"
    }
   ],
   "source": [
    "qmc.discrepancy(space, method='WD')"
   ]
  },
  {
   "cell_type": "code",
   "execution_count": 54,
   "id": "3f524686-4e0f-46b9-8434-6a113a022c20",
   "metadata": {},
   "outputs": [
    {
     "data": {
      "text/plain": [
       "np.float64(0.0949335246244331)"
      ]
     },
     "execution_count": 54,
     "metadata": {},
     "output_type": "execute_result"
    }
   ],
   "source": [
    "np.linalg.norm(space.var())"
   ]
  },
  {
   "cell_type": "code",
   "execution_count": 55,
   "id": "36445aaa-6492-4ce6-a781-dedce33f188a",
   "metadata": {},
   "outputs": [
    {
     "name": "stderr",
     "output_type": "stream",
     "text": [
      "The PostScript backend does not support transparency; partially transparent artists will be rendered opaque.\n"
     ]
    },
    {
     "data": {
      "image/png": "[encoded data removed]",
      "text/plain": [
       "<Figure size 640x480 with 1 Axes>"
      ]
     },
     "metadata": {},
     "output_type": "display_data"
    }
   ],
   "source": [
    "pca = PCA(n_components=2)\n",
    "Xt1_pca = pca.fit_transform(data_scaled)\n",
    "Xt2_pca = pca.fit_transform(df_15_samps_scaled)\n",
    "Xt3_pca = pca.fit_transform(df_15_samps_lhsmdu_scaled)\n",
    "    \n",
    "plot_dimred_2dims_both_methods(Xt1_pca, Xt2_pca, Xt3_pca, filename_eps='Figures_4dim/plot_scaled_15pts.eps')"
   ]
  },
  {
   "cell_type": "markdown",
   "id": "efd017d9-694a-4d87-8438-4b6f88505d02",
   "metadata": {},
   "source": [
    "### **7. Distribution plots**"
   ]
  },
  {
   "cell_type": "markdown",
   "id": "b017c0e0-4990-4391-bb23-edf23339f1a3",
   "metadata": {},
   "source": [
    "#### Distribution subplots of unscaled data"
   ]
  },
  {
   "cell_type": "code",
   "execution_count": 56,
   "id": "3999bcc6-b8be-4939-a6c4-d696badb3bf9",
   "metadata": {
    "tags": []
   },
   "outputs": [
    {
     "name": "stderr",
     "output_type": "stream",
     "text": [
      "The PostScript backend does not support transparency; partially transparent artists will be rendered opaque.\n"
     ]
    },
    {
     "data": {
      "image/png": "[encoded data removed]",
      "text/plain": [
       "<Figure size 640x480 with 4 Axes>"
      ]
     },
     "metadata": {},
     "output_type": "display_data"
    }
   ],
   "source": [
    "box_kdeplot_samples(data_array, filename_eps='Figures_4dim/dist_unscaled_expdata.eps')"
   ]
  },
  {
   "cell_type": "code",
   "execution_count": 57,
   "id": "d58fc4d6-ca17-43cf-ac73-9548e4547aef",
   "metadata": {
    "tags": []
   },
   "outputs": [
    {
     "name": "stderr",
     "output_type": "stream",
     "text": [
      "The PostScript backend does not support transparency; partially transparent artists will be rendered opaque.\n"
     ]
    },
    {
     "data": {
      "image/png": "[encoded data removed]",
      "text/plain": [
       "<Figure size 640x480 with 4 Axes>"
      ]
     },
     "metadata": {},
     "output_type": "display_data"
    }
   ],
   "source": [
    "box_kdeplot_samples(df_lhs.to_numpy(), filename_eps='Figures_4dim/dist_unscaled_90ptsLHS.eps')"
   ]
  },
  {
   "cell_type": "code",
   "execution_count": 58,
   "id": "cf959d4f-83da-4d17-92a5-c7ead34826c4",
   "metadata": {
    "tags": []
   },
   "outputs": [
    {
     "name": "stderr",
     "output_type": "stream",
     "text": [
      "The PostScript backend does not support transparency; partially transparent artists will be rendered opaque.\n"
     ]
    },
    {
     "data": {
      "image/png": "[encoded data removed]",
      "text/plain": [
       "<Figure size 640x480 with 4 Axes>"
      ]
     },
     "metadata": {},
     "output_type": "display_data"
    }
   ],
   "source": [
    "box_kdeplot_samples(df_lhsmdu.to_numpy(), filename_eps='Figures_4dim/dist_unscaled_90ptsLHSMDU.eps')"
   ]
  },
  {
   "cell_type": "markdown",
   "id": "266edbb6-63aa-4832-be6e-f16fc07e4ee9",
   "metadata": {},
   "source": [
    "#### Distribution subplots of unscaled reduced data"
   ]
  },
  {
   "cell_type": "code",
   "execution_count": 59,
   "id": "dcafec88-b185-4f85-906a-f131bccf8c41",
   "metadata": {
    "tags": []
   },
   "outputs": [
    {
     "name": "stderr",
     "output_type": "stream",
     "text": [
      "The PostScript backend does not support transparency; partially transparent artists will be rendered opaque.\n"
     ]
    },
    {
     "data": {
      "image/png": "[encoded data removed]",
      "text/plain": [
       "<Figure size 640x480 with 4 Axes>"
      ]
     },
     "metadata": {},
     "output_type": "display_data"
    }
   ],
   "source": [
    "box_kdeplot_samples(data_array, filename_eps='Figures_4dim/dist_unscaled_expdata.eps')"
   ]
  },
  {
   "cell_type": "code",
   "execution_count": 60,
   "id": "ee092016-1ab3-4158-8342-a4f497ac9731",
   "metadata": {
    "tags": []
   },
   "outputs": [
    {
     "name": "stderr",
     "output_type": "stream",
     "text": [
      "The PostScript backend does not support transparency; partially transparent artists will be rendered opaque.\n"
     ]
    },
    {
     "data": {
      "image/png": "[encoded data removed]",
      "text/plain": [
       "<Figure size 640x480 with 4 Axes>"
      ]
     },
     "metadata": {},
     "output_type": "display_data"
    }
   ],
   "source": [
    "box_kdeplot_samples(tol_samples_unscaled, filename_eps='Figures_4dim/dist_unscaled_15ptsLHS.eps')"
   ]
  },
  {
   "cell_type": "code",
   "execution_count": 61,
   "id": "d57d4c5c-d0b9-4dc2-94e4-3f4465a30135",
   "metadata": {
    "tags": []
   },
   "outputs": [
    {
     "name": "stderr",
     "output_type": "stream",
     "text": [
      "The PostScript backend does not support transparency; partially transparent artists will be rendered opaque.\n"
     ]
    },
    {
     "data": {
      "image/png": "[encoded data removed]",
      "text/plain": [
       "<Figure size 640x480 with 4 Axes>"
      ]
     },
     "metadata": {},
     "output_type": "display_data"
    }
   ],
   "source": [
    "box_kdeplot_samples(tol_samples_LHSMDU_unscaled, filename_eps='Figures_4dim/dist_unscaled_15ptsLHSMDU.eps')"
   ]
  },
  {
   "cell_type": "markdown",
   "id": "36c1c9f8-41b2-459e-ad73-b8d6ba55a318",
   "metadata": {},
   "source": [
    "### **8. Discrepancy for LHS and LHSMDU without constraints**"
   ]
  },
  {
   "cell_type": "markdown",
   "id": "326f9629-4eca-4e6c-9920-f867030803ab",
   "metadata": {},
   "source": [
    "#### LHS"
   ]
  },
  {
   "cell_type": "code",
   "execution_count": 62,
   "id": "902111a1-c643-43fc-8932-452636daf96d",
   "metadata": {
    "tags": []
   },
   "outputs": [],
   "source": [
    "n_samp = 90\n",
    "seed = 1234\n",
    "dim = 4\n",
    "\n",
    "sampler_new = qmc.LatinHypercube(d=dim, seed=seed)\n",
    "sample = sampler_new.random(n=n_samp)\n",
    "sample = qmc.scale(sample, l_bounds, u_bounds)"
   ]
  },
  {
   "cell_type": "code",
   "execution_count": 63,
   "id": "0b255451-0744-49a0-a1ac-63c98ffe6447",
   "metadata": {
    "tags": []
   },
   "outputs": [
    {
     "data": {
      "text/plain": [
       "np.float64(0.13776673454913052)"
      ]
     },
     "execution_count": 63,
     "metadata": {},
     "output_type": "execute_result"
    }
   ],
   "source": [
    "np.linalg.norm(sample.var())"
   ]
  },
  {
   "cell_type": "code",
   "execution_count": 64,
   "id": "3b1754e3-90fd-438d-84c1-ba149498dde9",
   "metadata": {
    "tags": []
   },
   "outputs": [
    {
     "data": {
      "text/plain": [
       "2.2501202097322692"
      ]
     },
     "execution_count": 64,
     "metadata": {},
     "output_type": "execute_result"
    }
   ],
   "source": [
    "qmc.discrepancy(sample)"
   ]
  },
  {
   "cell_type": "code",
   "execution_count": 65,
   "id": "8798a457-5156-4358-a603-59b77873230a",
   "metadata": {
    "tags": []
   },
   "outputs": [
    {
     "data": {
      "text/plain": [
       "1.4099637484686445"
      ]
     },
     "execution_count": 65,
     "metadata": {},
     "output_type": "execute_result"
    }
   ],
   "source": [
    "qmc.discrepancy(sample, method=\"WD\")"
   ]
  },
  {
   "cell_type": "markdown",
   "id": "52ca0397-852d-4ee0-af7c-620c7869a568",
   "metadata": {},
   "source": [
    "#### LHSMDU"
   ]
  },
  {
   "cell_type": "code",
   "execution_count": 66,
   "id": "8f399549-6da7-4355-9cca-d4bc8e47a6e8",
   "metadata": {
    "tags": []
   },
   "outputs": [],
   "source": [
    "seed = 1234\n",
    "lhsmdu.setRandomSeed(seed)\n",
    "sample_LHSMDU = lhsmdu.sample(4, n_samp).transpose()\n",
    "sample_LHSMDU = qmc.scale(sample_LHSMDU, l_bounds, u_bounds)"
   ]
  },
  {
   "cell_type": "code",
   "execution_count": 67,
   "id": "8a9fa42a-a9a2-4d2b-b685-b1e8bba8d566",
   "metadata": {
    "tags": []
   },
   "outputs": [
    {
     "data": {
      "text/plain": [
       "np.float64(0.13778413014386207)"
      ]
     },
     "execution_count": 67,
     "metadata": {},
     "output_type": "execute_result"
    }
   ],
   "source": [
    "np.linalg.norm(sample_LHSMDU.var())"
   ]
  },
  {
   "cell_type": "code",
   "execution_count": 68,
   "id": "d523bfa6-cd4a-4e75-af1b-43e657f33f5b",
   "metadata": {
    "tags": []
   },
   "outputs": [
    {
     "data": {
      "text/plain": [
       "2.2498156171362402"
      ]
     },
     "execution_count": 68,
     "metadata": {},
     "output_type": "execute_result"
    }
   ],
   "source": [
    "qmc.discrepancy(sample_LHSMDU)"
   ]
  },
  {
   "cell_type": "code",
   "execution_count": 69,
   "id": "c65a2891-4e10-47bf-a45b-871591eb5e6f",
   "metadata": {
    "tags": []
   },
   "outputs": [
    {
     "data": {
      "text/plain": [
       "1.4093859929155612"
      ]
     },
     "execution_count": 69,
     "metadata": {},
     "output_type": "execute_result"
    }
   ],
   "source": [
    "qmc.discrepancy(sample_LHSMDU, method=\"WD\")"
   ]
  },
  {
   "cell_type": "markdown",
   "id": "9433b16c-6f84-4db6-8e6b-98a011ef6ea6",
   "metadata": {},
   "source": [
    "#### Selected LHS and LHSMDU Samples by checking distance from data"
   ]
  },
  {
   "cell_type": "code",
   "execution_count": 70,
   "id": "b967166c-d31a-4314-bcb5-bfbbc426df25",
   "metadata": {},
   "outputs": [],
   "source": [
    "tol = 5e-1\n",
    "tol2 = 5e-1\n",
    "des_n_samp = 15\n",
    "\n",
    "tol_samples_comp, tol_samples_LHSMDU_comp, tol_samples_unscaled_comp, tol_samples_LHSMDU_unscaled_comp = select_samples_diff_from_data(exp_data=data_array, samples_LHS=sample, samples_LHSMDU=sample_LHSMDU, des_n_samp = des_n_samp, tol = tol, tol2 = tol2)\n"
   ]
  },
  {
   "cell_type": "code",
   "execution_count": 71,
   "id": "8e71044f-5ad9-45bb-825f-242db5054899",
   "metadata": {},
   "outputs": [],
   "source": [
    "df_15_samps_scaled_comp = pd.DataFrame(tol_samples_comp,columns=['PA-56','PhA','am-based','met-based'])\n",
    "df_15_samps_comp = pd.DataFrame(tol_samples_unscaled_comp,columns=['PA-56','PhA','am-based','met-based'])"
   ]
  },
  {
   "cell_type": "code",
   "execution_count": 72,
   "id": "82c2977d-65ec-4713-b2da-341c0a121d27",
   "metadata": {
    "tags": []
   },
   "outputs": [
    {
     "data": {
      "text/html": [
       "<div>\n",
       "<style scoped>\n",
       "    .dataframe tbody tr th:only-of-type {\n",
       "        vertical-align: middle;\n",
       "    }\n",
       "\n",
       "    .dataframe tbody tr th {\n",
       "        vertical-align: top;\n",
       "    }\n",
       "\n",
       "    .dataframe thead th {\n",
       "        text-align: right;\n",
       "    }\n",
       "</style>\n",
       "<table border=\"1\" class=\"dataframe\">\n",
       "  <thead>\n",
       "    <tr style=\"text-align: right;\">\n",
       "      <th></th>\n",
       "      <th>PA-56</th>\n",
       "      <th>PhA</th>\n",
       "      <th>am-based</th>\n",
       "      <th>met-based</th>\n",
       "    </tr>\n",
       "  </thead>\n",
       "  <tbody>\n",
       "    <tr>\n",
       "      <th>0</th>\n",
       "      <td>0.945</td>\n",
       "      <td>0.013</td>\n",
       "      <td>0.088</td>\n",
       "      <td>0.118</td>\n",
       "    </tr>\n",
       "    <tr>\n",
       "      <th>1</th>\n",
       "      <td>0.826</td>\n",
       "      <td>0.017</td>\n",
       "      <td>0.038</td>\n",
       "      <td>0.088</td>\n",
       "    </tr>\n",
       "    <tr>\n",
       "      <th>2</th>\n",
       "      <td>0.834</td>\n",
       "      <td>0.018</td>\n",
       "      <td>0.012</td>\n",
       "      <td>0.095</td>\n",
       "    </tr>\n",
       "    <tr>\n",
       "      <th>3</th>\n",
       "      <td>0.831</td>\n",
       "      <td>0.002</td>\n",
       "      <td>0.036</td>\n",
       "      <td>0.102</td>\n",
       "    </tr>\n",
       "    <tr>\n",
       "      <th>4</th>\n",
       "      <td>0.869</td>\n",
       "      <td>0.001</td>\n",
       "      <td>0.078</td>\n",
       "      <td>0.013</td>\n",
       "    </tr>\n",
       "    <tr>\n",
       "      <th>5</th>\n",
       "      <td>0.922</td>\n",
       "      <td>0.045</td>\n",
       "      <td>0.076</td>\n",
       "      <td>0.105</td>\n",
       "    </tr>\n",
       "    <tr>\n",
       "      <th>6</th>\n",
       "      <td>0.965</td>\n",
       "      <td>0.041</td>\n",
       "      <td>0.034</td>\n",
       "      <td>0.127</td>\n",
       "    </tr>\n",
       "    <tr>\n",
       "      <th>7</th>\n",
       "      <td>0.809</td>\n",
       "      <td>0.028</td>\n",
       "      <td>0.012</td>\n",
       "      <td>0.122</td>\n",
       "    </tr>\n",
       "    <tr>\n",
       "      <th>8</th>\n",
       "      <td>0.961</td>\n",
       "      <td>0.047</td>\n",
       "      <td>0.023</td>\n",
       "      <td>0.005</td>\n",
       "    </tr>\n",
       "    <tr>\n",
       "      <th>9</th>\n",
       "      <td>0.910</td>\n",
       "      <td>0.043</td>\n",
       "      <td>0.099</td>\n",
       "      <td>0.104</td>\n",
       "    </tr>\n",
       "    <tr>\n",
       "      <th>10</th>\n",
       "      <td>0.987</td>\n",
       "      <td>0.032</td>\n",
       "      <td>0.027</td>\n",
       "      <td>0.135</td>\n",
       "    </tr>\n",
       "    <tr>\n",
       "      <th>11</th>\n",
       "      <td>0.839</td>\n",
       "      <td>0.007</td>\n",
       "      <td>0.071</td>\n",
       "      <td>0.011</td>\n",
       "    </tr>\n",
       "    <tr>\n",
       "      <th>12</th>\n",
       "      <td>0.935</td>\n",
       "      <td>0.042</td>\n",
       "      <td>0.074</td>\n",
       "      <td>0.136</td>\n",
       "    </tr>\n",
       "    <tr>\n",
       "      <th>13</th>\n",
       "      <td>0.976</td>\n",
       "      <td>0.031</td>\n",
       "      <td>0.096</td>\n",
       "      <td>0.094</td>\n",
       "    </tr>\n",
       "    <tr>\n",
       "      <th>14</th>\n",
       "      <td>0.986</td>\n",
       "      <td>0.049</td>\n",
       "      <td>0.045</td>\n",
       "      <td>0.131</td>\n",
       "    </tr>\n",
       "  </tbody>\n",
       "</table>\n",
       "</div>"
      ],
      "text/plain": [
       "    PA-56    PhA  am-based  met-based\n",
       "0   0.945  0.013     0.088      0.118\n",
       "1   0.826  0.017     0.038      0.088\n",
       "2   0.834  0.018     0.012      0.095\n",
       "3   0.831  0.002     0.036      0.102\n",
       "4   0.869  0.001     0.078      0.013\n",
       "5   0.922  0.045     0.076      0.105\n",
       "6   0.965  0.041     0.034      0.127\n",
       "7   0.809  0.028     0.012      0.122\n",
       "8   0.961  0.047     0.023      0.005\n",
       "9   0.910  0.043     0.099      0.104\n",
       "10  0.987  0.032     0.027      0.135\n",
       "11  0.839  0.007     0.071      0.011\n",
       "12  0.935  0.042     0.074      0.136\n",
       "13  0.976  0.031     0.096      0.094\n",
       "14  0.986  0.049     0.045      0.131"
      ]
     },
     "execution_count": 72,
     "metadata": {},
     "output_type": "execute_result"
    }
   ],
   "source": [
    "df_15_samps_comp"
   ]
  },
  {
   "cell_type": "code",
   "execution_count": 73,
   "id": "de66af2b-7487-4617-bf97-fcbb7202324f",
   "metadata": {
    "tags": []
   },
   "outputs": [
    {
     "data": {
      "text/plain": [
       "0.11384334197946648"
      ]
     },
     "execution_count": 73,
     "metadata": {},
     "output_type": "execute_result"
    }
   ],
   "source": [
    "space_comp = qmc.scale(df_15_samps_comp, l_bounds, u_bounds, reverse=True)\n",
    "qmc.discrepancy(space_comp)"
   ]
  },
  {
   "cell_type": "code",
   "execution_count": 74,
   "id": "14ecc8bb-d2e7-48a5-87d2-e43a9235cd32",
   "metadata": {},
   "outputs": [
    {
     "data": {
      "text/plain": [
       "0.18016163954334843"
      ]
     },
     "execution_count": 74,
     "metadata": {},
     "output_type": "execute_result"
    }
   ],
   "source": [
    "qmc.discrepancy(space_comp, method='WD')"
   ]
  },
  {
   "cell_type": "code",
   "execution_count": 75,
   "id": "81267be9-fa0a-460b-87dc-43c1d934f658",
   "metadata": {
    "tags": []
   },
   "outputs": [
    {
     "data": {
      "text/plain": [
       "np.float64(0.10032320564058958)"
      ]
     },
     "execution_count": 75,
     "metadata": {},
     "output_type": "execute_result"
    }
   ],
   "source": [
    "np.linalg.norm(space_comp.var())"
   ]
  },
  {
   "cell_type": "code",
   "execution_count": 76,
   "id": "525bbd5d-5f3d-4d33-a2a5-abfb54b86d67",
   "metadata": {},
   "outputs": [],
   "source": [
    "df_15_samps_lhsmdu_scaled_comp = pd.DataFrame(tol_samples_LHSMDU_comp,columns=['PA-56','PhA','am-based','met-based'])\n",
    "df_15_samps_lhsmdu_comp = pd.DataFrame(tol_samples_LHSMDU_unscaled_comp,columns=['PA-56','PhA','am-based','met-based'])"
   ]
  },
  {
   "cell_type": "code",
   "execution_count": 77,
   "id": "cbe4530e-2bc1-4566-bd21-1c9a1de3ea54",
   "metadata": {
    "tags": []
   },
   "outputs": [
    {
     "data": {
      "text/plain": [
       "0.09733487691451843"
      ]
     },
     "execution_count": 77,
     "metadata": {},
     "output_type": "execute_result"
    }
   ],
   "source": [
    "space_comp = qmc.scale(df_15_samps_lhsmdu_comp, l_bounds, u_bounds, reverse=True)\n",
    "qmc.discrepancy(space_comp)"
   ]
  },
  {
   "cell_type": "code",
   "execution_count": 78,
   "id": "e7752a8e-77f7-4dc9-81de-e73f2fc70d9e",
   "metadata": {},
   "outputs": [
    {
     "data": {
      "text/plain": [
       "0.2212491277844194"
      ]
     },
     "execution_count": 78,
     "metadata": {},
     "output_type": "execute_result"
    }
   ],
   "source": [
    "qmc.discrepancy(space_comp, method='WD')"
   ]
  },
  {
   "cell_type": "code",
   "execution_count": 79,
   "id": "0755fae8-71af-4641-9760-84b05ab3410b",
   "metadata": {},
   "outputs": [
    {
     "data": {
      "text/plain": [
       "np.float64(0.10327768140589569)"
      ]
     },
     "execution_count": 79,
     "metadata": {},
     "output_type": "execute_result"
    }
   ],
   "source": [
    "np.linalg.norm(space_comp.var())"
   ]
  },
  {
   "cell_type": "markdown",
   "id": "1b716339-042d-41fb-a2c6-c1c00ea09cdb",
   "metadata": {},
   "source": [
    "#### Selected samples with data"
   ]
  },
  {
   "cell_type": "code",
   "execution_count": 80,
   "id": "ed602098-0cfb-4eb9-bee0-7a88083c4c5e",
   "metadata": {
    "tags": []
   },
   "outputs": [],
   "source": [
    "df_with_data_comp = pd.concat([df_15_samps_comp, df_data], ignore_index=True, axis=0)\n",
    "df_lhsmdu_with_data_comp = pd.concat([df_15_samps_lhsmdu_comp, df_data], ignore_index=True, axis=0)"
   ]
  },
  {
   "cell_type": "code",
   "execution_count": 81,
   "id": "9190713f-fa8c-4ce2-810d-6c36fc826eec",
   "metadata": {
    "tags": []
   },
   "outputs": [
    {
     "data": {
      "text/plain": [
       "0.3346614774204404"
      ]
     },
     "execution_count": 81,
     "metadata": {},
     "output_type": "execute_result"
    }
   ],
   "source": [
    "space_comp = qmc.scale(df_with_data_comp, l_bounds, u_bounds, reverse=True)\n",
    "qmc.discrepancy(space_comp)"
   ]
  },
  {
   "cell_type": "code",
   "execution_count": 82,
   "id": "9f9066bb-db41-4298-a4fc-2cd358771e47",
   "metadata": {},
   "outputs": [
    {
     "data": {
      "text/plain": [
       "0.2602568349083642"
      ]
     },
     "execution_count": 82,
     "metadata": {},
     "output_type": "execute_result"
    }
   ],
   "source": [
    "qmc.discrepancy(space_comp, method='WD')"
   ]
  },
  {
   "cell_type": "code",
   "execution_count": 83,
   "id": "547c845e-ccb7-4fc7-aa79-6f0b86e86654",
   "metadata": {},
   "outputs": [
    {
     "data": {
      "text/plain": [
       "np.float64(0.10086750566499746)"
      ]
     },
     "execution_count": 83,
     "metadata": {},
     "output_type": "execute_result"
    }
   ],
   "source": [
    "np.linalg.norm(space_comp.var())"
   ]
  },
  {
   "cell_type": "code",
   "execution_count": 84,
   "id": "4c35cc95-92b7-41ff-a080-502c4066432e",
   "metadata": {
    "tags": []
   },
   "outputs": [
    {
     "data": {
      "text/plain": [
       "0.3423673720877442"
      ]
     },
     "execution_count": 84,
     "metadata": {},
     "output_type": "execute_result"
    }
   ],
   "source": [
    "space_comp = qmc.scale(df_lhsmdu_with_data_comp, l_bounds, u_bounds, reverse=True)\n",
    "qmc.discrepancy(space_comp)"
   ]
  },
  {
   "cell_type": "code",
   "execution_count": 85,
   "id": "c5caeb84-2a39-44d3-8dbd-b3c27e99d610",
   "metadata": {},
   "outputs": [
    {
     "data": {
      "text/plain": [
       "0.24987945648802332"
      ]
     },
     "execution_count": 85,
     "metadata": {},
     "output_type": "execute_result"
    }
   ],
   "source": [
    "qmc.discrepancy(space_comp, method='WD')"
   ]
  },
  {
   "cell_type": "code",
   "execution_count": 86,
   "id": "20a359e0-75f5-4201-968c-cb82ced2d09c",
   "metadata": {},
   "outputs": [
    {
     "data": {
      "text/plain": [
       "np.float64(0.09937472504094227)"
      ]
     },
     "execution_count": 86,
     "metadata": {},
     "output_type": "execute_result"
    }
   ],
   "source": [
    "np.linalg.norm(space_comp.var())"
   ]
  }
 ],
 "metadata": {
  "kernelspec": {
   "display_name": "Python 3 (ipykernel)",
   "language": "python",
   "name": "python3"
  },
  "language_info": {
   "codemirror_mode": {
    "name": "ipython",
    "version": 3
   },
   "file_extension": ".py",
   "mimetype": "text/x-python",
   "name": "python",
   "nbconvert_exporter": "python",
   "pygments_lexer": "ipython3",
   "version": "3.9.18"
  }
 },
 "nbformat": 4,
 "nbformat_minor": 5
}
